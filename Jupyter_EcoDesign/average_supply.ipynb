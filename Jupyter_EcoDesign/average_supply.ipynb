{
 "cells": [
  {
   "cell_type": "code",
   "execution_count": 1,
   "metadata": {},
   "outputs": [],
   "source": [
    "import pandas as pd\n",
    "import matplotlib.pyplot as plt\n",
    "import numpy as np\n",
    "import calendar\n",
    "%matplotlib inline"
   ]
  },
  {
   "cell_type": "code",
   "execution_count": 3,
   "metadata": {
    "scrolled": true
   },
   "outputs": [],
   "source": [
    "df = pd.read_csv('power_supply.csv')\n",
    "\n",
    "for i in range (12):\n",
    "    output_csv = df[df.Month == i+1]\n",
    "    output_csv = output_csv.groupby(\"Hour\").mean()\n",
    "    csv_filename = 'Average_output/'+str(calendar.month_name[i+1])+'_average.csv'\n",
    "    output_csv.to_csv(csv_filename ,encoding=\"SHIFT-JIS\")  \n",
    "    \n",
    "#august.head()"
   ]
  },
  {
   "cell_type": "code",
   "execution_count": null,
   "metadata": {},
   "outputs": [],
   "source": [
    "august_ave = august.groupby(\"Hour\").mean()\n",
    "august_ave.to_csv(\"august_average.csv\")\n",
    "\n",
    "fig = plt.figure(figsize=(12,4))\n",
    "\n",
    "ax1 = fig.add_subplot(121)\n",
    "ax1.bar(august_ave.index, august_ave[\"Pwt(kWh/unit)\"])\n",
    "ax1.set_title(\"Wind(August)\")\n",
    "ax1.set_xlabel(\"Hour\")\n",
    "ax1.set_ylim([0,0.2])\n",
    "\n",
    "ax2 = fig.add_subplot(122)\n",
    "ax2.bar(august_ave.index, august_ave[\"Ppv(kWh/unit)\"])\n",
    "ax2.set_title(\"PV(August)\")\n",
    "ax2.set_xlabel(\"Hour\")\n",
    "ax2.set_ylim([0,0.2])\n",
    "fig.show()"
   ]
  },
  {
   "cell_type": "code",
   "execution_count": null,
   "metadata": {},
   "outputs": [],
   "source": []
  }
 ],
 "metadata": {
  "kernelspec": {
   "display_name": "Python 3",
   "language": "python",
   "name": "python3"
  },
  "language_info": {
   "codemirror_mode": {
    "name": "ipython",
    "version": 3
   },
   "file_extension": ".py",
   "mimetype": "text/x-python",
   "name": "python",
   "nbconvert_exporter": "python",
   "pygments_lexer": "ipython3",
   "version": "3.7.1"
  },
  "latex_envs": {
   "LaTeX_envs_menu_present": true,
   "autoclose": false,
   "autocomplete": true,
   "bibliofile": "biblio.bib",
   "cite_by": "apalike",
   "current_citInitial": 1,
   "eqLabelWithNumbers": true,
   "eqNumInitial": 1,
   "hotkeys": {
    "equation": "Ctrl-E",
    "itemize": "Ctrl-I"
   },
   "labels_anchors": false,
   "latex_user_defs": false,
   "report_style_numbering": false,
   "user_envs_cfg": false
  },
  "varInspector": {
   "cols": {
    "lenName": 16,
    "lenType": 16,
    "lenVar": 40
   },
   "kernels_config": {
    "python": {
     "delete_cmd_postfix": "",
     "delete_cmd_prefix": "del ",
     "library": "var_list.py",
     "varRefreshCmd": "print(var_dic_list())"
    },
    "r": {
     "delete_cmd_postfix": ") ",
     "delete_cmd_prefix": "rm(",
     "library": "var_list.r",
     "varRefreshCmd": "cat(var_dic_list()) "
    }
   },
   "types_to_exclude": [
    "module",
    "function",
    "builtin_function_or_method",
    "instance",
    "_Feature"
   ],
   "window_display": false
  }
 },
 "nbformat": 4,
 "nbformat_minor": 2
}
