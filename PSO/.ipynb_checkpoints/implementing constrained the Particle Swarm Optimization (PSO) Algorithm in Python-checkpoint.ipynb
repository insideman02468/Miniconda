{
 "cells": [
  {
   "cell_type": "code",
   "execution_count": 1,
   "metadata": {},
   "outputs": [
    {
     "name": "stdout",
     "output_type": "stream",
     "text": [
      "Inform the number of iterations: 100\n",
      "Inform the number of particles: 30\n"
     ]
    },
    {
     "ename": "NameError",
     "evalue": "name 'particle_position_vector' is not defined",
     "output_type": "error",
     "traceback": [
      "\u001b[0;31m---------------------------------------------------------------------------\u001b[0m",
      "\u001b[0;31mNameError\u001b[0m                                 Traceback (most recent call last)",
      "\u001b[0;32m<ipython-input-1-42cb4aee1133>\u001b[0m in \u001b[0;36m<module>\u001b[0;34m\u001b[0m\n\u001b[1;32m     26\u001b[0m \u001b[0mn_particles\u001b[0m \u001b[0;34m=\u001b[0m \u001b[0mint\u001b[0m\u001b[0;34m(\u001b[0m\u001b[0minput\u001b[0m\u001b[0;34m(\u001b[0m\u001b[0;34m\"Inform the number of particles: \"\u001b[0m\u001b[0;34m)\u001b[0m\u001b[0;34m)\u001b[0m\u001b[0;34m\u001b[0m\u001b[0;34m\u001b[0m\u001b[0m\n\u001b[1;32m     27\u001b[0m \u001b[0;34m\u001b[0m\u001b[0m\n\u001b[0;32m---> 28\u001b[0;31m \u001b[0;32mwhile\u001b[0m \u001b[0mconstraint\u001b[0m\u001b[0;34m(\u001b[0m\u001b[0mparticle_position_vector\u001b[0m\u001b[0;34m)\u001b[0m \u001b[0;34m==\u001b[0m \u001b[0;34m'True'\u001b[0m\u001b[0;34m:\u001b[0m\u001b[0;34m\u001b[0m\u001b[0;34m\u001b[0m\u001b[0m\n\u001b[0m\u001b[1;32m     29\u001b[0m     \u001b[0mparticle_position_vector\u001b[0m \u001b[0;34m=\u001b[0m\u001b[0;31m \u001b[0m\u001b[0;31m\\\u001b[0m\u001b[0;34m\u001b[0m\u001b[0;34m\u001b[0m\u001b[0m\n\u001b[1;32m     30\u001b[0m     np.array([np.array([(-1) ** (bool(random.getrandbits(1))) * random.random()*50, (-1)**(bool(random.getrandbits(1))) * random.random()*50]) \\\n",
      "\u001b[0;31mNameError\u001b[0m: name 'particle_position_vector' is not defined"
     ]
    }
   ],
   "source": [
    "import random\n",
    "import numpy as np \n",
    "\n",
    "#function that models the problem\n",
    "def fitness_function(position):\n",
    "    x=position[0]\n",
    "    y=position[1]\n",
    "    ans=(x-1)**2+(y-2)**2+3\n",
    "    return ans\n",
    "\n",
    "#when it has problems on constraint, this function outputs 0\n",
    "def constraint(position):\n",
    "    judge='False'\n",
    "    x=position[0]\n",
    "    y=position[1]\n",
    "    if x > 4 and y > 5 :\n",
    "        judge='True'\n",
    "    return judge\n",
    "\n",
    "#Some variables to calculate the velocity\n",
    "W = 0.5\n",
    "c1 = 0.5\n",
    "c2 = 0.9\n",
    "\n",
    "n_iterations = int(input(\"Inform the number of iterations: \"))\n",
    "n_particles = int(input(\"Inform the number of particles: \"))\n",
    "\n",
    "\n",
    "\n",
    "particle_position_vector = \\\n",
    "np.array([np.array([(-1) ** (bool(random.getrandbits(1))) * random.random()*50, (-1)**(bool(random.getrandbits(1))) * random.random()*50]) \\\n",
    "          for _ in range(n_particles)])\n",
    "\n",
    "pbest_position = \\\n",
    "np.array([np.array([np.random.rand()*500, np.random.rand()*500]) \\\n",
    "          for _ in range(n_particles)])\n",
    "\n",
    "pbest_fitness_value = np.array([float('inf') for _ in range(n_particles)])\n",
    "gbest_fitness_value = float('inf')\n",
    "gbest_position = pbest_position\n",
    "\n",
    "velocity_vector = ([np.array([0, 0]) for _ in range(n_particles)])\n",
    "iteration = 0\n",
    "while iteration < n_iterations:\n",
    "    print('iteration','=',str(iteration))\n",
    "    print(\"function cost =\", fitness_function(gbest_position), \"in iteration number \", iteration)\n",
    "    for i in range(n_particles):\n",
    "        fitness_cadidate = fitness_function(particle_position_vector[i])\n",
    "        print('particle_position[',str(i),'] ',fitness_cadidate, 'particle_vector[',str(i),'] ', particle_position_vector[i])\n",
    "        \n",
    "        if(pbest_fitness_value[i] > fitness_cadidate):\n",
    "            pbest_fitness_value[i] = fitness_cadidate\n",
    "            pbest_position[i] = particle_position_vector[i]\n",
    "\n",
    "        if(gbest_fitness_value > fitness_cadidate):\n",
    "            gbest_fitness_value = fitness_cadidate\n",
    "            gbest_position = particle_position_vector[i]\n",
    "    \n",
    "    \n",
    "    for i in range(n_particles):\n",
    "        while constraint(particle_position_vector[i]) == 'True':\n",
    "            new_velocity = (W*velocity_vector[i]) + (c1*random.random()) * (pbest_position[i] - particle_position_vector[i]) + (c2*random.random()) * (gbest_position-particle_position_vector[i])\n",
    "            new_position = new_velocity + particle_position_vector[i]\n",
    "            particle_position_vector[i] = new_position\n",
    "\n",
    "    iteration = iteration + 1"
   ]
  },
  {
   "cell_type": "code",
   "execution_count": null,
   "metadata": {},
   "outputs": [],
   "source": [
    "print(\"The best position is \", gbest_position, \"in iteration number \", iteration)\n",
    "print(\"The best cost is \", fitness_function(gbest_position))"
   ]
  },
  {
   "cell_type": "code",
   "execution_count": null,
   "metadata": {},
   "outputs": [],
   "source": []
  }
 ],
 "metadata": {
  "kernelspec": {
   "display_name": "Python 3",
   "language": "python",
   "name": "python3"
  },
  "language_info": {
   "codemirror_mode": {
    "name": "ipython",
    "version": 3
   },
   "file_extension": ".py",
   "mimetype": "text/x-python",
   "name": "python",
   "nbconvert_exporter": "python",
   "pygments_lexer": "ipython3",
   "version": "3.6.7"
  }
 },
 "nbformat": 4,
 "nbformat_minor": 2
}
