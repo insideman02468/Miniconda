{
 "cells": [
  {
   "cell_type": "code",
   "execution_count": 1,
   "metadata": {},
   "outputs": [
    {
     "name": "stdout",
     "output_type": "stream",
     "text": [
      "Populating the interactive namespace from numpy and matplotlib\n"
     ]
    }
   ],
   "source": [
    "from MicrogridPSO_module import *\n",
    "from MicrogridPSO_module_flowchart import *\n",
    "from MicrogridPSO_module_PSO import *\n",
    "from MicrogridPSO_pareto_animation import *\n",
    "%pylab inline --no-import-all"
   ]
  },
  {
   "cell_type": "code",
   "execution_count": 2,
   "metadata": {},
   "outputs": [],
   "source": [
    "# CSVを読み込みインスタンスを作成。\n",
    "PSO = MicrogridPSO_initialize(\"Forecast/Target_input.csv\")\n",
    "\n",
    "# 初期値を設定\n",
    "PSO.set_initial_input_values({\n",
    "    \"number_demand\": 1,\n",
    "    \"pv_capacity_per_unit\": 245,\n",
    "    \"wind_capacity_per_unit\": 2.3,\n",
    "    \"SOC_max[%]\": 0.8,\n",
    "    \"SOC_min[%]\": 0.2,\n",
    "    \"SOC_start[%]\": 0.5\n",
    "})\n",
    "\n",
    "# 初期値を設定\n",
    "PSO.set_initial_cost_parameters({\n",
    "    \"It_PV_1kW[yen/year]\": [726383.3333, 0, 0, 0, 0, 0, 0, 0, 0, 0, 0, 0, 0, 0, 0, 0, 0, 0, 0, 0],\n",
    "    \"Mt_PV_1kW[yen/year]\": [4329] * 20,\n",
    "    \"Ft_PV_1kW[yen/year]\": [0] * 20,\n",
    "    \"It_Wind_1kW[yen/year]\": [302274.7826, 0, 0, 0, 0, 0, 0, 0, 0, 0, 0, 0, 0, 0, 0, 0, 0, 0, 0, 0],\n",
    "    \"Mt_Wind_1kW[yen/year]\": [662.785213] * 20,\n",
    "    \"Ft_Wind_1kW[yen/year]\": [0] * 20,\n",
    "    \"It_Diesel_1kW[yen/year]\": [33611.11, 33611.11, 0, 33611.11, 33611.11, 0, 33611.11, 33611.11, 0, 33611.11,\n",
    "                                33611.11, 0, 33611.11, 33611.11, 0, 33611.11, 33611.11, 0, 33611.11, 33611.11],\n",
    "    \"Mt_Diesel_1kW[yen/year]\": [8.8] * 20,\n",
    "    \"Diesel_Pf\": 129,\n",
    "    \"Diesel_Adg\": 0.2461,\n",
    "    \"Diesel_Bdg\": 0.081451,\n",
    "    \"It_Battery_1kW[yen/year]\": [13540, 0, 0, 0, 13540, 0, 0, 0, 13540, 0, 0, 0, 13540, 0, 0, 0, 13540, 0, 0, 0],\n",
    "    \"Mt_Battery_1kW[yen/year]\": [1100] * 20,\n",
    "    \"Ft_Battery_1kW[yen/year]\": [0] * 20,\n",
    "    \"Sell_income_from_trashed[kWh/yen]\": [0] * 20,\n",
    "    \"r[yen/year]\": [0.0234375] * 20,\n",
    "    \"operation_year\": list(range(1, 21))\n",
    "})\n",
    "\n",
    "PSO.update_fitness_variable_parameters(\n",
    "    {'pv_cap_max': 8.6e+03,\n",
    "     'wind_cap_max': 2.4,\n",
    "     'battery_cap_max': 6.53e+01,\n",
    "     'diesel_max': 7.76})"
   ]
  },
  {
   "cell_type": "code",
   "execution_count": 3,
   "metadata": {},
   "outputs": [
    {
     "data": {
      "text/plain": [
       "Index(['2017/1/1 0:00', '2017/1/1 1:00', '2017/1/1 2:00', '2017/1/1 3:00',\n",
       "       '2017/1/1 4:00', '2017/1/1 5:00', '2017/1/1 6:00', '2017/1/1 7:00',\n",
       "       '2017/1/1 8:00', '2017/1/1 9:00',\n",
       "       ...\n",
       "       '2017/12/31 14:00', '2017/12/31 15:00', '2017/12/31 16:00',\n",
       "       '2017/12/31 17:00', '2017/12/31 18:00', '2017/12/31 19:00',\n",
       "       '2017/12/31 20:00', '2017/12/31 21:00', '2017/12/31 22:00',\n",
       "       '2017/12/31 23:00'],\n",
       "      dtype='object', name='Time', length=8760)"
      ]
     },
     "execution_count": 3,
     "metadata": {},
     "output_type": "execute_result"
    }
   ],
   "source": [
    "PSO.Target_input.index"
   ]
  },
  {
   "cell_type": "code",
   "execution_count": null,
   "metadata": {
    "scrolled": true
   },
   "outputs": [],
   "source": [
    "%%time\n",
    "\n",
    "#計算結果を実行\n",
    "df, total_check, variables, total_cost, PSO.SCL, PSO.SEL, success_loops, failed_loops = loop_flowchart(PSO)"
   ]
  },
  {
   "cell_type": "code",
   "execution_count": null,
   "metadata": {},
   "outputs": [],
   "source": [
    "df"
   ]
  },
  {
   "cell_type": "code",
   "execution_count": null,
   "metadata": {},
   "outputs": [],
   "source": [
    "plt.figure(figsize=(18,25))\n",
    "#subplot(3,3,1)\n",
    "plt.subplot(5,1,1)\n",
    "plt.bar(df[\"hour\"],df[\"pv\"],label=\"pv output\")\n",
    "plt.bar(df[\"hour\"],df[\"wind\"],bottom=df[\"pv\"],label=\"wind output\")\n",
    "plt.bar(df[\"hour\"],df[\"diesel power\"],bottom=df[\"pv\"]+df[\"wind\"],label=\"diesel power\")\n",
    "plt.bar(df[\"hour\"],df[\"battery_discharging_power\"],bottom=df[\"pv\"]+df[\"wind\"]+df[\"diesel power\"],label=\"battery_discharge\")\n",
    "plt.plot(df[\"hour\"],df[\"battery_charging_power\"],label=\"battery_charge\" ,lw=2, color=\"red\")\n",
    "plt.plot(df[\"hour\"],df[\"demand\"],label=\"demand\", lw=3, color=\"gray\")\n",
    "plt.xlabel(\"hour[H]\")\n",
    "plt.ylabel(\"output[kWh]\")\n",
    "plt.title(\"output\")\n",
    "#plt.xticks(df[\"hour\"], rotation='vertical')\n",
    "plt.legend(loc=\"upper left\")"
   ]
  },
  {
   "cell_type": "code",
   "execution_count": null,
   "metadata": {},
   "outputs": [],
   "source": []
  }
 ],
 "metadata": {
  "kernelspec": {
   "display_name": "Python 3",
   "language": "python",
   "name": "python3"
  },
  "language_info": {
   "codemirror_mode": {
    "name": "ipython",
    "version": 3
   },
   "file_extension": ".py",
   "mimetype": "text/x-python",
   "name": "python",
   "nbconvert_exporter": "python",
   "pygments_lexer": "ipython3",
   "version": "3.7.3"
  },
  "varInspector": {
   "cols": {
    "lenName": 16,
    "lenType": 16,
    "lenVar": 40
   },
   "kernels_config": {
    "python": {
     "delete_cmd_postfix": "",
     "delete_cmd_prefix": "del ",
     "library": "var_list.py",
     "varRefreshCmd": "print(var_dic_list())"
    },
    "r": {
     "delete_cmd_postfix": ") ",
     "delete_cmd_prefix": "rm(",
     "library": "var_list.r",
     "varRefreshCmd": "cat(var_dic_list()) "
    }
   },
   "position": {
    "height": "492px",
    "left": "869px",
    "right": "20px",
    "top": "67px",
    "width": "421px"
   },
   "types_to_exclude": [
    "module",
    "function",
    "builtin_function_or_method",
    "instance",
    "_Feature"
   ],
   "window_display": false
  }
 },
 "nbformat": 4,
 "nbformat_minor": 2
}
