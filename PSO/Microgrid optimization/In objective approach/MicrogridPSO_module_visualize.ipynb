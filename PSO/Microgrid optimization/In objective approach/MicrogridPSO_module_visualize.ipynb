{
 "cells": [
  {
   "cell_type": "code",
   "execution_count": 1,
   "metadata": {},
   "outputs": [],
   "source": [
    "import datetime\n",
    "import math\n",
    "import os\n",
    "\n",
    "import matplotlib.pyplot as plt\n",
    "import numpy as np\n",
    "import pandas as pd\n",
    "from pylab import rcParams\n",
    "\n",
    "plt.style.use('ggplot')"
   ]
  },
  {
   "cell_type": "code",
   "execution_count": 2,
   "metadata": {},
   "outputs": [],
   "source": [
    "\"\"\"\n",
    "How to use\n",
    "\n",
    "plot.figplot( x=[0, 1, 2, 3, 4, 5], y=[0, 1, 2, 3, 4, 5],\\\n",
    "             x_name='x_name',y_name='y_name',title='title',size1= 60, size2=50, fontsize=70, y_range=12)\n",
    "\n",
    "\"\"\"\n",
    "\n",
    "\n",
    "\n",
    "class PSO_plot:\n",
    "    \n",
    "    def __init__(self):\n",
    "        self.x= np.array([ 0, 1, 2, 3, 4, 5])\n",
    "        self.y= np.array([ 0, 1, 2, 3, 4, 5])\n",
    "        self.x_name=\"X name\"\n",
    "        self.y_name=\"Y name\"\n",
    "        self.title=\"title\"\n",
    "        self.size1=50\n",
    "        self.size2=50\n",
    "        self.fontsize=50\n",
    "        self.y_range=15\n",
    "        print('Please input values as follow.')\n",
    "        print('figplot(x,y,x_name,y_name,title,size1,size2,fontsize,grid,y_range)')\n",
    "        print(vars(self))\n",
    "        \n",
    "    def figplot(self,x,y,x_name,y_name,title,size1,size2,fontsize,y_range):\n",
    "\n",
    "        rcParams['figure.figsize'] = size1,size2\n",
    "        plt.rcParams[\"font.size\"] = fontsize\n",
    "\n",
    "        fig = plt.figure()\n",
    "        ax1 = fig.add_subplot(2, 2, 1)\n",
    "        ax1.plot(x, y, color='Black',linestyle='solid', linewidth = 6, label=x_name)\n",
    "        ax1.set_ylim([0, y_range])\n",
    "        ax1.set_title(title)\n",
    "        ax1.set_xlabel('x_name')\n",
    "        ax1.set_ylabel('y_name')\n",
    "        ax1.set_xticklabels(x,rotation=0, size=\"small\")\n",
    "        # 軸目盛の設定\n",
    "        plt.grid(which='major', color='black',linestyle='--')\n",
    "        # 軸目盛ラベルの回転\n",
    "        labels = ax1.get_xticklabels()\n",
    "        plt.setp(labels, rotation=90);\n",
    "\n",
    "        # 凡例をまとめて出力する\n",
    "        fig.legend(loc=\"lower right\",\n",
    "                   bbox_to_anchor=(1, 0.5, 0.4, .100), \n",
    "                   borderaxespad=0.,\n",
    "                   ncol=1,\n",
    "                   mode=\"expand\",\n",
    "                   title=\"LABEL NAME\"\n",
    "                  ) \n",
    "        plt.legend()\n",
    "        plt.figure(dpi=200)\n",
    "        plt.tight_layout()"
   ]
  },
  {
   "cell_type": "code",
   "execution_count": null,
   "metadata": {},
   "outputs": [],
   "source": []
  },
  {
   "cell_type": "code",
   "execution_count": null,
   "metadata": {},
   "outputs": [],
   "source": []
  }
 ],
 "metadata": {
  "kernelspec": {
   "display_name": "Python 3",
   "language": "python",
   "name": "python3"
  },
  "language_info": {
   "codemirror_mode": {
    "name": "ipython",
    "version": 3
   },
   "file_extension": ".py",
   "mimetype": "text/x-python",
   "name": "python",
   "nbconvert_exporter": "python",
   "pygments_lexer": "ipython3",
   "version": "3.7.1"
  },
  "varInspector": {
   "cols": {
    "lenName": 16,
    "lenType": 16,
    "lenVar": 40
   },
   "kernels_config": {
    "python": {
     "delete_cmd_postfix": "",
     "delete_cmd_prefix": "del ",
     "library": "var_list.py",
     "varRefreshCmd": "print(var_dic_list())"
    },
    "r": {
     "delete_cmd_postfix": ") ",
     "delete_cmd_prefix": "rm(",
     "library": "var_list.r",
     "varRefreshCmd": "cat(var_dic_list()) "
    }
   },
   "types_to_exclude": [
    "module",
    "function",
    "builtin_function_or_method",
    "instance",
    "_Feature"
   ],
   "window_display": false
  }
 },
 "nbformat": 4,
 "nbformat_minor": 2
}
