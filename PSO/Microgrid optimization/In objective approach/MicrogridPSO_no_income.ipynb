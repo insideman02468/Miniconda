{
 "cells": [
  {
   "cell_type": "code",
   "execution_count": 1,
   "metadata": {},
   "outputs": [],
   "source": [
    "from MicrogridPSO_module import *\n",
    "from MicrogridPSO_module_flowchart import *\n",
    "from MicrogridPSO_module_PSO import *"
   ]
  },
  {
   "cell_type": "code",
   "execution_count": null,
   "metadata": {},
   "outputs": [],
   "source": [
    "# inspect function\n",
    "#print(inspect.getmembers(MicrogridPSO_initialize, inspect.isfunction))\n",
    "\n",
    "# inspect methods\n",
    "#print(inspect.getmembers(MicrogridPSO_initialize, inspect.ismethod))\n",
    "\n",
    "# inspect object & methods\n",
    "# print(dir(MicrogridPSO_initialize))"
   ]
  },
  {
   "cell_type": "code",
   "execution_count": null,
   "metadata": {},
   "outputs": [],
   "source": [
    "# How to initialize\n",
    "# Class check\n",
    "# CSVを読み込みインスタンスを作成。\n",
    "PSO = MicrogridPSO_initialize(\"Target_input.csv\")\n",
    "\n",
    "# 初期値を設定\n",
    "PSO.set_initial_input_values({\"number_demand\": 1,\n",
    "                              \"pv_capacity_per_unit\": 245,\n",
    "                              \"wind_capacity_per_unit\": 2.3,\n",
    "                              \"SOC_max[%]\": 0.8,\n",
    "                              \"SOC_min[%]\": 0.2,\n",
    "                              \"SOC_start[%]\": 0.5\n",
    "                              })\n",
    "\n",
    "# 初期値を設定\n",
    "PSO.set_initial_cost_parameters({\"It_PV_1kW[yen/year]\": [726383.3333, 0, 0, 0, 0, 0, 0, 0, 0, 0, 0, 0, 0, 0, 0, 0, 0, 0, 0, 0],\n",
    "                                 \"Mt_PV_1kW[yen/year]\": [4329] * 20,\n",
    "                                 \"Ft_PV_1kW[yen/year]\": [0]*20,\n",
    "                                 \"It_Wind_1kW[yen/year]\": [302274.7826, 0, 0, 0, 0, 0, 0, 0, 0, 0, 0, 0, 0, 0, 0, 0, 0, 0, 0, 0],\n",
    "                                 \"Mt_Wind_1kW[yen/year]\": [662.785213] * 20,\n",
    "                                 \"Ft_Wind_1kW[yen/year]\": [0]*20,\n",
    "                                 \"It_Diesel_1kW[yen/year]\": [33611.11, 33611.11, 0, 33611.11, 33611.11, 0, 33611.11, 33611.11, 0, 33611.11,\n",
    "                                                             33611.11, 0, 33611.11, 33611.11, 0, 33611.11, 33611.11, 0, 33611.11, 33611.11],\n",
    "                                 \"Mt_Diesel_1kW[yen/year]\": [8.8] * 20,\n",
    "                                 \"Diesel_Pf\": 129,\n",
    "                                 \"Diesel_Adg\": 0.2461,\n",
    "                                 \"Diesel_Bdg\": 0.081451,\n",
    "                                 \"It_Battery_1kW[yen/year]\": [13540, 0, 0, 0, 13540, 0, 0, 0, 13540, 0, 0, 0, 13540, 0, 0, 0, 13540, 0, 0, 0],\n",
    "                                 \"Mt_Battery_1kW[yen/year]\": [1100] * 20,\n",
    "                                 \"Ft_Battery_1kW[yen/year]\": [0]*20,\n",
    "                                 \"Sell_income_from_trashed[kWh/yen]\": [0]*20,\n",
    "                                 \"r[yen/year]\": [0.0234375]*20,\n",
    "                                 \"operation_year\": list(range(1, 21))\n",
    "                                 })\n",
    "\n",
    "# PSOの中身を確認\n",
    "# print(dir(PSO))\n",
    "# print(vars(PSO))\n",
    "# len(PSO.Target_input.index)"
   ]
  },
  {
   "cell_type": "code",
   "execution_count": null,
   "metadata": {
    "scrolled": true
   },
   "outputs": [
    {
     "name": "stdout",
     "output_type": "stream",
     "text": [
      "Inform the number of iterations: 5\n",
      "Inform the number of particles: 4\n",
      "Inform w: 0.6\n",
      "Inform c1: 0.3\n",
      "Inform c2: 0.3\n",
      "{'pv_cap_max': 0, 'wind_cap_max': 0, 'battery_cap_max': 0, 'diesel_max': 0} \n",
      "iterations: 5 n_particles: 4 w: 0.6 c1: 0.3 c2: 0.3 particle: {'particle_position_vector': array([[2.30210413e+03, 3.22195887e+00, 1.01069317e+01, 1.40431993e+01],\n",
      "       [2.01046438e+03, 8.31557196e+00, 1.93355073e+01, 6.41149902e-01],\n",
      "       [1.88890022e+03, 1.25426275e+01, 1.27332730e+01, 2.45111091e+00],\n",
      "       [1.79576706e+03, 5.51146431e-01, 1.25070383e+00, 2.25357315e+00]]), 'pbest_position': array([[2.30210413e+03, 3.22195887e+00, 1.01069317e+01, 1.40431993e+01],\n",
      "       [2.01046438e+03, 8.31557196e+00, 1.93355073e+01, 6.41149902e-01],\n",
      "       [1.88890022e+03, 1.25426275e+01, 1.27332730e+01, 2.45111091e+00],\n",
      "       [1.79576706e+03, 5.51146431e-01, 1.25070383e+00, 2.25357315e+00]]), 'pbest_fitness_value': array([inf, inf, inf, inf]), 'gbest_fitness_value': inf, 'gbest_position': array([[2.30210413e+03, 3.22195887e+00, 1.01069317e+01, 1.40431993e+01],\n",
      "       [2.01046438e+03, 8.31557196e+00, 1.93355073e+01, 6.41149902e-01],\n",
      "       [1.88890022e+03, 1.25426275e+01, 1.27332730e+01, 2.45111091e+00],\n",
      "       [1.79576706e+03, 5.51146431e-01, 1.25070383e+00, 2.25357315e+00]]), 'velocity_vector': [array([0, 0, 0, 0]), array([0, 0, 0, 0]), array([0, 0, 0, 0]), array([0, 0, 0, 0])], 'previous_velocity_vector': [array([0, 0, 0, 0]), array([0, 0, 0, 0]), array([0, 0, 0, 0]), array([0, 0, 0, 0])], 'iteration': 0, 'range_vector': [4000, 20, 30, 20]}\n",
      "-------iteration = 0 -----------\n",
      "[[2.30210413e+03 3.22195887e+00 1.01069317e+01 1.40431993e+01]\n",
      " [2.01046438e+03 8.31557196e+00 1.93355073e+01 6.41149902e-01]\n",
      " [1.88890022e+03 1.25426275e+01 1.27332730e+01 2.45111091e+00]\n",
      " [1.79576706e+03 5.51146431e-01 1.25070383e+00 2.25357315e+00]]\n",
      "-----particle_position[ 0 ]  335.9754446701686 [yen].  [2302.10413439    3.22195887   10.10693169   14.04319935]\n",
      "      *previous_velocity_vector[ 0 ] [0 0 0 0] new_velocity [0. 0. 0. 0.]\n",
      "      *particle_position_vector[ 0 ] is updated. particle_position: [2302.10413439    3.22195887   10.10693169   14.04319935]\n",
      "      * 910 [h]-----PSO.check is False.\n",
      "      * 910h: Error! diesel capacity is over!\n",
      "      *PSO.diesel_max | PSO.p_diesel |PSO.np_demand[PSO.h] | PSO.np_demand[PSO.h]-PSO.pv-PSO.wind |PSO.p_battery-PSO.battery_min\n",
      "      * 0.6411499019641909 1.0196814490728174 2.617532703 2.5921608914666434 1.572479442393826\n",
      "      *particle_position_vector is errored.loop= 1 [2.01046438e+03 8.31557196e+00 1.93355073e+01 6.41149902e-01]\n",
      "      *particle_position_vector is updated by error. [3288.43554926    6.7835089    21.53980383    3.81385362]\n",
      "      * 3550 [h]-----PSO.check is False.\n",
      "      * 3550h: Error! diesel capacity is over!\n",
      "      *PSO.diesel_max | PSO.p_diesel |PSO.np_demand[PSO.h] | PSO.np_demand[PSO.h]-PSO.pv-PSO.wind |PSO.p_battery-PSO.battery_min\n",
      "      * 3.8138536219141583 5.380819587 5.380819587 5.380819587 0.0\n",
      "      *particle_position_vector is errored.loop= 2 [3288.43554926    6.7835089    21.53980383    3.81385362]\n",
      "      *particle_position_vector is updated by error. [2860.41280077   16.823325      5.06379996   10.67513447]\n",
      "-----particle_position[ 1 ]  146.10475775290314 [yen].  [2860.41280077   16.823325      5.06379996   10.67513447]\n",
      "      *previous_velocity_vector[ 1 ] [0 0 0 0] new_velocity [0. 0. 0. 0.]\n",
      "      *particle_position_vector[ 1 ] is updated. particle_position: [2860.41280077   16.823325      5.06379996   10.67513447]\n",
      "      * 910 [h]-----PSO.check is False.\n",
      "      * 910h: Error! diesel capacity is over!\n",
      "      *PSO.diesel_max | PSO.p_diesel |PSO.np_demand[PSO.h] | PSO.np_demand[PSO.h]-PSO.pv-PSO.wind |PSO.p_battery-PSO.battery_min\n",
      "      * 2.4511109144663523 2.5792636358070653 2.617532703 2.5792636358070653 0.0\n",
      "      *particle_position_vector is errored.loop= 1 [1888.90022064   12.54262754   12.73327298    2.45111091]\n",
      "      *particle_position_vector is updated by error. [2682.64615098   15.98707615   13.10991753    9.33379681]\n",
      "-----particle_position[ 2 ]  110.7824683329527 [yen].  [2682.64615098   15.98707615   13.10991753    9.33379681]\n",
      "      *previous_velocity_vector[ 2 ] [0 0 0 0] new_velocity [0. 0. 0. 0.]\n",
      "      *particle_position_vector[ 2 ] is updated. particle_position: [2682.64615098   15.98707615   13.10991753    9.33379681]\n",
      "      * 307 [h]-----PSO.check is False.\n",
      "      * 307h: Error! diesel capacity is over!\n",
      "      *PSO.diesel_max | PSO.p_diesel |PSO.np_demand[PSO.h] | PSO.np_demand[PSO.h]-PSO.pv-PSO.wind |PSO.p_battery-PSO.battery_min\n",
      "      * 2.2535731517897695 3.5713660985070863 4.466339853 4.187148362204499 0.6157822636974125\n",
      "      *particle_position_vector is errored.loop= 1 [1.79576706e+03 5.51146431e-01 1.25070383e+00 2.25357315e+00]\n",
      "      *particle_position_vector is updated by error. [380.57499132   7.36912059  23.84128922   6.23101139]\n",
      "      * 4411 [h]-----PSO.check is False.\n",
      "      * 4411h: Error! diesel capacity is over!\n",
      "      *PSO.diesel_max | PSO.p_diesel |PSO.np_demand[PSO.h] | PSO.np_demand[PSO.h]-PSO.pv-PSO.wind |PSO.p_battery-PSO.battery_min\n",
      "      * 6.231011387150884 6.3922735699679265 6.847875716 6.3922735699679265 0.0\n",
      "      *particle_position_vector is errored.loop= 2 [380.57499132   7.36912059  23.84128922   6.23101139]\n",
      "      *particle_position_vector is updated by error. [296.10711426  16.97040563  26.46872857   2.61433723]\n",
      "      * 2350 [h]-----PSO.check is False.\n",
      "      * 2350h: Error! diesel capacity is over!\n",
      "      *PSO.diesel_max | PSO.p_diesel |PSO.np_demand[PSO.h] | PSO.np_demand[PSO.h]-PSO.pv-PSO.wind |PSO.p_battery-PSO.battery_min\n",
      "      * 2.6143372347158866 3.638707689 3.638707689 3.638707689 0.0\n",
      "      *particle_position_vector is errored.loop= 3 [296.10711426  16.97040563  26.46872857   2.61433723]\n",
      "      *particle_position_vector is updated by error. [3.87576236e+03 5.29288556e+00 3.56095638e+00 1.91601375e+01]\n",
      "-----particle_position[ 3 ]  318.8448958330051 [yen].  [3.87576236e+03 5.29288556e+00 3.56095638e+00 1.91601375e+01]\n",
      "      *previous_velocity_vector[ 3 ] [0 0 0 0] new_velocity [-153.15818733    1.37279406    1.22578301   -1.26138972]\n",
      "      *particle_position_vector[ 3 ] is updated. particle_position: [3722.6041728     6.66567962    4.78673939   17.89874776]\n",
      "-------iteration = 1 -----------\n",
      "[[2.30210413e+03 3.22195887e+00 1.01069317e+01 1.40431993e+01]\n",
      " [2.86041280e+03 1.68233250e+01 5.06379996e+00 1.06751345e+01]\n",
      " [2.68264615e+03 1.59870762e+01 1.31099175e+01 9.33379681e+00]\n",
      " [3.72260417e+03 6.66567962e+00 4.78673939e+00 1.78987478e+01]]\n",
      "-----particle_position[ 0 ]  335.9754446701686 [yen].  [2302.10413439    3.22195887   10.10693169   14.04319935]\n",
      "      *previous_velocity_vector[ 0 ] [-153.15818733    1.37279406    1.22578301   -1.26138972] new_velocity [-33.59529491   2.77931188   1.19553182  -1.47832149]\n",
      "      *particle_position_vector[ 0 ] is updated. particle_position: [2268.50883948    6.00127075   11.30246351   12.56487786]\n",
      "-----particle_position[ 1 ]  146.10475775290314 [yen].  [2860.41280077   16.823325      5.06379996   10.67513447]\n",
      "      *previous_velocity_vector[ 1 ] [-33.59529491   2.77931188   1.19553182  -1.47832149] new_velocity [-50.64509277   1.52416605   2.09727059  -1.11703936]\n",
      "      *particle_position_vector[ 1 ] is updated. particle_position: [2809.767708     18.34749105    7.16107055    9.55809512]\n",
      "-----particle_position[ 2 ]  110.7824683329527 [yen].  [2682.64615098   15.98707615   13.10991753    9.33379681]\n",
      "      *previous_velocity_vector[ 2 ] [-50.64509277   1.52416605   2.09727059  -1.11703936] new_velocity [-30.38705566   0.91449963   1.25836236  -0.67022362]\n",
      "      *particle_position_vector[ 2 ] is updated. particle_position: [2652.25909532   16.90157578   14.36827989    8.6635732 ]\n",
      "-----particle_position[ 3 ]  267.7421972579458 [yen].  [3722.6041728     6.66567962    4.78673939   17.89874776]\n",
      "      *previous_velocity_vector[ 3 ] [-30.38705566   0.91449963   1.25836236  -0.67022362] new_velocity [-302.81244901    3.27018988    3.30252935   -2.85755535]\n",
      "      *particle_position_vector[ 3 ] is updated. particle_position: [3419.79172378    9.9358695     8.08926874   15.04119242]\n",
      "-------iteration = 2 -----------\n",
      "[[2268.50883948    6.00127075   11.30246351   12.56487786]\n",
      " [2809.767708     18.34749105    7.16107055    9.55809512]\n",
      " [2652.25909532   16.90157578   14.36827989    8.6635732 ]\n",
      " [3419.79172378    9.9358695     8.08926874   15.04119242]]\n"
     ]
    },
    {
     "name": "stdout",
     "output_type": "stream",
     "text": [
      "-----particle_position[ 0 ]  241.10475848257366 [yen].  [2268.50883948    6.00127075   11.30246351   12.56487786]\n",
      "      *previous_velocity_vector[ 0 ] [-302.81244901    3.27018988    3.30252935   -2.85755535] new_velocity [-91.65528522   4.51944974   2.70079308  -2.62982375]\n",
      "      *particle_position_vector[ 0 ] is updated. particle_position: [2176.85355426   10.52072048   14.00325658    9.93505411]\n",
      "-----particle_position[ 1 ]  124.16507871238633 [yen].  [2809.767708     18.34749105    7.16107055    9.55809512]\n",
      "      *previous_velocity_vector[ 1 ] [-91.65528522   4.51944974   2.70079308  -2.62982375] new_velocity [-71.81513444   2.55724569   2.39020779  -1.67342944]\n",
      "      *particle_position_vector[ 1 ] is updated. particle_position: [2737.95257355   20.90473674    9.55127835    7.88466568]\n",
      "-----particle_position[ 2 ]  101.65298118049051 [yen].  [2652.25909532   16.90157578   14.36827989    8.6635732 ]\n",
      "      *previous_velocity_vector[ 2 ] [-71.81513444   2.55724569   2.39020779  -1.67342944] new_velocity [-43.08908067   1.53434742   1.43412468  -1.00405766]\n",
      "      *particle_position_vector[ 2 ] is updated. particle_position: [2609.17001465   18.4359232    15.80240456    7.65951554]\n",
      "-----particle_position[ 3 ]  183.18704451605504 [yen].  [3419.79172378    9.9358695     8.08926874   15.04119242]\n",
      "      *previous_velocity_vector[ 3 ] [-43.08908067   1.53434742   1.43412468  -1.00405766] new_velocity [-53.37833353   1.20923013   1.12237647  -0.85308149]\n",
      "      *particle_position_vector[ 3 ] is updated. particle_position: [3366.41339025   11.14509964    9.21164521   14.18811093]\n",
      "-------iteration = 3 -----------\n",
      "[[2176.85355426   10.52072048   14.00325658    9.93505411]\n",
      " [2737.95257355   20.90473674    9.55127835    7.88466568]\n",
      " [2609.17001465   18.4359232    15.80240456    7.65951554]\n",
      " [3366.41339025   11.14509964    9.21164521   14.18811093]]\n"
     ]
    }
   ],
   "source": [
    "%%time\n",
    "\n",
    "#計算結果を実行\n",
    "iterations_PSO(PSO)"
   ]
  },
  {
   "cell_type": "code",
   "execution_count": null,
   "metadata": {
    "scrolled": true
   },
   "outputs": [],
   "source": [
    "# print(PSO.best['gbest_fitness_value'])\n",
    "df=PSO.best['table']\n",
    "df.to_csv('PSO_result_no_income.csv',encoding=\"SHIFT-JIS\")  \n",
    "df"
   ]
  },
  {
   "cell_type": "code",
   "execution_count": null,
   "metadata": {},
   "outputs": [],
   "source": [
    "best_cost_list = np.array(PSO.best_cost_list)\n",
    "gbest_list = np.array(PSO.gbest_list)\n",
    "iteration_list = np.array(PSO.iteration_list)\n",
    "plot_list = pd.DataFrame({'iteration': np.array(PSO.iteration_list),\n",
    "                          'cost': np.array(PSO.best_cost_list)})\n",
    "print(max(best_cost_list), min(best_cost_list))\n",
    "# plot_list"
   ]
  },
  {
   "cell_type": "code",
   "execution_count": null,
   "metadata": {},
   "outputs": [],
   "source": [
    "plot_list.plot(y=\"cost\")"
   ]
  },
  {
   "cell_type": "code",
   "execution_count": null,
   "metadata": {
    "scrolled": true
   },
   "outputs": [],
   "source": [
    "# 計算結果テキストファイルの作成\n",
    "f = open('PSO_result_parameters.txt', 'w')  # 書き込みモードで開く\n",
    "f_content = 'gbest_position: '+str(PSO.best['gbest_position'])+' gbest_fitness_value: '+str(PSO.best['gbest_fitness_value'])+str(PSO.variables) + \\\n",
    "    str(PSO.initial_cost_parameters)+str(PSO.initial_cost_parameters)\n",
    "f.write(f_content)  # 引数の文字列をファイルに書き込む\n",
    "f.close()  # ファイルを閉じる"
   ]
  },
  {
   "cell_type": "code",
   "execution_count": null,
   "metadata": {},
   "outputs": [],
   "source": [
    "PSO.best['SCL']"
   ]
  },
  {
   "cell_type": "code",
   "execution_count": null,
   "metadata": {},
   "outputs": [],
   "source": [
    "PSO.best['SEL']"
   ]
  },
  {
   "cell_type": "code",
   "execution_count": null,
   "metadata": {},
   "outputs": [],
   "source": [
    "dir(PSO)"
   ]
  }
 ],
 "metadata": {
  "kernelspec": {
   "display_name": "Python 3",
   "language": "python",
   "name": "python3"
  },
  "language_info": {
   "codemirror_mode": {
    "name": "ipython",
    "version": 3
   },
   "file_extension": ".py",
   "mimetype": "text/x-python",
   "name": "python",
   "nbconvert_exporter": "python",
   "pygments_lexer": "ipython3",
   "version": "3.7.1"
  },
  "varInspector": {
   "cols": {
    "lenName": 16,
    "lenType": 16,
    "lenVar": 40
   },
   "kernels_config": {
    "python": {
     "delete_cmd_postfix": "",
     "delete_cmd_prefix": "del ",
     "library": "var_list.py",
     "varRefreshCmd": "print(var_dic_list())"
    },
    "r": {
     "delete_cmd_postfix": ") ",
     "delete_cmd_prefix": "rm(",
     "library": "var_list.r",
     "varRefreshCmd": "cat(var_dic_list()) "
    }
   },
   "position": {
    "height": "492px",
    "left": "869px",
    "right": "20px",
    "top": "67px",
    "width": "421px"
   },
   "types_to_exclude": [
    "module",
    "function",
    "builtin_function_or_method",
    "instance",
    "_Feature"
   ],
   "window_display": false
  }
 },
 "nbformat": 4,
 "nbformat_minor": 2
}
