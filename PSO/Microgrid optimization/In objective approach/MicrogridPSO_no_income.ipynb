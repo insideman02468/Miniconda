{
 "cells": [
  {
   "cell_type": "code",
   "execution_count": 1,
   "metadata": {},
   "outputs": [],
   "source": [
    "from MicrogridPSO_module import *\n",
    "from MicrogridPSO_module_flowchart import *\n",
    "from MicrogridPSO_module_PSO import *"
   ]
  },
  {
   "cell_type": "code",
   "execution_count": 2,
   "metadata": {},
   "outputs": [],
   "source": [
    "# inspect function\n",
    "#print(inspect.getmembers(MicrogridPSO_initialize, inspect.isfunction))\n",
    "\n",
    "# inspect methods\n",
    "#print(inspect.getmembers(MicrogridPSO_initialize, inspect.ismethod))\n",
    "\n",
    "# inspect object & methods\n",
    "# print(dir(MicrogridPSO_initialize))"
   ]
  },
  {
   "cell_type": "code",
   "execution_count": null,
   "metadata": {},
   "outputs": [],
   "source": [
    "# How to initialize\n",
    "# Class check\n",
    "# CSVを読み込みインスタンスを作成。\n",
    "PSO = MicrogridPSO_initialize(\"Target_input.csv\")\n",
    "\n",
    "# 初期値を設定\n",
    "PSO.set_initial_input_values({\"number_demand\": 1,\n",
    "                              \"pv_capacity_per_unit\": 245,\n",
    "                              \"wind_capacity_per_unit\": 2.3,\n",
    "                              \"SOC_max[%]\": 0.8,\n",
    "                              \"SOC_min[%]\": 0.2,\n",
    "                              \"SOC_start[%]\": 0.5\n",
    "                              })\n",
    "\n",
    "# 初期値を設定\n",
    "PSO.set_initial_cost_parameters({\"It_PV_1kW[yen/year]\": [726383.3333, 0, 0, 0, 0, 0, 0, 0, 0, 0, 0, 0, 0, 0, 0, 0, 0, 0, 0, 0],\n",
    "                                 \"Mt_PV_1kW[yen/year]\": [4329] * 20,\n",
    "                                 \"Ft_PV_1kW[yen/year]\": [0]*20,\n",
    "                                 \"It_Wind_1kW[yen/year]\": [302274.7826, 0, 0, 0, 0, 0, 0, 0, 0, 0, 0, 0, 0, 0, 0, 0, 0, 0, 0, 0],\n",
    "                                 \"Mt_Wind_1kW[yen/year]\": [662.785213] * 20,\n",
    "                                 \"Ft_Wind_1kW[yen/year]\": [0]*20,\n",
    "                                 \"It_Diesel_1kW[yen/year]\": [33611.11, 33611.11, 0, 33611.11, 33611.11, 0, 33611.11, 33611.11, 0, 33611.11,\n",
    "                                                             33611.11, 0, 33611.11, 33611.11, 0, 33611.11, 33611.11, 0, 33611.11, 33611.11],\n",
    "                                 \"Mt_Diesel_1kW[yen/year]\": [8.8] * 20,\n",
    "                                 \"Diesel_Pf\": 129,\n",
    "                                 \"Diesel_Adg\": 0.2461,\n",
    "                                 \"Diesel_Bdg\": 0.081451,\n",
    "                                 \"It_Battery_1kW[yen/year]\": [13540, 0, 0, 0, 13540, 0, 0, 0, 13540, 0, 0, 0, 13540, 0, 0, 0, 13540, 0, 0, 0],\n",
    "                                 \"Mt_Battery_1kW[yen/year]\": [1100] * 20,\n",
    "                                 \"Ft_Battery_1kW[yen/year]\": [0]*20,\n",
    "                                 \"Sell_income_from_trashed[kWh/yen]\": [0]*20,\n",
    "                                 \"r[yen/year]\": [0.0234375]*20,\n",
    "                                 \"operation_year\": list(range(1, 21))\n",
    "                                 })\n",
    "\n",
    "# PSOの中身を確認\n",
    "# print(dir(PSO))\n",
    "# print(vars(PSO))\n",
    "#len(PSO.Target_input.index)"
   ]
  },
  {
   "cell_type": "code",
   "execution_count": null,
   "metadata": {
    "scrolled": true
   },
   "outputs": [
    {
     "name": "stdout",
     "output_type": "stream",
     "text": [
      "Inform the number of iterations: 8\n",
      "Inform the number of particles: 4\n",
      "Inform w: 0.6\n",
      "Inform c1: 0.5\n",
      "Inform c2: 0.5\n",
      "{'pv_cap_max': 0, 'wind_cap_max': 0, 'battery_cap_max': 0, 'diesel_max': 0} \n",
      "iterations: 8 n_particles: 4 w: 0.6 c1: 0.5 c2: 0.5 particle: {'particle_position_vector': array([[3.46772295e+01, 1.11853753e+01, 3.38630264e+00, 2.72762519e+00],\n",
      "       [1.39129004e+03, 8.50973587e-01, 1.25857610e+01, 5.17937733e+00],\n",
      "       [5.19627838e+02, 8.70285256e+00, 1.12620535e+01, 5.84938503e-01],\n",
      "       [1.25146239e+03, 1.90377769e+01, 1.34555631e+00, 5.91133951e+00]]), 'pbest_position': array([[3.46772295e+01, 1.11853753e+01, 3.38630264e+00, 2.72762519e+00],\n",
      "       [1.39129004e+03, 8.50973587e-01, 1.25857610e+01, 5.17937733e+00],\n",
      "       [5.19627838e+02, 8.70285256e+00, 1.12620535e+01, 5.84938503e-01],\n",
      "       [1.25146239e+03, 1.90377769e+01, 1.34555631e+00, 5.91133951e+00]]), 'pbest_fitness_value': array([inf, inf, inf, inf]), 'gbest_fitness_value': inf, 'gbest_position': array([[3.46772295e+01, 1.11853753e+01, 3.38630264e+00, 2.72762519e+00],\n",
      "       [1.39129004e+03, 8.50973587e-01, 1.25857610e+01, 5.17937733e+00],\n",
      "       [5.19627838e+02, 8.70285256e+00, 1.12620535e+01, 5.84938503e-01],\n",
      "       [1.25146239e+03, 1.90377769e+01, 1.34555631e+00, 5.91133951e+00]]), 'velocity_vector': [array([0, 0, 0, 0]), array([0, 0, 0, 0]), array([0, 0, 0, 0]), array([0, 0, 0, 0])], 'previous_velocity_vector': [array([0, 0, 0, 0]), array([0, 0, 0, 0]), array([0, 0, 0, 0]), array([0, 0, 0, 0])], 'iteration': 0, 'range_vector': [3000, 20, 15, 10]}\n",
      "-------iteration = 0 -----------\n",
      "[[3.46772295e+01 1.11853753e+01 3.38630264e+00 2.72762519e+00]\n",
      " [1.39129004e+03 8.50973587e-01 1.25857610e+01 5.17937733e+00]\n",
      " [5.19627838e+02 8.70285256e+00 1.12620535e+01 5.84938503e-01]\n",
      " [1.25146239e+03 1.90377769e+01 1.34555631e+00 5.91133951e+00]]\n",
      "      * 475 [h]-----PSO.check is False.\n",
      "      * 475h: Error! diesel capacity is over!\n",
      "      *PSO.diesel_max | PSO.p_diesel |PSO.np_demand[PSO.h] | PSO.np_demand[PSO.h]-PSO.pv-PSO.wind |PSO.p_battery-PSO.battery_min\n",
      "      * 2.727625191439358 3.2188675414268157 3.896128069 3.896128069 0.6772605275731842\n",
      "      *particle_position_vector is errored.loop= 1 [34.67722954 11.18537532  3.38630264  2.72762519]\n",
      "      *particle_position_vector is updated by error. [2.59257494e+03 1.52235372e+00 4.00103518e+00 2.18281521e+00]\n",
      "      * 307 [h]-----PSO.check is False.\n",
      "      * 307h: Error! diesel capacity is over!\n",
      "      *PSO.diesel_max | PSO.p_diesel |PSO.np_demand[PSO.h] | PSO.np_demand[PSO.h]-PSO.pv-PSO.wind |PSO.p_battery-PSO.battery_min\n",
      "      * 2.182815212815412 2.8949617060484982 4.466339853 3.695168742781873 0.8002070367333748\n",
      "      *particle_position_vector is errored.loop= 2 [2.59257494e+03 1.52235372e+00 4.00103518e+00 2.18281521e+00]\n",
      "      *particle_position_vector is updated by error. [1519.48158489   18.93016945   12.83134295    4.31159248]\n",
      "      * 4435 [h]-----PSO.check is False.\n",
      "      * 4435h: Error! diesel capacity is over!\n",
      "      *PSO.diesel_max | PSO.p_diesel |PSO.np_demand[PSO.h] | PSO.np_demand[PSO.h]-PSO.pv-PSO.wind |PSO.p_battery-PSO.battery_min\n",
      "      * 4.3115924765745905 5.44661352581721 8.022620402000001 8.012882116738126 2.5662685909209157\n",
      "      *particle_position_vector is errored.loop= 3 [1519.48158489   18.93016945   12.83134295    4.31159248]\n",
      "      *particle_position_vector is updated by error. [174.16501012   8.45615288   9.27635085   4.86308867]\n",
      "      * 3883 [h]-----PSO.check is False.\n",
      "      * 3883h: Error! diesel capacity is over!\n",
      "      *PSO.diesel_max | PSO.p_diesel |PSO.np_demand[PSO.h] | PSO.np_demand[PSO.h]-PSO.pv-PSO.wind |PSO.p_battery-PSO.battery_min\n",
      "      * 4.863088667257312 4.980508947150584 6.835779118 6.835779118 1.8552701708494155\n",
      "      *particle_position_vector is errored.loop= 4 [174.16501012   8.45615288   9.27635085   4.86308867]\n",
      "      *particle_position_vector is updated by error. [1.02237733e+03 6.11878920e+00 6.82855258e+00 4.53035501e-01]\n",
      "      * 475 [h]-----PSO.check is False.\n",
      "      * 475h: Error! diesel capacity is over!\n",
      "      *PSO.diesel_max | PSO.p_diesel |PSO.np_demand[PSO.h] | PSO.np_demand[PSO.h]-PSO.pv-PSO.wind |PSO.p_battery-PSO.battery_min\n",
      "      * 0.45303550128657055 2.5304175524791104 3.896128069 3.896128069 1.3657105165208898\n",
      "      *particle_position_vector is errored.loop= 5 [1.02237733e+03 6.11878920e+00 6.82855258e+00 4.53035501e-01]\n",
      "      *particle_position_vector is updated by error. [9.93976356e+02 1.46049472e+00 3.88485645e-01 4.13196427e+00]\n",
      "      * 907 [h]-----PSO.check is False.\n",
      "      * 907h: Error! diesel capacity is over!\n",
      "      *PSO.diesel_max | PSO.p_diesel |PSO.np_demand[PSO.h] | PSO.np_demand[PSO.h]-PSO.pv-PSO.wind |PSO.p_battery-PSO.battery_min\n",
      "      * 4.131964265403738 4.659010480959094 4.73670761 4.73670761 0.07769712904090598\n",
      "      *particle_position_vector is errored.loop= 6 [9.93976356e+02 1.46049472e+00 3.88485645e-01 4.13196427e+00]\n",
      "      *particle_position_vector is updated by error. [596.13676355  18.51090143   9.88312857   1.84151593]\n",
      "      * 475 [h]-----PSO.check is False.\n",
      "      * 475h: Error! diesel capacity is over!\n",
      "      *PSO.diesel_max | PSO.p_diesel |PSO.np_demand[PSO.h] | PSO.np_demand[PSO.h]-PSO.pv-PSO.wind |PSO.p_battery-PSO.battery_min\n",
      "      * 1.8415159255367264 1.9195023557978974 3.896128069 3.896128069 1.9766257132021026\n",
      "      *particle_position_vector is errored.loop= 7 [596.13676355  18.51090143   9.88312857   1.84151593]\n",
      "      *particle_position_vector is updated by error. [2.53108035e+03 2.36551975e+00 1.41665077e+01 5.36770451e+00]\n",
      "-----particle_position[ 0 ]  122.25930606969523 [yen].  [2.53108035e+03 2.36551975e+00 1.41665077e+01 5.36770451e+00]\n",
      "      *previous_velocity_vector[ 0 ] [0 0 0 0] new_velocity [0. 0. 0. 0.]\n",
      "      *particle_position_vector[ 0 ] is updated. particle_position: [2.53108035e+03 2.36551975e+00 1.41665077e+01 5.36770451e+00]\n",
      "      * 4435 [h]-----PSO.check is False.\n",
      "      * 4435h: Error! diesel capacity is over!\n",
      "      *PSO.diesel_max | PSO.p_diesel |PSO.np_demand[PSO.h] | PSO.np_demand[PSO.h]-PSO.pv-PSO.wind |PSO.p_battery-PSO.battery_min\n",
      "      * 5.179377333223498 5.496551487617268 8.022620402000001 8.013703690277293 2.5171522026600255\n",
      "      *particle_position_vector is errored.loop= 1 [1.39129004e+03 8.50973587e-01 1.25857610e+01 5.17937733e+00]\n",
      "      *particle_position_vector is updated by error. [1021.7722486    14.03357019   11.30170721    8.18453057]\n",
      "-----particle_position[ 1 ]  80.84573411516824 [yen].  [1021.7722486    14.03357019   11.30170721    8.18453057]\n",
      "      *previous_velocity_vector[ 1 ] [0 0 0 0] new_velocity [0. 0. 0. 0.]\n",
      "      *particle_position_vector[ 1 ] is updated. particle_position: [1021.7722486    14.03357019   11.30170721    8.18453057]\n",
      "      * 475 [h]-----PSO.check is False.\n",
      "      * 475h: Error! diesel capacity is over!\n",
      "      *PSO.diesel_max | PSO.p_diesel |PSO.np_demand[PSO.h] | PSO.np_demand[PSO.h]-PSO.pv-PSO.wind |PSO.p_battery-PSO.battery_min\n",
      "      * 0.5849385028983556 1.64371736013624 3.896128069 3.896128069 2.25241070886376\n",
      "      *particle_position_vector is errored.loop= 1 [519.62783772   8.70285256  11.26205354   0.5849385 ]\n",
      "      *particle_position_vector is updated by error. [2.24134306e+03 2.87293114e-01 2.70684510e+00 9.97106539e+00]\n",
      "-----particle_position[ 2 ]  379.77116272896893 [yen].  [2.24134306e+03 2.87293114e-01 2.70684510e+00 9.97106539e+00]\n",
      "      *previous_velocity_vector[ 2 ] [0 0 0 0] new_velocity [-420.72284884    4.74213779    2.96502247   -0.61631191]\n",
      "      *particle_position_vector[ 2 ] is updated. particle_position: [1820.6202156     5.0294309     5.67186757    9.35475348]\n",
      "      * 3883 [h]-----PSO.check is False.\n",
      "      * 3883h: Error! diesel capacity is over!\n",
      "      *PSO.diesel_max | PSO.p_diesel |PSO.np_demand[PSO.h] | PSO.np_demand[PSO.h]-PSO.pv-PSO.wind |PSO.p_battery-PSO.battery_min\n",
      "      * 5.911339514520142 6.566667856877715 6.835779118 6.835779118 0.269111261122284\n",
      "      *particle_position_vector is errored.loop= 1 [1251.46238891   19.03777687    1.34555631    5.91133951]\n",
      "      *particle_position_vector is updated by error. [2.60606143e+03 1.60816757e+01 1.01758890e+01 8.58446439e-01]\n",
      "      * 475 [h]-----PSO.check is False.\n",
      "      * 475h: Error! diesel capacity is over!\n",
      "      *PSO.diesel_max | PSO.p_diesel |PSO.np_demand[PSO.h] | PSO.np_demand[PSO.h]-PSO.pv-PSO.wind |PSO.p_battery-PSO.battery_min\n",
      "      * 0.8584464387134971 1.860950269446151 3.896128069 3.896128069 2.035177799553849\n",
      "      *particle_position_vector is errored.loop= 2 [2.60606143e+03 1.60816757e+01 1.01758890e+01 8.58446439e-01]\n",
      "      *particle_position_vector is updated by error. [1374.92835949   16.55849732    2.36125017    5.333191  ]\n"
     ]
    },
    {
     "name": "stdout",
     "output_type": "stream",
     "text": [
      "      * 3691 [h]-----PSO.check is False.\n",
      "      * 3691h: Error! diesel capacity is over!\n",
      "      *PSO.diesel_max | PSO.p_diesel |PSO.np_demand[PSO.h] | PSO.np_demand[PSO.h]-PSO.pv-PSO.wind |PSO.p_battery-PSO.battery_min\n",
      "      * 5.333191000122543 5.352534311675937 5.830769672000001 5.824784344965916 0.47225003328997844\n",
      "      *particle_position_vector is errored.loop= 3 [1374.92835949   16.55849732    2.36125017    5.333191  ]\n",
      "      *particle_position_vector is updated by error. [846.1006132   10.61412604   6.26370798   7.99571008]\n",
      "-----particle_position[ 3 ]  131.89071241291452 [yen].  [846.1006132   10.61412604   6.26370798   7.99571008]\n",
      "      *previous_velocity_vector[ 3 ] [0 0 0 0] new_velocity [78.59162772  1.52978414  2.2538901   0.08447413]\n",
      "      *particle_position_vector[ 3 ] is updated. particle_position: [924.69224092  12.14391018   8.51759808   8.08018422]\n",
      "-------iteration = 1 -----------\n",
      "[[2.53108035e+03 2.36551975e+00 1.41665077e+01 5.36770451e+00]\n",
      " [1.02177225e+03 1.40335702e+01 1.13017072e+01 8.18453057e+00]\n",
      " [1.82062022e+03 5.02943090e+00 5.67186757e+00 9.35475348e+00]\n",
      " [9.24692241e+02 1.21439102e+01 8.51759808e+00 8.08018422e+00]]\n",
      "-----particle_position[ 0 ]  122.25930606969523 [yen].  [2.53108035e+03 2.36551975e+00 1.41665077e+01 5.36770451e+00]\n",
      "      *previous_velocity_vector[ 0 ] [78.59162772  1.52978414  2.2538901   0.08447413] new_velocity [-316.29298931    3.72758787    0.66247763    0.72898847]\n",
      "      *particle_position_vector[ 0 ] is updated. particle_position: [2214.78735591    6.09310762   14.82898531    6.09669298]\n",
      "-----particle_position[ 1 ]  80.84573411516824 [yen].  [1021.7722486    14.03357019   11.30170721    8.18453057]\n",
      "      *previous_velocity_vector[ 1 ] [-316.29298931    3.72758787    0.66247763    0.72898847] new_velocity [-189.77579358    2.23655272    0.39748658    0.43739308]\n",
      "      *particle_position_vector[ 1 ] is updated. particle_position: [831.99645501  16.27012291  11.69919378   8.62192365]\n",
      "-----particle_position[ 2 ]  195.75642245385285 [yen].  [1820.6202156     5.0294309     5.67186757    9.35475348]\n",
      "      *previous_velocity_vector[ 2 ] [-189.77579358    2.23655272    0.39748658    0.43739308] new_velocity [-116.10130728    1.36735312    0.2521231     0.26077851]\n",
      "      *particle_position_vector[ 2 ] is updated. particle_position: [1704.51890832    6.39678403    5.92399067    9.61553199]\n",
      "-----particle_position[ 3 ]  104.01402419305495 [yen].  [924.69224092  12.14391018   8.51759808   8.08018422]\n",
      "      *previous_velocity_vector[ 3 ] [-116.10130728    1.36735312    0.2521231     0.26077851] new_velocity [-76.51179617   1.1253743    0.38642101   0.19650629]\n",
      "      *particle_position_vector[ 3 ] is updated. particle_position: [848.18044475  13.26928449   8.90401909   8.2766905 ]\n",
      "-------iteration = 2 -----------\n",
      "[[2214.78735591    6.09310762   14.82898531    6.09669298]\n",
      " [ 831.99645501   16.27012291   11.69919378    8.62192365]\n",
      " [1704.51890832    6.39678403    5.92399067    9.61553199]\n",
      " [ 848.18044475   13.26928449    8.90401909    8.2766905 ]]\n",
      "-----particle_position[ 0 ]  90.780155091885 [yen].  [2214.78735591    6.09310762   14.82898531    6.09669298]\n",
      "      *previous_velocity_vector[ 0 ] [-76.51179617   1.1253743    0.38642101   0.19650629] new_velocity [-2.26774652e+02  2.00636732e+00 -1.77520786e-01  4.48201249e-01]\n",
      "      *particle_position_vector[ 0 ] is updated. particle_position: [1988.01270389    8.09947494   14.65146452    6.54489423]\n",
      "-----particle_position[ 1 ]  72.25684942937856 [yen].  [831.99645501  16.27012291  11.69919378   8.62192365]\n",
      "      *previous_velocity_vector[ 1 ] [-2.26774652e+02  2.00636732e+00 -1.77520786e-01  4.48201249e-01] new_velocity [-1.36064791e+02  1.20382039e+00 -1.06512472e-01  2.68920749e-01]\n",
      "      *particle_position_vector[ 1 ] is updated. particle_position: [695.9316638   17.47394331  11.59268131   8.8908444 ]\n",
      "-----particle_position[ 2 ]  174.00231432592935 [yen].  [1704.51890832    6.39678403    5.92399067    9.61553199]\n",
      "      *previous_velocity_vector[ 2 ] [-1.36064791e+02  1.20382039e+00 -1.06512472e-01  2.68920749e-01] new_velocity [-3.62749492e+02  3.80968710e+00  1.51605412e+00 -4.06304491e-02]\n",
      "      *particle_position_vector[ 2 ] is updated. particle_position: [1341.76941668   10.20647113    7.4400448     9.57490154]\n",
      "-----particle_position[ 3 ]  96.78982778163505 [yen].  [848.18044475  13.26928449   8.90401909   8.2766905 ]\n",
      "      *previous_velocity_vector[ 3 ] [-3.62749492e+02  3.80968710e+00  1.51605412e+00 -4.06304491e-02] new_velocity [-2.35281305e+02  2.77274493e+00  1.22100077e+00  4.67455977e-02]\n",
      "      *particle_position_vector[ 3 ] is updated. particle_position: [612.89913961  16.04202941  10.12501986   8.3234361 ]\n",
      "-------iteration = 3 -----------\n",
      "[[1988.01270389    8.09947494   14.65146452    6.54489423]\n",
      " [ 695.9316638    17.47394331   11.59268131    8.8908444 ]\n",
      " [1341.76941668   10.20647113    7.4400448     9.57490154]\n",
      " [ 612.89913961   16.04202941   10.12501986    8.3234361 ]]\n",
      "-----particle_position[ 0 ]  82.95907300670567 [yen].  [1988.01270389    8.09947494   14.65146452    6.54489423]\n",
      "      *previous_velocity_vector[ 0 ] [-2.35281305e+02  2.77274493e+00  1.22100077e+00  4.67455977e-02] new_velocity [-3.66876956e+02  3.30123319e+00  1.98274562e-01  4.37851473e-01]\n",
      "      *particle_position_vector[ 0 ] is updated. particle_position: [1621.13574822   11.40070813   14.84973908    6.9827457 ]\n",
      "-----particle_position[ 1 ]  69.7865002679201 [yen].  [695.9316638   17.47394331  11.59268131   8.8908444 ]\n",
      "      *previous_velocity_vector[ 1 ] [-3.66876956e+02  3.30123319e+00  1.98274562e-01  4.37851473e-01] new_velocity [-2.20126173e+02  1.98073991e+00  1.18964737e-01  2.62710884e-01]\n",
      "      *particle_position_vector[ 1 ] is updated. particle_position: [475.8054904   19.45468322  11.71164605   9.15355528]\n",
      "-----particle_position[ 2 ]  124.14964698420549 [yen].  [1341.76941668   10.20647113    7.4400448     9.57490154]\n",
      "      *previous_velocity_vector[ 2 ] [-2.20126173e+02  1.98073991e+00  1.18964737e-01  2.62710884e-01] new_velocity [-2.39716743e+02  2.33801512e+00  6.02347379e-01  1.05252352e-01]\n",
      "      *particle_position_vector[ 2 ] is updated. particle_position: [1102.05267336   12.54448624    8.04239217    9.68015389]\n"
     ]
    }
   ],
   "source": [
    "%%time\n",
    "\n",
    "iterations_PSO(PSO)\n",
    "\n",
    "#フローチャートをループで回して計算結果を取得\n",
    "#df, total_check, variables, total_cost ,success_loops, failed_loops = loop_flowchart(PSO)"
   ]
  },
  {
   "cell_type": "code",
   "execution_count": null,
   "metadata": {
    "scrolled": true
   },
   "outputs": [],
   "source": [
    "# print(PSO.best['gbest_fitness_value'])\n",
    "df=PSO.best['table']\n",
    "df.to_csv('PSO_result_no_income.csv',encoding=\"SHIFT-JIS\")  \n",
    "df"
   ]
  },
  {
   "cell_type": "code",
   "execution_count": null,
   "metadata": {},
   "outputs": [],
   "source": [
    "best_cost_list = np.array(PSO.best_cost_list)\n",
    "gbest_list = np.array(PSO.gbest_list)\n",
    "iteration_list = np.array(PSO.iteration_list)\n",
    "plot_list = pd.DataFrame({'iteration': np.array(PSO.iteration_list),\n",
    "                          'cost': np.array(PSO.best_cost_list)})\n",
    "print(max(best_cost_list), min(best_cost_list))\n",
    "# plot_list"
   ]
  },
  {
   "cell_type": "code",
   "execution_count": null,
   "metadata": {},
   "outputs": [],
   "source": [
    "plot_list.plot(y=\"cost\")"
   ]
  },
  {
   "cell_type": "code",
   "execution_count": null,
   "metadata": {
    "scrolled": true
   },
   "outputs": [],
   "source": [
    "# 計算結果テキストファイルの作成\n",
    "f = open('PSO_result_parameters.txt', 'w')  # 書き込みモードで開く\n",
    "f_content = 'gbest_position: '+str(PSO.best['gbest_position'])+' gbest_fitness_value: '+str(PSO.best['gbest_fitness_value'])+str(PSO.variables) + \\\n",
    "    str(PSO.initial_cost_parameters)+str(PSO.initial_cost_parameters)\n",
    "f.write(f_content)  # 引数の文字列をファイルに書き込む\n",
    "f.close()  # ファイルを閉じる"
   ]
  },
  {
   "cell_type": "code",
   "execution_count": null,
   "metadata": {},
   "outputs": [],
   "source": [
    "PSO.best['SCL']"
   ]
  },
  {
   "cell_type": "code",
   "execution_count": null,
   "metadata": {},
   "outputs": [],
   "source": [
    "PSO.best['SEL']"
   ]
  },
  {
   "cell_type": "code",
   "execution_count": null,
   "metadata": {},
   "outputs": [],
   "source": [
    "dir(PSO)"
   ]
  },
  {
   "cell_type": "code",
   "execution_count": null,
   "metadata": {},
   "outputs": [],
   "source": []
  },
  {
   "cell_type": "code",
   "execution_count": null,
   "metadata": {},
   "outputs": [],
   "source": [
    "PSO.best"
   ]
  },
  {
   "cell_type": "code",
   "execution_count": null,
   "metadata": {},
   "outputs": [],
   "source": []
  }
 ],
 "metadata": {
  "kernelspec": {
   "display_name": "Python 3",
   "language": "python",
   "name": "python3"
  },
  "language_info": {
   "codemirror_mode": {
    "name": "ipython",
    "version": 3
   },
   "file_extension": ".py",
   "mimetype": "text/x-python",
   "name": "python",
   "nbconvert_exporter": "python",
   "pygments_lexer": "ipython3",
   "version": "3.7.1"
  },
  "varInspector": {
   "cols": {
    "lenName": 16,
    "lenType": 16,
    "lenVar": 40
   },
   "kernels_config": {
    "python": {
     "delete_cmd_postfix": "",
     "delete_cmd_prefix": "del ",
     "library": "var_list.py",
     "varRefreshCmd": "print(var_dic_list())"
    },
    "r": {
     "delete_cmd_postfix": ") ",
     "delete_cmd_prefix": "rm(",
     "library": "var_list.r",
     "varRefreshCmd": "cat(var_dic_list()) "
    }
   },
   "position": {
    "height": "492px",
    "left": "869px",
    "right": "20px",
    "top": "67px",
    "width": "421px"
   },
   "types_to_exclude": [
    "module",
    "function",
    "builtin_function_or_method",
    "instance",
    "_Feature"
   ],
   "window_display": false
  }
 },
 "nbformat": 4,
 "nbformat_minor": 2
}
