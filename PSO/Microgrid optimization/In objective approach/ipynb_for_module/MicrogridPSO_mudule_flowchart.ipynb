{
 "cells": [
  {
   "cell_type": "code",
   "execution_count": 1,
   "metadata": {},
   "outputs": [],
   "source": [
    "'''\n",
    "---How to use---\n",
    "\n",
    "After make PSO by MicrogridPSO_module.py\n",
    "\n",
    "df ,total_check, variables =loop_flowchart(PSO)\n",
    "'''\n",
    "\n",
    "import subprocess\n",
    "import datetime\n",
    "import math\n",
    "import os\n",
    "import matplotlib.pyplot as plt\n",
    "import numpy as np\n",
    "import pandas as pd\n",
    "import inspect\n",
    "\n",
    "def pv_generate(PSO):\n",
    "    PSO.pv=(PSO.pv_cap_max/PSO.pv_capacity_per_unit)*PSO.np_PV_efficient[PSO.h]\n",
    "    return PSO.pv\n",
    "\n",
    "def flowchart(PSO):\n",
    "    \n",
    "    # initialize some parameters\n",
    "    PSO.pv = pv_generate(PSO)\n",
    "    PSO.check = \"True\"\n",
    "    PSO.p_diesel = 0\n",
    "    PSO.trashed_power = 0\n",
    "    PSO.root= str(PSO.h)+\"h\"\n",
    "    # 太陽光の発電量が需要より多いか確認\n",
    "    if PSO.pv > PSO.np_demand[PSO.h]:\n",
    "        # 太陽光の発電量が需要より多い時の処理\n",
    "        # バッテリーが過充電にならないかのチェック、過充電の場合、余った電気は捨てる。\n",
    "        if PSO.p_battery+(PSO.pv-PSO.np_demand[PSO.h]) <= PSO.battery_max:\n",
    "            PSO.p_battery = PSO.p_battery+(PSO.pv-PSO.np_demand[PSO.h])\n",
    "            PSO.root=str(PSO.h)+\"h: \"+\"Battery charge without diesel.\"\n",
    "        else:\n",
    "            PSO.trashed_power = ((PSO.pv-PSO.np_demand[PSO.h])+PSO.p_battery) - PSO.battery_max\n",
    "            PSO.p_battery = PSO.battery_max\n",
    "            PSO.root=str(PSO.h)+\"h: \"+\"Fullcharge ,no diesel, trashed \"\\\n",
    "                 + str(round(PSO.trashed_power, 2))+\"[kWh].\"\n",
    "\n",
    "    else:\n",
    "        # 太陽光の発電量が需要より少ない時の処理\n",
    "        # ディーゼルを使うかチェック\n",
    "        if PSO.p_battery > (PSO.np_demand[PSO.h]-PSO.pv) and PSO.p_battery-(PSO.np_demand[PSO.h]-PSO.pv) > PSO.battery_min:\n",
    "            PSO.p_battery = PSO.p_battery-(PSO.np_demand[PSO.h]-PSO.pv)\n",
    "        else:\n",
    "            PSO.p_diesel = PSO.np_demand[PSO.h]-PSO.pv-(PSO.p_battery-PSO.battery_min)\n",
    "            # ディーゼルの容量を超える場合はエラー\n",
    "            if PSO.p_diesel > PSO.diesel_max:\n",
    "                PSO.check = 'False'\n",
    "                PSO.root=str(PSO.h)+\"h: \"+\"Error! diesel capacity is over!\"\n",
    "            else:\n",
    "                PSO.root= str(PSO.h)+\"h: \"+\"discharging \" + str(PSO.p_battery-PSO.battery_min)\\\n",
    "                      +\"[kWh], diesel \" + str( round(PSO.p_diesel, 3) ) +\"[kWh].\"\n",
    "                PSO.p_battery = PSO.battery_min\n",
    "\n",
    "    PSO.parameters = {\"hour\": PSO.h,\n",
    "                  \"pv\": PSO.pv,\n",
    "                  \"battery state\": PSO.p_battery,\n",
    "                  \"demand\": PSO.np_demand[PSO.h],\n",
    "                  \"diesel power\": PSO.p_diesel,\n",
    "                  \"trashed power\": PSO.trashed_power,\n",
    "                  \"Check\":PSO.check,\n",
    "                  \"root\":PSO.root,\n",
    "                    }\n",
    "\n",
    "    return PSO.parameters, PSO.check, PSO.root\n",
    "\n",
    "def loop_flowchart(PSO):\n",
    "    #からのデータフレームを作成\n",
    "    PSO.df = pd.DataFrame()\n",
    "    for PSO.h in range(24):\n",
    "        PSO.flowchart_parameters, PSO.check, PSO.root=flowchart(PSO)\n",
    "        PSO.p_battery=PSO.flowchart_parameters['battery state']\n",
    "        PSO.df=pd.concat([PSO.df,pd.io.json.json_normalize(PSO.flowchart_parameters)])\n",
    "\n",
    "    #ループ内でfalseがあるかチェック　falseがあるとtotal_checkにfalseが入る。\n",
    "    PSO.total_check = not(\"False\" in PSO.df['Check'].values)\n",
    "\n",
    "    PSO.variables = {\"pv_cap_max\": PSO.pv_cap_max,\n",
    "                 \"battery_cap_max\": PSO.battery_cap_max,\n",
    "                 \"battery_max\": PSO.battery_max,\n",
    "                 \"battery_min\": PSO.battery_min,\n",
    "                 \"diesel_max\": PSO.diesel_max,\n",
    "                 \"demand_sum\": PSO.df['demand'].sum(),\n",
    "                 \"pv_power_sum\": PSO.df['pv'].sum(),\n",
    "                 \"diesel_power_sum \": PSO.df['diesel power'].sum(),\n",
    "                 \"trashed_power_sum \": PSO.df['trashed power'].sum(),\n",
    "                    }\n",
    "    \n",
    "    return PSO.df ,PSO.total_check, PSO.variables"
   ]
  },
  {
   "cell_type": "code",
   "execution_count": 2,
   "metadata": {},
   "outputs": [
    {
     "data": {
      "text/plain": [
       "CompletedProcess(args=['jupyter', 'nbconvert', '--to', 'python', 'MicrogridPSO_module_flowchart.ipynb'], returncode=255)"
      ]
     },
     "execution_count": 2,
     "metadata": {},
     "output_type": "execute_result"
    }
   ],
   "source": [
    "#.ipynb convert to .py\n",
    "#subprocess.run(['jupyter','nbconvert', '--to','python','MicrogridPSO_module_flowchart.ipynb'])"
   ]
  }
 ],
 "metadata": {
  "kernelspec": {
   "display_name": "Python 3",
   "language": "python",
   "name": "python3"
  },
  "language_info": {
   "codemirror_mode": {
    "name": "ipython",
    "version": 3
   },
   "file_extension": ".py",
   "mimetype": "text/x-python",
   "name": "python",
   "nbconvert_exporter": "python",
   "pygments_lexer": "ipython3",
   "version": "3.7.1"
  },
  "varInspector": {
   "cols": {
    "lenName": 16,
    "lenType": 16,
    "lenVar": 40
   },
   "kernels_config": {
    "python": {
     "delete_cmd_postfix": "",
     "delete_cmd_prefix": "del ",
     "library": "var_list.py",
     "varRefreshCmd": "print(var_dic_list())"
    },
    "r": {
     "delete_cmd_postfix": ") ",
     "delete_cmd_prefix": "rm(",
     "library": "var_list.r",
     "varRefreshCmd": "cat(var_dic_list()) "
    }
   },
   "types_to_exclude": [
    "module",
    "function",
    "builtin_function_or_method",
    "instance",
    "_Feature"
   ],
   "window_display": false
  }
 },
 "nbformat": 4,
 "nbformat_minor": 2
}
