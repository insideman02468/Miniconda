{
 "cells": [
  {
   "cell_type": "code",
   "execution_count": 1,
   "metadata": {},
   "outputs": [],
   "source": [
    "#Making module\n",
    "import subprocess\n",
    "import datetime\n",
    "import math\n",
    "import os\n",
    "import matplotlib.pyplot as plt\n",
    "import numpy as np\n",
    "import pandas as pd\n",
    "import inspect"
   ]
  },
  {
   "cell_type": "code",
   "execution_count": 2,
   "metadata": {},
   "outputs": [],
   "source": [
    "class MicrogridPSO_initialize:\n",
    "\n",
    "    def __init__(self, Target_input):\n",
    "\n",
    "        # input CSV\n",
    "        self.Target_input = pd.read_csv(\n",
    "            \"Target_input.csv\", encoding=\"UTF-8\").set_index(['Time'])\n",
    "\n",
    "        # get CSV column length\n",
    "        self.Target_input_len = len(self.Target_input)\n",
    "\n",
    "        # initial_cost_parameters\n",
    "        self.initial_cost_parameters = {\"PV_investment[yen/kWh]\": 0,\n",
    "                                        \"Wind_investment[yen/kWh]\":0,\n",
    "                                        \"battery_investment[yen/kWh]\": 0,\n",
    "                                        \"diesel_investment[yen/kWh]\": 0\n",
    "                                        }\n",
    "\n",
    "        # initial_input_values\n",
    "        self.h = 0\n",
    "        self.initial_input_values = {\"number_demand\": 0,\n",
    "                                     \"pv_capacity_per_unit\": 0,\n",
    "                                     \"wind_capacity_per_unit\": 0,\n",
    "                                     \"SOC_max[%]\": 1,\n",
    "                                     \"SOC_min[%]\": 0,\n",
    "                                     \"SOC_start[%]\":0.5\n",
    "                                     }\n",
    "\n",
    "        # initial fitness variable parameters\n",
    "        self.pv_cap_max = 0  # W\n",
    "        self.wind_cap_max = 0  # kWh\n",
    "        self.battery_cap_max = 0  # kWh\n",
    "        self.diesel_max = 0  # kWh\n",
    "        self.fitness_variable_parameters = {\"pv_cap_max\": self.pv_cap_max,\n",
    "                                            \"wind_cap_max\": self.wind_cap_max,\n",
    "                                            \"battery_cap_max\": self.battery_cap_max,\n",
    "                                            \"diesel_max\": self.diesel_max\n",
    "                                            }\n",
    "\n",
    "    # set initial_cost_parameters like self.initial_cost_parameters\n",
    "    def set_initial_cost_parameters(self, initial_cost_parameters):\n",
    "        self.initial_cost_parameters = initial_cost_parameters\n",
    "\n",
    "    # set initial_input_values like self.initial_input_values\n",
    "    def set_initial_input_values(self, initial_input_values):\n",
    "        self.initial_input_values = initial_input_values\n",
    "        self.number_demand = initial_input_values[\"number_demand\"]\n",
    "        self.SOC_max = initial_input_values[\"SOC_max[%]\"]\n",
    "        self.SOC_min = initial_input_values[\"SOC_min[%]\"]\n",
    "        self.pv_capacity_per_unit = initial_input_values[\"pv_capacity_per_unit\"]\n",
    "        self.wind_capacity_per_unit = initial_input_values[\"wind_capacity_per_unit\"]\n",
    "        self.np_demand = self.number_demand * \\\n",
    "            self.Target_input['Demand[kWh]'].values\n",
    "        self.np_PV_efficient = self.Target_input['Forecast_PV[Wh/unit]'].values/1000\n",
    "        self.np_Wind_efficient = self.Target_input['Forecast_Wind[Wh/unit]'].values\n",
    "\n",
    "    # update fitness_variable_parameters\n",
    "    def update_fitness_variable_parameters(self, fitness_variable_parameters):\n",
    "        self.pv_cap_max = fitness_variable_parameters['pv_cap_max']\n",
    "        self.wind_cap_max = fitness_variable_parameters['wind_cap_max']\n",
    "        self.battery_cap_max = fitness_variable_parameters['battery_cap_max']\n",
    "        self.diesel_max = fitness_variable_parameters['diesel_max']\n",
    "\n",
    "        self.fitness_variable_parameters = {\"pv_cap_max\": self.pv_cap_max,\n",
    "                                            \"wind_cap_max\": self.wind_cap_max,\n",
    "                                            \"battery_cap_max\": self.battery_cap_max,\n",
    "                                            \"diesel_max\": self.diesel_max\n",
    "                                            }\n",
    "\n",
    "    # batery limitation calc\n",
    "    def set_battery_limit(self):\n",
    "        self.battery_max = self.initial_input_values[\"SOC_max[%]\"] * \\\n",
    "            self.battery_cap_max\n",
    "        self.battery_min = self.initial_input_values[\"SOC_min[%]\"] * \\\n",
    "            self.battery_cap_max\n",
    "        self.p_battery=self.initial_input_values[\"SOC_start[%]\"]*self.battery_max"
   ]
  },
  {
   "cell_type": "code",
   "execution_count": 3,
   "metadata": {},
   "outputs": [
    {
     "data": {
      "text/plain": [
       "'\\n###inspect functions\\nprint(inspect.getmembers(MicrogridPSO_initialize, inspect.isfunction))\\n\\n###inspect methods\\nprint(inspect.getmembers(MicrogridPSO_initialize, inspect.ismethod))\\n\\n###inspect object & methods\\nprint(dir(MicrogridPSO_initialize))\\n'"
      ]
     },
     "execution_count": 3,
     "metadata": {},
     "output_type": "execute_result"
    }
   ],
   "source": [
    "'''\n",
    "###inspect functions\n",
    "print(inspect.getmembers(MicrogridPSO_initialize, inspect.isfunction))\n",
    "\n",
    "###inspect methods\n",
    "print(inspect.getmembers(MicrogridPSO_initialize, inspect.ismethod))\n",
    "\n",
    "###inspect object & methods\n",
    "print(dir(MicrogridPSO_initialize))\n",
    "'''"
   ]
  },
  {
   "cell_type": "code",
   "execution_count": 4,
   "metadata": {},
   "outputs": [
    {
     "data": {
      "text/plain": [
       "' How to initialize\\n###Class check\\nPSO = MicrogridPSO_initialize(\"Target_input.csv\")\\n\\nPSO.set_initial_cost_parameters({\\'PV_investment[yen/kWh]\\': 20,\\n \\'battery_investment[yen/kWh]\\': 50,\\n \\'diesel_investment[yen/kWh]\\': 70})\\n\\nPSO.set_initial_input_values({ \"number_demand\": 1,\\n                                      \"pv_capacity_per_unit\": 245,\\n                                      \"SOC_max[%]\": 0.9,\\n                                      \"SOC_min[%]\": 0.2,\\n                                      \"SOC_start[%]\":0.5\\n                                          } )\\n\\nPSO.update_fitness_variable_parameters({\\'pv_cap_max\\': 245, \\'battery_cap_max\\': 1, \\'diesel_max\\': 5})\\n\\n#PSO.initial_input_values\\n'"
      ]
     },
     "execution_count": 4,
     "metadata": {},
     "output_type": "execute_result"
    }
   ],
   "source": [
    "''' How to initialize\n",
    "###Class check\n",
    "PSO = MicrogridPSO_initialize(\"Target_input.csv\")\n",
    "\n",
    "PSO.set_initial_cost_parameters({'PV_investment[yen/kWh]': 20,\n",
    " 'battery_investment[yen/kWh]': 50,\n",
    " 'diesel_investment[yen/kWh]': 70})\n",
    "\n",
    "PSO.set_initial_input_values({ \"number_demand\": 1,\n",
    "                                      \"pv_capacity_per_unit\": 245,\n",
    "                                      \"SOC_max[%]\": 0.9,\n",
    "                                      \"SOC_min[%]\": 0.2,\n",
    "                                      \"SOC_start[%]\":0.5\n",
    "                                          } )\n",
    "\n",
    "PSO.update_fitness_variable_parameters({'pv_cap_max': 245, 'battery_cap_max': 1, 'diesel_max': 5})\n",
    "\n",
    "#PSO.initial_input_values\n",
    "'''"
   ]
  },
  {
   "cell_type": "code",
   "execution_count": 5,
   "metadata": {},
   "outputs": [
    {
     "data": {
      "text/plain": [
       "CompletedProcess(args=['jupyter', 'nbconvert', '--to', 'python', 'MicrogridPSO_module.ipynb'], returncode=0)"
      ]
     },
     "execution_count": 5,
     "metadata": {},
     "output_type": "execute_result"
    }
   ],
   "source": [
    "#.ipynb convert to .py\n",
    "subprocess.run(['jupyter','nbconvert', '--to','python','MicrogridPSO_module.ipynb'])"
   ]
  }
 ],
 "metadata": {
  "kernelspec": {
   "display_name": "Python 3",
   "language": "python",
   "name": "python3"
  },
  "language_info": {
   "codemirror_mode": {
    "name": "ipython",
    "version": 3
   },
   "file_extension": ".py",
   "mimetype": "text/x-python",
   "name": "python",
   "nbconvert_exporter": "python",
   "pygments_lexer": "ipython3",
   "version": "3.7.1"
  },
  "varInspector": {
   "cols": {
    "lenName": 16,
    "lenType": 16,
    "lenVar": 40
   },
   "kernels_config": {
    "python": {
     "delete_cmd_postfix": "",
     "delete_cmd_prefix": "del ",
     "library": "var_list.py",
     "varRefreshCmd": "print(var_dic_list())"
    },
    "r": {
     "delete_cmd_postfix": ") ",
     "delete_cmd_prefix": "rm(",
     "library": "var_list.r",
     "varRefreshCmd": "cat(var_dic_list()) "
    }
   },
   "types_to_exclude": [
    "module",
    "function",
    "builtin_function_or_method",
    "instance",
    "_Feature"
   ],
   "window_display": false
  }
 },
 "nbformat": 4,
 "nbformat_minor": 2
}
