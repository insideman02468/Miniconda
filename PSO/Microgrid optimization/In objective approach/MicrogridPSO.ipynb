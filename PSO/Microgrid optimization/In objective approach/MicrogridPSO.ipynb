{
 "cells": [
  {
   "cell_type": "code",
   "execution_count": 1,
   "metadata": {},
   "outputs": [],
   "source": [
    "from MicrogridPSO_module import *\n",
    "from MicrogridPSO_module_flowchart import *\n",
    "from MicrogridPSO_module_PSO import *\n",
    "from MicrogridPSO_module_visualize import *"
   ]
  },
  {
   "cell_type": "code",
   "execution_count": 2,
   "metadata": {},
   "outputs": [],
   "source": [
    "# inspect functions\n",
    "#print(inspect.getmembers(MicrogridPSO_initialize, inspect.isfunction))\n",
    "\n",
    "# inspect methods\n",
    "#print(inspect.getmembers(MicrogridPSO_initialize, inspect.ismethod))\n",
    "\n",
    "# inspect object & methods\n",
    "# print(dir(MicrogridPSO_initialize))"
   ]
  },
  {
   "cell_type": "code",
   "execution_count": 3,
   "metadata": {},
   "outputs": [],
   "source": [
    "# How to initialize\n",
    "# Class check\n",
    "#CSVを読み込みインスタンスを作成。\n",
    "PSO = MicrogridPSO_initialize(\"Target_input.csv\")\n",
    "\n",
    "#初期値を設定\n",
    "PSO.set_initial_input_values({\"number_demand\": 2,\n",
    "                              \"pv_capacity_per_unit\": 245,\n",
    "                              \"SOC_max[%]\": 0.9,\n",
    "                              \"SOC_min[%]\": 0.2,\n",
    "                              \"SOC_start[%]\": 0.5\n",
    "                              })\n",
    "#初期値を設定\n",
    "PSO.set_initial_cost_parameters({'PV_investment[yen/kWh]': 20,\n",
    "                                 'battery_investment[yen/kWh]': 50,\n",
    "                                 'diesel_investment[yen/kWh]': 70})\n",
    "\n",
    "# PSOの中身を確認\n",
    "# print(dir(PSO))\n",
    "#print(vars(PSO))"
   ]
  },
  {
   "cell_type": "code",
   "execution_count": 4,
   "metadata": {},
   "outputs": [
    {
     "name": "stdout",
     "output_type": "stream",
     "text": [
      "Inform the number of iterations: 30\n",
      "Inform the number of particles: 20\n",
      "Inform W: 0.5\n",
      "Inform c1: 0.5\n",
      "Inform c2: 0.5\n"
     ]
    },
    {
     "ename": "NameError",
     "evalue": "name 'W' is not defined",
     "output_type": "error",
     "traceback": [
      "\u001b[0;31m---------------------------------------------------------------------------\u001b[0m",
      "\u001b[0;31mNameError\u001b[0m                                 Traceback (most recent call last)",
      "\u001b[0;32m<timed exec>\u001b[0m in \u001b[0;36m<module>\u001b[0;34m\u001b[0m\n",
      "\u001b[0;32m~/Miniconda/PSO/Microgrid optimization/In objective approach/MicrogridPSO_module_PSO.py\u001b[0m in \u001b[0;36miterations_PSO\u001b[0;34m(PSO)\u001b[0m\n\u001b[1;32m     55\u001b[0m \u001b[0;34m\u001b[0m\u001b[0m\n\u001b[1;32m     56\u001b[0m     print(PSO.fitness_variable_parameters, \"\\niterations:\", n_iterations, \"n_particles:\" \\\n\u001b[0;32m---> 57\u001b[0;31m     \u001b[0;34m,\u001b[0m\u001b[0mn_particles\u001b[0m\u001b[0;34m,\u001b[0m \u001b[0;34m\"W:\"\u001b[0m\u001b[0;34m,\u001b[0m \u001b[0mW\u001b[0m\u001b[0;34m,\u001b[0m\u001b[0;34m\"c1:\"\u001b[0m\u001b[0;34m,\u001b[0m \u001b[0mc1\u001b[0m\u001b[0;34m,\u001b[0m\u001b[0;34m\"c2:\"\u001b[0m\u001b[0;34m,\u001b[0m \u001b[0mc2\u001b[0m\u001b[0;34m,\u001b[0m\u001b[0;31m\\\u001b[0m\u001b[0;34m\u001b[0m\u001b[0;34m\u001b[0m\u001b[0m\n\u001b[0m\u001b[1;32m     58\u001b[0m     \"particle:\",PSO.particle)\n\u001b[1;32m     59\u001b[0m \u001b[0;34m\u001b[0m\u001b[0m\n",
      "\u001b[0;31mNameError\u001b[0m: name 'W' is not defined"
     ]
    }
   ],
   "source": [
    "%%time\n",
    "\"\"\"\n",
    "#ここからForで回すような感じで設備容量の最適解を探していく。\n",
    "#つまり、これが粒子となる。\n",
    "PSO.update_fitness_variable_parameters(\n",
    "    {'pv_cap_max': 4000, 'battery_cap_max': 3, 'diesel_max': 2})\n",
    "\n",
    "#毎回、容量が変わるのでバッテリーのリミットを更新\n",
    "PSO.set_battery_limit()\n",
    "\"\"\"\n",
    "iterations_PSO(PSO)\n",
    "\n",
    "#フローチャートをループで回して計算結果を取得\n",
    "#df, total_check, variables, total_cost ,success_loops, failed_loops = loop_flowchart(PSO)"
   ]
  },
  {
   "cell_type": "code",
   "execution_count": null,
   "metadata": {},
   "outputs": [],
   "source": [
    "print(\"total_check is\",total_check, \".\\nvariables=\\n\",variables, \"\\n\\ntotal_cost:\" ,total_cost,\\\n",
    "      \"\\nsuccess_loops :\",success_loops, \"  failed_loops :\",failed_loops)\n",
    "df1[:3]"
   ]
  },
  {
   "cell_type": "code",
   "execution_count": null,
   "metadata": {},
   "outputs": [],
   "source": [
    "#ここからForで回すような感じで設備容量の最適解を探していく。\n",
    "PSO.update_fitness_variable_parameters(\n",
    "    {'pv_cap_max': 2000, 'battery_cap_max': 3, 'diesel_max': 7})\n",
    "\n",
    "#毎回、容量が変わるのでバッテリーのリミットを更新\n",
    "PSO.set_battery_limit()\n",
    "\n",
    "#フローチャートをループで回して計算結果を取得\n",
    "df2, total_check, variables, total_cost ,success_loops, failed_loops = loop_flowchart(PSO)\n",
    "\n",
    "print(\"total_check is\",total_check, \".\\nvariables=\\n\",variables, \"\\n\\ntotal_cost:\" ,total_cost,\\\n",
    "      \"\\nsuccess_loops :\",success_loops, \"  failed_loops :\",failed_loops)\n",
    "#df2"
   ]
  },
  {
   "cell_type": "code",
   "execution_count": null,
   "metadata": {},
   "outputs": [],
   "source": [
    "#PSO_plotクラスでグラフを作成する。\n",
    "plot = PSO_plot()"
   ]
  },
  {
   "cell_type": "code",
   "execution_count": null,
   "metadata": {},
   "outputs": [],
   "source": [
    "'''\n",
    "PSO.Target_input[:5]\n",
    "plot.figplot( x=PSO.Target_input.index, y =PSO.Target_input['Demand[kWh]'],\\\n",
    "             x_name='x_name',y_name='y_name',title='title',size1= 10, size2=10, \\\n",
    "             fontsize=10, y_range=2,subplot1=2,subplot2=2,subplot3=1)\n",
    "'''\n",
    "plot.figplot2( x=PSO.Target_input.index, \\\n",
    "              y1 =df1['battery state[kWh]'],y2 =df1['pv'],\\\n",
    "             x_name='Date',y1_name='battery state[kWh]',y2_name='demand',title='title',size1= 10, size2=10, \\\n",
    "             fontsize=10, y_range=4,subplot1=2,subplot2=2,subplot3=3)\n",
    "\n",
    "plot.figplot2( x=PSO.Target_input.index, \\\n",
    "              y1 =df2['battery state[kWh]'],y2 =df2['pv'],\\\n",
    "             x_name='Date',y1_name='battery state[kWh]',y2_name='demand',title='title',size1= 10, size2=10, \\\n",
    "             fontsize=10, y_range=4,subplot1=2,subplot2=2,subplot3=3)"
   ]
  },
  {
   "cell_type": "code",
   "execution_count": null,
   "metadata": {},
   "outputs": [],
   "source": []
  }
 ],
 "metadata": {
  "kernelspec": {
   "display_name": "Python 3",
   "language": "python",
   "name": "python3"
  },
  "language_info": {
   "codemirror_mode": {
    "name": "ipython",
    "version": 3
   },
   "file_extension": ".py",
   "mimetype": "text/x-python",
   "name": "python",
   "nbconvert_exporter": "python",
   "pygments_lexer": "ipython3",
   "version": "3.7.1"
  },
  "varInspector": {
   "cols": {
    "lenName": 16,
    "lenType": 16,
    "lenVar": 40
   },
   "kernels_config": {
    "python": {
     "delete_cmd_postfix": "",
     "delete_cmd_prefix": "del ",
     "library": "var_list.py",
     "varRefreshCmd": "print(var_dic_list())"
    },
    "r": {
     "delete_cmd_postfix": ") ",
     "delete_cmd_prefix": "rm(",
     "library": "var_list.r",
     "varRefreshCmd": "cat(var_dic_list()) "
    }
   },
   "position": {
    "height": "492px",
    "left": "869px",
    "right": "20px",
    "top": "67px",
    "width": "421px"
   },
   "types_to_exclude": [
    "module",
    "function",
    "builtin_function_or_method",
    "instance",
    "_Feature"
   ],
   "window_display": false
  }
 },
 "nbformat": 4,
 "nbformat_minor": 2
}
