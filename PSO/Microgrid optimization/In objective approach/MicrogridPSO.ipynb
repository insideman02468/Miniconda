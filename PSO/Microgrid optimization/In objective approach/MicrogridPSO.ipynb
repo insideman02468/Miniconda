{
 "cells": [
  {
   "cell_type": "code",
   "execution_count": 1,
   "metadata": {},
   "outputs": [
    {
     "name": "stdout",
     "output_type": "stream",
     "text": [
      "Populating the interactive namespace from numpy and matplotlib\n"
     ]
    }
   ],
   "source": [
    "from MicrogridPSO_module import *\n",
    "from MicrogridPSO_module_flowchart import *\n",
    "from MicrogridPSO_module_PSO import *\n",
    "from MicrogridPSO_pareto_animation import *\n",
    "%pylab inline --no-import-all"
   ]
  },
  {
   "cell_type": "code",
   "execution_count": 2,
   "metadata": {},
   "outputs": [
    {
     "name": "stdout",
     "output_type": "stream",
     "text": [
      "['__annotations__', '__call__', '__class__', '__closure__', '__code__', '__defaults__', '__delattr__', '__dict__', '__dir__', '__doc__', '__eq__', '__format__', '__ge__', '__get__', '__getattribute__', '__globals__', '__gt__', '__hash__', '__init__', '__init_subclass__', '__kwdefaults__', '__le__', '__lt__', '__module__', '__name__', '__ne__', '__new__', '__qualname__', '__reduce__', '__reduce_ex__', '__repr__', '__setattr__', '__sizeof__', '__str__', '__subclasshook__']\n"
     ]
    }
   ],
   "source": [
    "# inspect function\n",
    "#print(inspect.getmembers(MicrogridPSO_initialize, inspect.isfunction))\n",
    "\n",
    "# inspect methods\n",
    "#print(inspect.getmembers(MicrogridPSO_initialize, inspect.ismethod))\n",
    "\n",
    "# inspect object & methods\n",
    "# print(dir(MicrogridPSO_initialize))\n",
    "print(dir(Make_animation))"
   ]
  },
  {
   "cell_type": "code",
   "execution_count": null,
   "metadata": {},
   "outputs": [],
   "source": [
    "# How to initialize\n",
    "# Class check\n",
    "# CSVを読み込みインスタンスを作成。\n",
    "PSO = MicrogridPSO_initialize(\"Target_input.csv\")\n",
    "\n",
    "# 初期値を設定\n",
    "PSO.set_initial_input_values({\"number_demand\": 1,\n",
    "                              \"pv_capacity_per_unit\": 245,\n",
    "                              \"wind_capacity_per_unit\": 2.3,\n",
    "                              \"SOC_max[%]\": 0.8,\n",
    "                              \"SOC_min[%]\": 0.2,\n",
    "                              \"SOC_start[%]\": 0.5\n",
    "                              })\n",
    "\n",
    "# 初期値を設定\n",
    "PSO.set_initial_cost_parameters({\"It_PV_1kW[yen/year]\": [726383.3333, 0, 0, 0, 0, 0, 0, 0, 0, 0, 0, 0, 0, 0, 0, 0, 0, 0, 0, 0],\n",
    "                                 \"Mt_PV_1kW[yen/year]\": [4329] * 20,\n",
    "                                 \"Ft_PV_1kW[yen/year]\": [0]*20,\n",
    "                                 \"It_Wind_1kW[yen/year]\": [302274.7826, 0, 0, 0, 0, 0, 0, 0, 0, 0, 0, 0, 0, 0, 0, 0, 0, 0, 0, 0],\n",
    "                                 \"Mt_Wind_1kW[yen/year]\": [662.785213] * 20,\n",
    "                                 \"Ft_Wind_1kW[yen/year]\": [0]*20,\n",
    "                                 \"It_Diesel_1kW[yen/year]\": [33611.11, 33611.11, 0, 33611.11, 33611.11, 0, 33611.11, 33611.11, 0, 33611.11,\n",
    "                                                             33611.11, 0, 33611.11, 33611.11, 0, 33611.11, 33611.11, 0, 33611.11, 33611.11],\n",
    "                                 \"Mt_Diesel_1kW[yen/year]\": [8.8] * 20,\n",
    "                                 \"Diesel_Pf\": 129,\n",
    "                                 \"Diesel_Adg\": 0.2461,\n",
    "                                 \"Diesel_Bdg\": 0.081451,\n",
    "                                 \"It_Battery_1kW[yen/year]\": [13540, 0, 0, 0, 13540, 0, 0, 0, 13540, 0, 0, 0, 13540, 0, 0, 0, 13540, 0, 0, 0],\n",
    "                                 \"Mt_Battery_1kW[yen/year]\": [1100] * 20,\n",
    "                                 \"Ft_Battery_1kW[yen/year]\": [0]*20,\n",
    "                                 \"Sell_income_from_trashed[kWh/yen]\": [0]*20,\n",
    "                                 \"r[yen/year]\": [0.0234375]*20,\n",
    "                                 \"operation_year\": list(range(1, 21))\n",
    "                                 })\n",
    "\n",
    "# PSOの中身を確認\n",
    "# print(dir(PSO))\n",
    "# print(vars(PSO))\n",
    "# len(PSO.Target_input.index)"
   ]
  },
  {
   "cell_type": "code",
   "execution_count": null,
   "metadata": {
    "scrolled": true
   },
   "outputs": [
    {
     "name": "stdout",
     "output_type": "stream",
     "text": [
      "Inform the number of iterations: 2\n",
      "Inform the number of particles: 2\n",
      "Inform w: 0.7\n",
      "Inform c1: 0.4\n",
      "Inform c2: 0.6\n",
      "{'pv_cap_max': 0, 'wind_cap_max': 0, 'battery_cap_max': 0, 'diesel_max': 0} \n",
      "iterations: 2 n_particles: 2 w: 0.7 c1: 0.4 c2: 0.6 particle: {'particle_position_vector': array([[3.36202788e+03, 1.58761645e+01, 3.85891025e+01, 2.11380015e+00],\n",
      "       [3.80927151e+03, 6.14958099e+00, 8.22777848e+00, 1.44974227e+01]]), 'personal_best_position': array([[3.36202788e+03, 1.58761645e+01, 3.85891025e+01, 2.11380015e+00],\n",
      "       [3.80927151e+03, 6.14958099e+00, 8.22777848e+00, 1.44974227e+01]]), 'personal_best_fitness_value': array([inf, inf]), 'global_best_fitness_value': inf, 'global_best_position': array([[3.36202788e+03, 1.58761645e+01, 3.85891025e+01, 2.11380015e+00],\n",
      "       [3.80927151e+03, 6.14958099e+00, 8.22777848e+00, 1.44974227e+01]]), 'velocity_vector': [array([0, 0, 0, 0]), array([0, 0, 0, 0])], 'previous_velocity_vector': [array([0, 0, 0, 0]), array([0, 0, 0, 0])], 'iteration': 0, 'range_vector': [5000, 20, 40, 20]}\n",
      "-------iteration = 0 -----------\n",
      "[[3.36202788e+03 1.58761645e+01 3.85891025e+01 2.11380015e+00]\n",
      " [3.80927151e+03 6.14958099e+00 8.22777848e+00 1.44974227e+01]]\n"
     ]
    }
   ],
   "source": [
    "%%time\n",
    "\n",
    "#計算結果を実行\n",
    "iterations_PSO(PSO)"
   ]
  },
  {
   "cell_type": "code",
   "execution_count": null,
   "metadata": {
    "scrolled": true
   },
   "outputs": [],
   "source": [
    "# print(PSO.best['gbest_fitness_value'])\n",
    "df=PSO.best['table']\n",
    "df.to_csv('Result/PSO_result_no_income.csv',encoding=\"SHIFT-JIS\")  \n",
    "df"
   ]
  },
  {
   "cell_type": "code",
   "execution_count": null,
   "metadata": {
    "scrolled": true
   },
   "outputs": [],
   "source": [
    "# plot_list\n",
    "best_cost_list = np.array(PSO.best_cost_list)\n",
    "gbest_list = np.array(PSO.global_best_list)\n",
    "iteration_list = np.array(PSO.iteration_list)\n",
    "plot_list = pd.DataFrame({'iteration': np.array(PSO.iteration_list)+1,\n",
    "                          'cost': np.array(PSO.best_cost_list)})"
   ]
  },
  {
   "cell_type": "code",
   "execution_count": null,
   "metadata": {},
   "outputs": [],
   "source": [
    "PSO.best[\"variables\"]"
   ]
  },
  {
   "cell_type": "code",
   "execution_count": null,
   "metadata": {
    "scrolled": true
   },
   "outputs": [],
   "source": [
    "plot_list"
   ]
  },
  {
   "cell_type": "code",
   "execution_count": null,
   "metadata": {
    "scrolled": true
   },
   "outputs": [],
   "source": [
    "plot_list.plot(x=\"iteration\", y=\"cost\", title='Total cost in each iteration')\n",
    "plt.savefig('Result/Total cost in each iteration.png')"
   ]
  },
  {
   "cell_type": "code",
   "execution_count": null,
   "metadata": {},
   "outputs": [],
   "source": [
    "COST_PV = (PSO.best[\"variables\"][\"pv_cap_max\"] / 1000) * (np.array(PSO.initial_cost_parameters[\"It_PV_1kW[yen/year]\"]\n",
    "                                                                   ) + np.array(PSO.initial_cost_parameters[\"Mt_PV_1kW[yen/year]\"]))\n",
    "COST_Wind = (PSO.best[\"variables\"][\"wind_cap_max\"]\n",
    "             * (np.array(PSO.initial_cost_parameters[\"It_Wind_1kW[yen/year]\"]) + np.array(PSO.initial_cost_parameters[\"Mt_Wind_1kW[yen/year]\"])))\n",
    "COST_Diesel = (PSO.best[\"variables\"][\"diesel_max\"]\n",
    "               * (np.array(PSO.initial_cost_parameters[\"It_Diesel_1kW[yen/year]\"]) + np.array(PSO.initial_cost_parameters[\"Mt_Diesel_1kW[yen/year]\"]))) + np.array(PSO.best[\"variables\"][\"Diesel_Cf_sum\"] * 20)\n",
    "COST_Battery = PSO.best[\"variables\"][\"battery_cap_max\"] * (np.array(\n",
    "    PSO.initial_cost_parameters[\"It_Battery_1kW[yen/year]\"]) + np.array(PSO.initial_cost_parameters[\"Mt_Battery_1kW[yen/year]\"]))\n",
    "\n",
    "COST = {\n",
    "    \"COST PV\": np.round(COST_PV, 2),\n",
    "    \"TOTAL COST PV\": np.round(np.sum(COST_PV), 2),\n",
    "    \"LCOE PV\": np.round(np.sum(COST_PV)/(20*PSO.best[\"variables\"][\"pv_power_sum\"]), 2),\n",
    "    \"COST Wind\": np.round(COST_Wind, 2),\n",
    "    \"TOTAL COST Wind\": np.round(np.sum(COST_Wind), 2),\n",
    "    \"LCOE WIND\": np.round(np.sum(COST_Wind)/(20*PSO.best[\"variables\"][\"wind_power_sum\"]), 2),\n",
    "    \"COST DIESEL\": np.round(COST_Diesel, 2),\n",
    "    \"TOTAL COST DIESEL\": np.round(np.sum(COST_Diesel), 2),\n",
    "    \"LCOE DIESEL\": np.round(np.sum(COST_Diesel)/(20*PSO.best[\"variables\"][\"diesel_power_sum\"]), 2),\n",
    "    \"COST BATTERY\": np.round(COST_Battery, 2),\n",
    "    \"TOTAL COST BATTERY\": np.round(np.sum(COST_Battery), 2),\n",
    "    \"LCOE BATTERY\": np.round(np.sum(COST_Battery)/(20*PSO.best[\"variables\"][\"battery_discharging_power_sum\"]), 2),\n",
    "}"
   ]
  },
  {
   "cell_type": "code",
   "execution_count": null,
   "metadata": {
    "scrolled": true
   },
   "outputs": [],
   "source": [
    "# 計算結果テキストファイルの作成\n",
    "f = open('Result/PSO_result_parameters.txt', 'w')  # 書き込みモードで開く\n",
    "f_content = 'LCOE:'+str(np.sum(PSO.best['SCL'])/np.sum(PSO.best['SEL']))+'\\nglobal_best_position:'+str(PSO.best['global_best_position'])+'\\nglobal_best_fitness_value: '+str(PSO.best['global_best_fitness_value'])+\"\\nCOST:\"+str(COST)+\"\\nPSO.best[variables]:\"\\\n",
    "    + str(PSO.best[\"variables\"]) + '\\nPSO.initial_cost_parameters:' + str(\n",
    "        PSO.initial_cost_parameters)+'\\nSCL:'+str(PSO.best['SCL'])+'\\nSEL:'+str(PSO.best['SEL'])\n",
    "f.write(f_content)  # 引数の文字列をファイルに書き込む\n",
    "f.close()  # ファイルを閉じる"
   ]
  },
  {
   "cell_type": "code",
   "execution_count": null,
   "metadata": {
    "scrolled": true
   },
   "outputs": [],
   "source": [
    "#アニメーションの書き出し\n",
    "Make_animation(\"Result/all_particle_data.npy\")"
   ]
  },
  {
   "cell_type": "code",
   "execution_count": null,
   "metadata": {},
   "outputs": [],
   "source": [
    "PSO.best['SCL']"
   ]
  },
  {
   "cell_type": "code",
   "execution_count": null,
   "metadata": {},
   "outputs": [],
   "source": [
    "PSO.best['SEL']"
   ]
  },
  {
   "cell_type": "code",
   "execution_count": null,
   "metadata": {
    "scrolled": true
   },
   "outputs": [],
   "source": [
    "dir(PSO)"
   ]
  },
  {
   "cell_type": "code",
   "execution_count": null,
   "metadata": {},
   "outputs": [],
   "source": []
  }
 ],
 "metadata": {
  "kernelspec": {
   "display_name": "Python 3",
   "language": "python",
   "name": "python3"
  },
  "language_info": {
   "codemirror_mode": {
    "name": "ipython",
    "version": 3
   },
   "file_extension": ".py",
   "mimetype": "text/x-python",
   "name": "python",
   "nbconvert_exporter": "python",
   "pygments_lexer": "ipython3",
   "version": "3.7.1"
  },
  "varInspector": {
   "cols": {
    "lenName": 16,
    "lenType": 16,
    "lenVar": 40
   },
   "kernels_config": {
    "python": {
     "delete_cmd_postfix": "",
     "delete_cmd_prefix": "del ",
     "library": "var_list.py",
     "varRefreshCmd": "print(var_dic_list())"
    },
    "r": {
     "delete_cmd_postfix": ") ",
     "delete_cmd_prefix": "rm(",
     "library": "var_list.r",
     "varRefreshCmd": "cat(var_dic_list()) "
    }
   },
   "position": {
    "height": "492px",
    "left": "869px",
    "right": "20px",
    "top": "67px",
    "width": "421px"
   },
   "types_to_exclude": [
    "module",
    "function",
    "builtin_function_or_method",
    "instance",
    "_Feature"
   ],
   "window_display": false
  }
 },
 "nbformat": 4,
 "nbformat_minor": 2
}
