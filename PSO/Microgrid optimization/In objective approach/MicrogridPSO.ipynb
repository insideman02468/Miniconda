{
 "cells": [
  {
   "cell_type": "code",
   "execution_count": 1,
   "metadata": {},
   "outputs": [
    {
     "name": "stdout",
     "output_type": "stream",
     "text": [
      "Populating the interactive namespace from numpy and matplotlib\n"
     ]
    }
   ],
   "source": [
    "from MicrogridPSO_module import *\n",
    "from MicrogridPSO_module_flowchart import *\n",
    "from MicrogridPSO_module_PSO import *\n",
    "%pylab inline --no-import-all"
   ]
  },
  {
   "cell_type": "code",
   "execution_count": null,
   "metadata": {},
   "outputs": [],
   "source": [
    "# inspect function\n",
    "#print(inspect.getmembers(MicrogridPSO_initialize, inspect.isfunction))\n",
    "\n",
    "# inspect methods\n",
    "#print(inspect.getmembers(MicrogridPSO_initialize, inspect.ismethod))\n",
    "\n",
    "# inspect object & methods\n",
    "# print(dir(MicrogridPSO_initialize))"
   ]
  },
  {
   "cell_type": "code",
   "execution_count": null,
   "metadata": {},
   "outputs": [],
   "source": [
    "# How to initialize\n",
    "# Class check\n",
    "# CSVを読み込みインスタンスを作成。\n",
    "PSO = MicrogridPSO_initialize(\"Target_input.csv\")\n",
    "\n",
    "# 初期値を設定\n",
    "PSO.set_initial_input_values({\"number_demand\": 1,\n",
    "                              \"pv_capacity_per_unit\": 245,\n",
    "                              \"wind_capacity_per_unit\": 2.3,\n",
    "                              \"SOC_max[%]\": 0.8,\n",
    "                              \"SOC_min[%]\": 0.2,\n",
    "                              \"SOC_start[%]\": 0.5\n",
    "                              })\n",
    "\n",
    "# 初期値を設定\n",
    "PSO.set_initial_cost_parameters({\"It_PV_1kW[yen/year]\": [726383.3333, 0, 0, 0, 0, 0, 0, 0, 0, 0, 0, 0, 0, 0, 0, 0, 0, 0, 0, 0],\n",
    "                                 \"Mt_PV_1kW[yen/year]\": [4329] * 20,\n",
    "                                 \"Ft_PV_1kW[yen/year]\": [0]*20,\n",
    "                                 \"It_Wind_1kW[yen/year]\": [302274.7826, 0, 0, 0, 0, 0, 0, 0, 0, 0, 0, 0, 0, 0, 0, 0, 0, 0, 0, 0],\n",
    "                                 \"Mt_Wind_1kW[yen/year]\": [662.785213] * 20,\n",
    "                                 \"Ft_Wind_1kW[yen/year]\": [0]*20,\n",
    "                                 \"It_Diesel_1kW[yen/year]\": [33611.11, 33611.11, 0, 33611.11, 33611.11, 0, 33611.11, 33611.11, 0, 33611.11,\n",
    "                                                             33611.11, 0, 33611.11, 33611.11, 0, 33611.11, 33611.11, 0, 33611.11, 33611.11],\n",
    "                                 \"Mt_Diesel_1kW[yen/year]\": [8.8] * 20,\n",
    "                                 \"Diesel_Pf\": 129,\n",
    "                                 \"Diesel_Adg\": 0.2461,\n",
    "                                 \"Diesel_Bdg\": 0.081451,\n",
    "                                 \"It_Battery_1kW[yen/year]\": [13540, 0, 0, 0, 13540, 0, 0, 0, 13540, 0, 0, 0, 13540, 0, 0, 0, 13540, 0, 0, 0],\n",
    "                                 \"Mt_Battery_1kW[yen/year]\": [1100] * 20,\n",
    "                                 \"Ft_Battery_1kW[yen/year]\": [0]*20,\n",
    "                                 \"Sell_income_from_trashed[kWh/yen]\": [0]*20,\n",
    "                                 \"r[yen/year]\": [0.0234375]*20,\n",
    "                                 \"operation_year\": list(range(1, 21))\n",
    "                                 })\n",
    "\n",
    "# PSOの中身を確認\n",
    "# print(dir(PSO))\n",
    "# print(vars(PSO))\n",
    "# len(PSO.Target_input.index)"
   ]
  },
  {
   "cell_type": "code",
   "execution_count": null,
   "metadata": {
    "scrolled": true
   },
   "outputs": [
    {
     "name": "stdout",
     "output_type": "stream",
     "text": [
      "Inform the number of iterations: 7\n",
      "Inform the number of particles: 8\n",
      "Inform w: 0.7\n",
      "Inform c1: 0.5\n",
      "Inform c2: 0.6\n",
      "{'pv_cap_max': 0, 'wind_cap_max': 0, 'battery_cap_max': 0, 'diesel_max': 0} \n",
      "iterations: 7 n_particles: 8 w: 0.7 c1: 0.5 c2: 0.6 particle: {'particle_position_vector': array([[7.53929441e+02, 9.68866167e+00, 5.80343223e+00, 3.43665078e+00],\n",
      "       [1.11778975e+03, 3.47127945e+00, 1.38750943e+01, 4.08068882e+00],\n",
      "       [2.48783497e+03, 4.40830447e+00, 1.65525424e+01, 1.17144234e+00],\n",
      "       [1.76209363e+03, 8.23669592e+00, 4.50749229e+00, 1.53188116e+00],\n",
      "       [5.17256110e+02, 8.62443630e+00, 1.49899928e+01, 1.01129357e+01],\n",
      "       [1.63409601e+03, 4.34036171e+00, 1.08189531e+01, 4.79020348e+00],\n",
      "       [1.68147303e+03, 8.97246206e+00, 2.12960944e+01, 9.55864133e+00],\n",
      "       [3.12618460e+02, 3.46924325e+00, 8.50127005e+00, 4.27728217e+00]]), 'personal_best_position': array([[7.53929441e+02, 9.68866167e+00, 5.80343223e+00, 3.43665078e+00],\n",
      "       [1.11778975e+03, 3.47127945e+00, 1.38750943e+01, 4.08068882e+00],\n",
      "       [2.48783497e+03, 4.40830447e+00, 1.65525424e+01, 1.17144234e+00],\n",
      "       [1.76209363e+03, 8.23669592e+00, 4.50749229e+00, 1.53188116e+00],\n",
      "       [5.17256110e+02, 8.62443630e+00, 1.49899928e+01, 1.01129357e+01],\n",
      "       [1.63409601e+03, 4.34036171e+00, 1.08189531e+01, 4.79020348e+00],\n",
      "       [1.68147303e+03, 8.97246206e+00, 2.12960944e+01, 9.55864133e+00],\n",
      "       [3.12618460e+02, 3.46924325e+00, 8.50127005e+00, 4.27728217e+00]]), 'personal_best_fitness_value': array([inf, inf, inf, inf, inf, inf, inf, inf]), 'global_best_fitness_value': inf, 'global_best_position': array([[7.53929441e+02, 9.68866167e+00, 5.80343223e+00, 3.43665078e+00],\n",
      "       [1.11778975e+03, 3.47127945e+00, 1.38750943e+01, 4.08068882e+00],\n",
      "       [2.48783497e+03, 4.40830447e+00, 1.65525424e+01, 1.17144234e+00],\n",
      "       [1.76209363e+03, 8.23669592e+00, 4.50749229e+00, 1.53188116e+00],\n",
      "       [5.17256110e+02, 8.62443630e+00, 1.49899928e+01, 1.01129357e+01],\n",
      "       [1.63409601e+03, 4.34036171e+00, 1.08189531e+01, 4.79020348e+00],\n",
      "       [1.68147303e+03, 8.97246206e+00, 2.12960944e+01, 9.55864133e+00],\n",
      "       [3.12618460e+02, 3.46924325e+00, 8.50127005e+00, 4.27728217e+00]]), 'velocity_vector': [array([0, 0, 0, 0]), array([0, 0, 0, 0]), array([0, 0, 0, 0]), array([0, 0, 0, 0]), array([0, 0, 0, 0]), array([0, 0, 0, 0]), array([0, 0, 0, 0]), array([0, 0, 0, 0])], 'previous_velocity_vector': [array([0, 0, 0, 0]), array([0, 0, 0, 0]), array([0, 0, 0, 0]), array([0, 0, 0, 0]), array([0, 0, 0, 0]), array([0, 0, 0, 0]), array([0, 0, 0, 0]), array([0, 0, 0, 0])], 'iteration': 0, 'range_vector': [3000, 12, 25, 13]}\n",
      "-------iteration = 0 -----------\n",
      "[[7.53929441e+02 9.68866167e+00 5.80343223e+00 3.43665078e+00]\n",
      " [1.11778975e+03 3.47127945e+00 1.38750943e+01 4.08068882e+00]\n",
      " [2.48783497e+03 4.40830447e+00 1.65525424e+01 1.17144234e+00]\n",
      " [1.76209363e+03 8.23669592e+00 4.50749229e+00 1.53188116e+00]\n",
      " [5.17256110e+02 8.62443630e+00 1.49899928e+01 1.01129357e+01]\n",
      " [1.63409601e+03 4.34036171e+00 1.08189531e+01 4.79020348e+00]\n",
      " [1.68147303e+03 8.97246206e+00 2.12960944e+01 9.55864133e+00]\n",
      " [3.12618460e+02 3.46924325e+00 8.50127005e+00 4.27728217e+00]]\n",
      "      * 2182 [h]-----PSO.check is False.\n",
      "      * 2182h: Error! diesel capacity is over!\n",
      "      *PSO.diesel_max | PSO.p_diesel |PSO.np_demand[PSO.h] | PSO.np_demand[PSO.h]-PSO.pv-PSO.wind |PSO.p_battery-PSO.battery_min\n",
      "      * 3.436650775943403 3.6235005539999996 3.6235005539999996 3.6235005539999996 0.0\n",
      "      *particle_position_vector is error.loop= 1 [753.92944068   9.68866167   5.80343223   3.43665078]\n",
      "      *particle_position_vector is updated by error. [116.63517627   8.6239367   10.03798836   7.29910402]\n",
      "      * 4435 [h]-----PSO.check is False.\n",
      "      * 4435h: Error! diesel capacity is over!\n",
      "      *PSO.diesel_max | PSO.p_diesel |PSO.np_demand[PSO.h] | PSO.np_demand[PSO.h]-PSO.pv-PSO.wind |PSO.p_battery-PSO.battery_min\n",
      "      * 7.299104016736559 8.021872892698575 8.022620402000001 8.021872892698575 0.0\n",
      "      *particle_position_vector is error.loop= 2 [116.63517627   8.6239367   10.03798836   7.29910402]\n",
      "      *particle_position_vector is updated by error. [536.43964393   9.40439195  23.74502499   6.98006747]\n",
      "      * 4435 [h]-----PSO.check is False.\n",
      "      * 4435h: Error! diesel capacity is over!\n",
      "      *PSO.diesel_max | PSO.p_diesel |PSO.np_demand[PSO.h] | PSO.np_demand[PSO.h]-PSO.pv-PSO.wind |PSO.p_battery-PSO.battery_min\n",
      "      * 6.980067471634946 8.019182385817173 8.022620402000001 8.019182385817173 0.0\n",
      "      *particle_position_vector is error.loop= 3 [536.43964393   9.40439195  23.74502499   6.98006747]\n",
      "      *particle_position_vector is updated by error. [2329.80941264    7.85617306   24.1433084     8.59296702]\n",
      "-----particle_position[ 0 ]  36295927.85506419 [yen].  [2329.80941264    7.85617306   24.1433084     8.59296702]\n",
      "      *previous_velocity_vector[ 0 ] [0 0 0 0] new_velocity [0. 0. 0. 0.]\n",
      "      *particle_position_vector[ 0 ] is updated. particle_position: [2329.80941264    7.85617306   24.1433084     8.59296702]\n",
      "      * 2806 [h]-----PSO.check is False.\n",
      "      * 2806h: Error! diesel capacity is over!\n",
      "      *PSO.diesel_max | PSO.p_diesel |PSO.np_demand[PSO.h] | PSO.np_demand[PSO.h]-PSO.pv-PSO.wind |PSO.p_battery-PSO.battery_min\n",
      "      * 4.080688822463573 4.170095589197155 4.590283145 4.170095589197155 0.0\n",
      "      *particle_position_vector is error.loop= 1 [1117.78974656    3.47127945   13.87509431    4.08068882]\n",
      "      *particle_position_vector is updated by error. [707.22460257   6.22203294  24.00532208   2.70432762]\n"
     ]
    }
   ],
   "source": [
    "%%time\n",
    "\n",
    "#計算結果を実行\n",
    "iterations_PSO(PSO)"
   ]
  },
  {
   "cell_type": "code",
   "execution_count": null,
   "metadata": {
    "scrolled": true
   },
   "outputs": [],
   "source": [
    "# print(PSO.best['gbest_fitness_value'])\n",
    "df=PSO.best['table']\n",
    "df.to_csv('Result/PSO_result_no_income.csv',encoding=\"SHIFT-JIS\")  \n",
    "df"
   ]
  },
  {
   "cell_type": "code",
   "execution_count": null,
   "metadata": {},
   "outputs": [],
   "source": [
    "best_cost_list = np.array(PSO.best_cost_list)\n",
    "gbest_list = np.array(PSO.global_best_list)\n",
    "iteration_list = np.array(PSO.iteration_list)\n",
    "plot_list = pd.DataFrame({'iteration': np.array(PSO.iteration_list)+1,\n",
    "                          'cost': np.array(PSO.best_cost_list)})\n",
    "print(max(best_cost_list), min(best_cost_list))\n",
    "# plot_list"
   ]
  },
  {
   "cell_type": "code",
   "execution_count": null,
   "metadata": {},
   "outputs": [],
   "source": [
    "plot_list"
   ]
  },
  {
   "cell_type": "code",
   "execution_count": null,
   "metadata": {
    "scrolled": true
   },
   "outputs": [],
   "source": [
    "plot_list.plot(x=\"iteration\", y=\"cost\", title='Total cost in each iteration')\n",
    "plt.savefig('Result/Total cost in each iteration.png')"
   ]
  },
  {
   "cell_type": "code",
   "execution_count": null,
   "metadata": {
    "scrolled": true
   },
   "outputs": [],
   "source": [
    "# 計算結果テキストファイルの作成\n",
    "f = open('Result/PSO_result_parameters.txt', 'w')  # 書き込みモードで開く\n",
    "f_content = 'LCOE='+str(np.sum(PSO.best['SCL'])/np.sum(PSO.best['SEL']))+' global_best_position: '+str(PSO.best['global_best_position'])+' global_best_fitness_value: '+str(PSO.best['global_best_fitness_value'])+str(PSO.best[\"variables\"]) + \\\n",
    "    str(PSO.initial_cost_parameters)+'SCL:'+str(PSO.best['SCL'])+'SEL:'+str(PSO.best['SEL'])\n",
    "f.write(f_content)  # 引数の文字列をファイルに書き込む\n",
    "f.close()  # ファイルを閉じる"
   ]
  },
  {
   "cell_type": "code",
   "execution_count": null,
   "metadata": {},
   "outputs": [],
   "source": [
    "PSO.best['SCL']"
   ]
  },
  {
   "cell_type": "code",
   "execution_count": null,
   "metadata": {},
   "outputs": [],
   "source": [
    "PSO.best['SEL']"
   ]
  },
  {
   "cell_type": "code",
   "execution_count": null,
   "metadata": {},
   "outputs": [],
   "source": [
    "dir(PSO)"
   ]
  },
  {
   "cell_type": "code",
   "execution_count": null,
   "metadata": {},
   "outputs": [],
   "source": []
  },
  {
   "cell_type": "code",
   "execution_count": null,
   "metadata": {},
   "outputs": [],
   "source": []
  }
 ],
 "metadata": {
  "kernelspec": {
   "display_name": "Python 3",
   "language": "python",
   "name": "python3"
  },
  "language_info": {
   "codemirror_mode": {
    "name": "ipython",
    "version": 3
   },
   "file_extension": ".py",
   "mimetype": "text/x-python",
   "name": "python",
   "nbconvert_exporter": "python",
   "pygments_lexer": "ipython3",
   "version": "3.7.1"
  },
  "varInspector": {
   "cols": {
    "lenName": 16,
    "lenType": 16,
    "lenVar": 40
   },
   "kernels_config": {
    "python": {
     "delete_cmd_postfix": "",
     "delete_cmd_prefix": "del ",
     "library": "var_list.py",
     "varRefreshCmd": "print(var_dic_list())"
    },
    "r": {
     "delete_cmd_postfix": ") ",
     "delete_cmd_prefix": "rm(",
     "library": "var_list.r",
     "varRefreshCmd": "cat(var_dic_list()) "
    }
   },
   "position": {
    "height": "492px",
    "left": "869px",
    "right": "20px",
    "top": "67px",
    "width": "421px"
   },
   "types_to_exclude": [
    "module",
    "function",
    "builtin_function_or_method",
    "instance",
    "_Feature"
   ],
   "window_display": false
  }
 },
 "nbformat": 4,
 "nbformat_minor": 2
}
