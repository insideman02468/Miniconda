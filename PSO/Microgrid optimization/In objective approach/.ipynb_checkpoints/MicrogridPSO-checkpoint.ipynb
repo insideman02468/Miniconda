{
 "cells": [
  {
   "cell_type": "code",
   "execution_count": 1,
   "metadata": {},
   "outputs": [
    {
     "name": "stdout",
     "output_type": "stream",
     "text": [
      "Populating the interactive namespace from numpy and matplotlib\n"
     ]
    }
   ],
   "source": [
    "from MicrogridPSO_module import *\n",
    "from MicrogridPSO_module_flowchart import *\n",
    "from MicrogridPSO_module_PSO import *\n",
    "from MicrogridPSO_pareto_animation import *\n",
    "%pylab inline --no-import-all"
   ]
  },
  {
   "cell_type": "code",
   "execution_count": 2,
   "metadata": {},
   "outputs": [],
   "source": [
    "# inspect function\n",
    "#print(inspect.getmembers(MicrogridPSO_initialize, inspect.isfunction))\n",
    "\n",
    "# inspect methods\n",
    "#print(inspect.getmembers(MicrogridPSO_initialize, inspect.ismethod))\n",
    "\n",
    "# inspect object & methods\n",
    "# print(dir(MicrogridPSO_initialize))\n",
    "#print(dir(Make_animation))"
   ]
  },
  {
   "cell_type": "code",
   "execution_count": null,
   "metadata": {},
   "outputs": [],
   "source": [
    "# How to initialize\n",
    "# Class check\n",
    "# CSVを読み込みインスタンスを作成。\n",
    "PSO = MicrogridPSO_initialize(\"Target_input.csv\")\n",
    "\n",
    "# 初期値を設定\n",
    "PSO.set_initial_input_values({\"number_demand\": 1,\n",
    "                              \"pv_capacity_per_unit\": 245,\n",
    "                              \"wind_capacity_per_unit\": 2.3,\n",
    "                              \"SOC_max[%]\": 0.8,\n",
    "                              \"SOC_min[%]\": 0.2,\n",
    "                              \"SOC_start[%]\": 0.5\n",
    "                              })\n",
    "\n",
    "# 初期値を設定\n",
    "PSO.set_initial_cost_parameters({\"It_PV_1kW[yen/year]\": [726383.3333, 0, 0, 0, 0, 0, 0, 0, 0, 0, 0, 0, 0, 0, 0, 0, 0, 0, 0, 0],\n",
    "                                 \"Mt_PV_1kW[yen/year]\": [4329] * 20,\n",
    "                                 \"Ft_PV_1kW[yen/year]\": [0]*20,\n",
    "                                 \"It_Wind_1kW[yen/year]\": [302274.7826, 0, 0, 0, 0, 0, 0, 0, 0, 0, 0, 0, 0, 0, 0, 0, 0, 0, 0, 0],\n",
    "                                 \"Mt_Wind_1kW[yen/year]\": [662.785213] * 20,\n",
    "                                 \"Ft_Wind_1kW[yen/year]\": [0]*20,\n",
    "                                 \"It_Diesel_1kW[yen/year]\": [33611.11, 0, 0, 0, 0, 0, 0, 0, 0, 0, 0, 0, 0, 0, 0, 0, 0, 0, 0, 0, ],\n",
    "                                 \"Mt_Diesel_1kW[yen/year]\": [8.8] * 20,\n",
    "                                 \"Diesel_Pf\": 121.8,\n",
    "                                 \"Diesel_Adg\": 0.2461,\n",
    "                                 \"Diesel_Bdg\": 0.081451,\n",
    "                                 \"It_Battery_1kW[yen/year]\": [13540, 0, 0, 0, 13540, 0, 0, 0, 13540, 0, 0, 0, 13540, 0, 0, 0, 13540, 0, 0, 0],\n",
    "                                 \"Mt_Battery_1kW[yen/year]\": [1100] * 20,\n",
    "                                 \"Ft_Battery_1kW[yen/year]\": [0]*20,\n",
    "                                 \"Sell_income_from_trashed[kWh/yen]\": [0]*20,\n",
    "                                 \"r[yen/year]\": [0.0234375]*20,\n",
    "                                 \"operation_year\": list(range(1, 21))\n",
    "                                 })\n",
    "\n",
    "# PSOの中身を確認\n",
    "# print(dir(PSO))\n",
    "# print(vars(PSO))\n",
    "# len(PSO.Target_input.index)"
   ]
  },
  {
   "cell_type": "code",
   "execution_count": null,
   "metadata": {
    "scrolled": true
   },
   "outputs": [
    {
     "name": "stdout",
     "output_type": "stream",
     "text": [
      "Inform the number of iterations: 12\n",
      "Inform the number of particles: 5\n",
      "Inform w: 0.7\n",
      "Inform c1: 0.3\n",
      "Inform c2: 0.4\n",
      "{'pv_cap_max': 0, 'wind_cap_max': 0, 'battery_cap_max': 0, 'diesel_max': 0} \n",
      "iterations: 12 n_particles: 5 w: 0.7 c1: 0.3 c2: 0.4 particle: {'particle_position_vector': array([[2.99580777e+03, 7.21237176e+01, 1.75745700e+01, 5.84633483e+01],\n",
      "       [3.25623235e+03, 8.79891788e+01, 7.46767783e+01, 1.64829546e-02],\n",
      "       [3.33856681e+03, 6.93688261e+01, 4.71494993e+01, 5.05082963e+01],\n",
      "       [8.37933539e+03, 2.83304937e+01, 2.84680537e+00, 7.44732300e+01],\n",
      "       [7.84225666e+03, 7.01023209e+01, 3.19767723e+01, 8.41797303e+01]]), 'personal_best_position': array([[2.99580777e+03, 7.21237176e+01, 1.75745700e+01, 5.84633483e+01],\n",
      "       [3.25623235e+03, 8.79891788e+01, 7.46767783e+01, 1.64829546e-02],\n",
      "       [3.33856681e+03, 6.93688261e+01, 4.71494993e+01, 5.05082963e+01],\n",
      "       [8.37933539e+03, 2.83304937e+01, 2.84680537e+00, 7.44732300e+01],\n",
      "       [7.84225666e+03, 7.01023209e+01, 3.19767723e+01, 8.41797303e+01]]), 'personal_best_fitness_value': array([inf, inf, inf, inf, inf]), 'global_best_fitness_value': inf, 'global_best_position': array([[2.99580777e+03, 7.21237176e+01, 1.75745700e+01, 5.84633483e+01],\n",
      "       [3.25623235e+03, 8.79891788e+01, 7.46767783e+01, 1.64829546e-02],\n",
      "       [3.33856681e+03, 6.93688261e+01, 4.71494993e+01, 5.05082963e+01],\n",
      "       [8.37933539e+03, 2.83304937e+01, 2.84680537e+00, 7.44732300e+01],\n",
      "       [7.84225666e+03, 7.01023209e+01, 3.19767723e+01, 8.41797303e+01]]), 'velocity_vector': [array([0, 0, 0, 0]), array([0, 0, 0, 0]), array([0, 0, 0, 0]), array([0, 0, 0, 0]), array([0, 0, 0, 0])], 'previous_velocity_vector': [array([0, 0, 0, 0]), array([0, 0, 0, 0]), array([0, 0, 0, 0]), array([0, 0, 0, 0]), array([0, 0, 0, 0])], 'iteration': 0, 'range_vector': [10000, 100, 100, 100]}\n",
      "-------iteration = 0 -----------\n",
      "[[2.99580777e+03 7.21237176e+01 1.75745700e+01 5.84633483e+01]\n",
      " [3.25623235e+03 8.79891788e+01 7.46767783e+01 1.64829546e-02]\n",
      " [3.33856681e+03 6.93688261e+01 4.71494993e+01 5.05082963e+01]\n",
      " [8.37933539e+03 2.83304937e+01 2.84680537e+00 7.44732300e+01]\n",
      " [7.84225666e+03 7.01023209e+01 3.19767723e+01 8.41797303e+01]]\n",
      "-----particle_position[ 0 ]  43966496.526110865 [yen].  [2995.80777488   72.12371765   17.57456999   58.46334834]\n",
      "      *personal best is updated.particle[ 0 ]: [2995.80777488   72.12371765   17.57456999   58.46334834]\n",
      "      *global best is updated. [2995.80777488   72.12371765   17.57456999   58.46334834]\n",
      "variables:  {'pv_cap_max': 2995.807774880335, 'wind_cap_max': 72.12371764807503, 'battery_cap_max': 17.57456999012037, 'battery_max': 14.059655992096296, 'battery_min': 3.514913998024074, 'diesel_max': 58.4633483356069, 'demand_sum': 5230.855261158001, 'pv_power_sum': 769.280947220408, 'wind_power_sum': 3803.1139316647386, 'battery_charging_power_sum': 1631.3652819754316, 'battery_discharging_power_sum': 1626.0929109783954, 'diesel_power_sum': 663.7327532698895, 'trashed_power_sum': 0, 'Diesel_Cf_sum': 39605.15260006615}\n",
      "      *previous_velocity_vector[ 0 ] [0 0 0 0]\n",
      "      *new_velocity [0. 0. 0. 0.]\n",
      "      *particle_position_vector[ 0 ] is updated. particle_position: [2995.80777488   72.12371765   17.57456999   58.46334834]\n",
      "      * 4461 [h]-----PSO.check is False.\n",
      "      * 4461h: Error! diesel capacity is over!\n",
      "      *PSO.diesel_max | PSO.p_diesel |PSO.np_demand[PSO.h] | PSO.np_demand[PSO.h]-PSO.pv-PSO.wind |PSO.p_battery-PSO.battery_min\n",
      "      * 0.016482954649721382 3.0651555771702084 6.21373553 4.527374830587006 1.462219253416798\n",
      "      *particle_position_vector is error.loop= 1 [3.25623235e+03 8.79891788e+01 7.46767783e+01 1.64829546e-02]\n",
      "      *particle_position_vector is updated by error. [2514.67446207   46.93476011   52.00041635   70.70312515]\n",
      "-----particle_position[ 1 ]  26376813.14455011 [yen].  [2514.67446207   46.93476011   52.00041635   70.70312515]\n",
      "      *personal best is updated.particle[ 1 ]: [2514.67446207   46.93476011   52.00041635   70.70312515]\n",
      "      *global best is updated. [2514.67446207   46.93476011   52.00041635   70.70312515]\n",
      "variables:  {'pv_cap_max': 2514.674462074197, 'wind_cap_max': 46.934760113883144, 'battery_cap_max': 52.00041634699586, 'battery_max': 41.600333077596694, 'battery_min': 10.400083269399174, 'diesel_max': 70.70312515035091, 'demand_sum': 5230.855261158001, 'pv_power_sum': 914.5572797813501, 'wind_power_sum': 4196.109049610463, 'battery_charging_power_sum': 2367.4840118478382, 'battery_discharging_power_sum': 2351.8838869437386, 'diesel_power_sum': 135.7890566702866, 'trashed_power_sum': 0, 'Diesel_Cf_sum': 7282.172852600916}\n",
      "      *previous_velocity_vector[ 1 ] [0 0 0 0]\n",
      "      *new_velocity [0. 0. 0. 0.]\n",
      "      *particle_position_vector[ 1 ] is updated. particle_position: [2514.67446207   46.93476011   52.00041635   70.70312515]\n",
      "-----particle_position[ 2 ]  32116353.690250903 [yen].  [3338.56680833   69.3688261    47.14949928   50.50829626]\n",
      "      *personal best is updated.particle[ 2 ]: [3338.56680833   69.3688261    47.14949928   50.50829626]\n",
      "      *previous_velocity_vector[ 2 ] [0 0 0 0]\n",
      "      *new_velocity [-7.63632887 -0.20793239  0.04496121  0.1871778 ]\n",
      "      *particle_position_vector[ 2 ] is updated. particle_position: [3330.93047946   69.16089371   47.19446049   50.69547406]\n",
      "-----particle_position[ 3 ]  64038023.588994555 [yen].  [8.37933539e+03 2.83304937e+01 2.84680537e+00 7.44732300e+01]\n",
      "      *personal best is updated.particle[ 3 ]: [8.37933539e+03 2.83304937e+01 2.84680537e+00 7.44732300e+01]\n",
      "      *previous_velocity_vector[ 3 ] [0 0 0 0]\n",
      "      *new_velocity [-1.35074275e+03  4.28491574e+00  1.13210097e+01 -8.68326717e-01]\n",
      "      *particle_position_vector[ 3 ] is updated. particle_position: [7028.59264818   32.61540943   14.1678151    73.60490328]\n",
      "-----particle_position[ 4 ]  37898552.643233895 [yen].  [7842.25665774   70.10232085   31.97677231   84.17973026]\n",
      "      *personal best is updated.particle[ 4 ]: [7842.25665774   70.10232085   31.97677231   84.17973026]\n",
      "      *previous_velocity_vector[ 4 ] [0 0 0 0]\n",
      "      *new_velocity [-742.90197981   -3.23058868    2.79218682   -1.87923832]\n",
      "      *particle_position_vector[ 4 ] is updated. particle_position: [7099.35467794   66.87173217   34.76895913   82.30049194]\n",
      "-------iteration = 1 -----------\n",
      "[[2995.80777488   72.12371765   17.57456999   58.46334834]\n",
      " [2514.67446207   46.93476011   52.00041635   70.70312515]\n",
      " [3330.93047946   69.16089371   47.19446049   50.69547406]\n",
      " [7028.59264818   32.61540943   14.1678151    73.60490328]\n",
      " [7099.35467794   66.87173217   34.76895913   82.30049194]]\n",
      "-----particle_position[ 0 ]  43966496.526110865 [yen].  [2995.80777488   72.12371765   17.57456999   58.46334834]\n",
      "      *previous_velocity_vector[ 0 ] [-742.90197981   -3.23058868    2.79218682   -1.87923832]\n",
      "      *new_velocity [-5.73347262e+02 -5.05267868e+00  5.76936571e+00  4.08608535e-02]\n",
      "      *particle_position_vector[ 0 ] is updated. particle_position: [2422.46051253   67.07103897   23.3439357    58.50420919]\n",
      "-----particle_position[ 1 ]  26376813.14455011 [yen].  [2514.67446207   46.93476011   52.00041635   70.70312515]\n",
      "      *previous_velocity_vector[ 1 ] [-5.73347262e+02 -5.05267868e+00  5.76936571e+00  4.08608535e-02]\n",
      "      *new_velocity [-4.01343084e+02 -3.53687508e+00  4.03855600e+00  2.86025975e-02]\n",
      "      *particle_position_vector[ 1 ] is updated. particle_position: [2113.33137843   43.39788504   56.03897235   70.73172775]\n",
      "-----particle_position[ 2 ]  32056832.153947033 [yen].  [3330.93047946   69.16089371   47.19446049   50.69547406]\n",
      "      *personal best is updated.particle[ 2 ]: [3330.93047946   69.16089371   47.19446049   50.69547406]\n",
      "      *previous_velocity_vector[ 2 ] [-4.01343084e+02 -3.53687508e+00  4.03855600e+00  2.86025975e-02]\n",
      "      *new_velocity [-333.72905418   -3.9132207     3.1377999     1.3139563 ]\n",
      "      *particle_position_vector[ 2 ] is updated. particle_position: [2997.20142528   65.24767301   50.33226039   52.00943036]\n",
      "-----particle_position[ 3 ]  40534255.57050526 [yen].  [7028.59264818   32.61540943   14.1678151    73.60490328]\n",
      "      *personal best is updated.particle[ 3 ]: [7028.59264818   32.61540943   14.1678151    73.60490328]\n",
      "      *previous_velocity_vector[ 3 ] [-333.72905418   -3.9132207     3.1377999     1.3139563 ]\n",
      "      *new_velocity [-7.10297836e+02 -1.22707479e+00  6.19173129e+00  6.13330235e-01]\n",
      "      *particle_position_vector[ 3 ] is updated. particle_position: [6318.29481192   31.38833464   20.35954639   74.21823351]\n"
     ]
    },
    {
     "name": "stdout",
     "output_type": "stream",
     "text": [
      "-----particle_position[ 4 ]  35969867.51992479 [yen].  [7099.35467794   66.87173217   34.76895913   82.30049194]\n",
      "      *personal best is updated.particle[ 4 ]: [7099.35467794   66.87173217   34.76895913   82.30049194]\n",
      "      *previous_velocity_vector[ 4 ] [-7.10297836e+02 -1.22707479e+00  6.19173129e+00  6.13330235e-01]\n",
      "      *new_velocity [-6.50278239e+02 -1.52459254e+00  4.90952245e+00  4.21272622e-02]\n",
      "      *particle_position_vector[ 4 ] is updated. particle_position: [6449.07643938   65.34713963   39.67848159   82.3426192 ]\n",
      "-------iteration = 2 -----------\n",
      "[[2422.46051253   67.07103897   23.3439357    58.50420919]\n",
      " [2113.33137843   43.39788504   56.03897235   70.73172775]\n",
      " [2997.20142528   65.24767301   50.33226039   52.00943036]\n",
      " [6318.29481192   31.38833464   20.35954639   74.21823351]\n",
      " [6449.07643938   65.34713963   39.67848159   82.3426192 ]]\n",
      "-----particle_position[ 0 ]  38299019.0716864 [yen].  [2422.46051253   67.07103897   23.3439357    58.50420919]\n",
      "      *personal best is updated.particle[ 0 ]: [2422.46051253   67.07103897   23.3439357    58.50420919]\n",
      "      *previous_velocity_vector[ 0 ] [-6.50278239e+02 -1.52459254e+00  4.90952245e+00  4.21272622e-02]\n",
      "      *new_velocity [-427.46039888   -7.12342398   12.05542011    3.69844836]\n",
      "      *particle_position_vector[ 0 ] is updated. particle_position: [1995.00011365   59.94761499   35.39935581   62.20265755]\n",
      "-----particle_position[ 1 ]  25801698.19580676 [yen].  [2113.33137843   43.39788504   56.03897235   70.73172775]\n",
      "      *personal best is updated.particle[ 1 ]: [2113.33137843   43.39788504   56.03897235   70.73172775]\n",
      "      *global best is updated. [2113.33137843   43.39788504   56.03897235   70.73172775]\n",
      "variables:  {'pv_cap_max': 2113.3313784265633, 'wind_cap_max': 43.39788503632418, 'battery_cap_max': 56.03897234738036, 'battery_max': 44.83117787790429, 'battery_min': 11.207794469476072, 'diesel_max': 70.73172774780289, 'demand_sum': 5230.855261158001, 'pv_power_sum': 833.007764282356, 'wind_power_sum': 4257.164708867851, 'battery_charging_power_sum': 2396.041985656444, 'battery_discharging_power_sum': 2379.2302939522287, 'diesel_power_sum': 157.49447971200772, 'trashed_power_sum': 0, 'Diesel_Cf_sum': 8468.69588520337}\n",
      "      *previous_velocity_vector[ 1 ] [-427.46039888   -7.12342398   12.05542011    3.69844836]\n",
      "      *new_velocity [-299.22227922   -4.98639679    8.43879408    2.58891385]\n",
      "      *particle_position_vector[ 1 ] is updated. particle_position: [1814.10909921   38.41148825   64.47776642   73.3206416 ]\n",
      "-----particle_position[ 2 ]  30726703.40496679 [yen].  [2997.20142528   65.24767301   50.33226039   52.00943036]\n",
      "      *personal best is updated.particle[ 2 ]: [2997.20142528   65.24767301   50.33226039   52.00943036]\n",
      "      *previous_velocity_vector[ 2 ] [-299.22227922   -4.98639679    8.43879408    2.58891385]\n",
      "      *new_velocity [-210.3373899    -3.51227623    5.91284916    1.83091803]\n",
      "      *particle_position_vector[ 2 ] is updated. particle_position: [2786.86403537   61.73539679   56.24510955   53.84034839]\n",
      "-----particle_position[ 3 ]  33588205.092602514 [yen].  [6318.29481192   31.38833464   20.35954639   74.21823351]\n",
      "      *personal best is updated.particle[ 3 ]: [6318.29481192   31.38833464   20.35954639   74.21823351]\n",
      "      *previous_velocity_vector[ 3 ] [-210.3373899    -3.51227623    5.91284916    1.83091803]\n",
      "      *new_velocity [-599.23643952   -1.16766181    7.97425013    0.90687086]\n",
      "      *particle_position_vector[ 3 ] is updated. particle_position: [5719.0583724    30.22067284   28.33379652   75.12510438]\n",
      "-----particle_position[ 4 ]  34168649.660152175 [yen].  [6449.07643938   65.34713963   39.67848159   82.3426192 ]\n",
      "      *personal best is updated.particle[ 4 ]: [6449.07643938   65.34713963   39.67848159   82.3426192 ]\n",
      "      *previous_velocity_vector[ 4 ] [-599.23643952   -1.16766181    7.97425013    0.90687086]\n",
      "      *new_velocity [-2057.8832252     -9.11168111    11.76437686    -3.75278469]\n",
      "      *particle_position_vector[ 4 ] is updated. particle_position: [4391.19321418   56.23545853   51.44285845   78.58983452]\n",
      "-------iteration = 3 -----------\n",
      "[[1995.00011365   59.94761499   35.39935581   62.20265755]\n",
      " [1814.10909921   38.41148825   64.47776642   73.3206416 ]\n",
      " [2786.86403537   61.73539679   56.24510955   53.84034839]\n",
      " [5719.0583724    30.22067284   28.33379652   75.12510438]\n",
      " [4391.19321418   56.23545853   51.44285845   78.58983452]]\n",
      "-----particle_position[ 0 ]  31589899.548016466 [yen].  [1995.00011365   59.94761499   35.39935581   62.20265755]\n",
      "      *personal best is updated.particle[ 0 ]: [1995.00011365   59.94761499   35.39935581   62.20265755]\n",
      "      *previous_velocity_vector[ 0 ] [-2057.8832252     -9.11168111    11.76437686    -3.75278469]\n",
      "      *new_velocity [-1424.08867854    -8.6760065     11.10074949    -1.44273957]\n",
      "      *particle_position_vector[ 0 ] is updated. particle_position: [570.9114351   51.27160849  46.50010531  60.75991799]\n",
      "-----particle_position[ 1 ]  24604317.19134777 [yen].  [1814.10909921   38.41148825   64.47776642   73.3206416 ]\n",
      "      *personal best is updated.particle[ 1 ]: [1814.10909921   38.41148825   64.47776642   73.3206416 ]\n",
      "      *global best is updated. [1814.10909921   38.41148825   64.47776642   73.3206416 ]\n",
      "variables:  {'pv_cap_max': 1814.109099210007, 'wind_cap_max': 38.411488250740526, 'battery_cap_max': 64.4777664237201, 'battery_max': 51.58221313897608, 'battery_min': 12.89555328474402, 'diesel_max': 73.32064160089392, 'demand_sum': 5230.855261158001, 'pv_power_sum': 777.0735708616788, 'wind_power_sum': 4310.517625834881, 'battery_charging_power_sum': 2467.7445499734467, 'battery_discharging_power_sum': 2448.4012200463294, 'diesel_power_sum': 162.6073943885577, 'trashed_power_sum': 0, 'Diesel_Cf_sum': 7818.005208425706}\n",
      "      *previous_velocity_vector[ 1 ] [-1424.08867854    -8.6760065     11.10074949    -1.44273957]\n",
      "      *new_velocity [-996.86207498   -6.07320455    7.77052465   -1.0099177 ]\n",
      "      *particle_position_vector[ 1 ] is updated. particle_position: [817.24702423  32.3382837   72.24829107  72.31072391]\n"
     ]
    }
   ],
   "source": [
    "%%time\n",
    "\n",
    "#計算結果を実行\n",
    "iterations_PSO(PSO)"
   ]
  },
  {
   "cell_type": "code",
   "execution_count": null,
   "metadata": {
    "scrolled": true
   },
   "outputs": [],
   "source": [
    "# print(PSO.best['gbest_fitness_value'])\n",
    "df=PSO.best['table']\n",
    "df.to_csv('Result/PSO_result_no_income.csv',encoding=\"SHIFT-JIS\")  \n",
    "df"
   ]
  },
  {
   "cell_type": "code",
   "execution_count": null,
   "metadata": {
    "scrolled": true
   },
   "outputs": [],
   "source": [
    "# plot_list\n",
    "best_cost_list = np.array(PSO.best_cost_list)\n",
    "gbest_list = np.array(PSO.global_best_list)\n",
    "iteration_list = np.array(PSO.iteration_list)\n",
    "plot_list = pd.DataFrame({'iteration': np.array(PSO.iteration_list)+1,\n",
    "                          'cost': np.array(PSO.best_cost_list)})"
   ]
  },
  {
   "cell_type": "code",
   "execution_count": null,
   "metadata": {},
   "outputs": [],
   "source": [
    "PSO.best[\"variables\"]"
   ]
  },
  {
   "cell_type": "code",
   "execution_count": null,
   "metadata": {
    "scrolled": true
   },
   "outputs": [],
   "source": [
    "plot_list"
   ]
  },
  {
   "cell_type": "code",
   "execution_count": null,
   "metadata": {
    "scrolled": true
   },
   "outputs": [],
   "source": [
    "plot_list.plot(x=\"iteration\", y=\"cost\", title='Total cost in each iteration')\n",
    "plt.savefig('Result/Total cost in each iteration.png')"
   ]
  },
  {
   "cell_type": "code",
   "execution_count": null,
   "metadata": {},
   "outputs": [],
   "source": [
    "COST_PV = (PSO.best[\"variables\"][\"pv_cap_max\"] / 1000) * (np.array(PSO.initial_cost_parameters[\"It_PV_1kW[yen/year]\"]\n",
    "                                                                   ) + np.array(PSO.initial_cost_parameters[\"Mt_PV_1kW[yen/year]\"]))\n",
    "COST_Wind = (PSO.best[\"variables\"][\"wind_cap_max\"]\n",
    "             * (np.array(PSO.initial_cost_parameters[\"It_Wind_1kW[yen/year]\"]) + np.array(PSO.initial_cost_parameters[\"Mt_Wind_1kW[yen/year]\"])))\n",
    "COST_Diesel = (PSO.best[\"variables\"][\"diesel_max\"]\n",
    "               * (np.array(PSO.initial_cost_parameters[\"It_Diesel_1kW[yen/year]\"]) + np.array(PSO.initial_cost_parameters[\"Mt_Diesel_1kW[yen/year]\"]))) + np.array(PSO.best[\"variables\"][\"Diesel_Cf_sum\"] * 20)\n",
    "COST_Battery = PSO.best[\"variables\"][\"battery_cap_max\"] * (np.array(\n",
    "    PSO.initial_cost_parameters[\"It_Battery_1kW[yen/year]\"]) + np.array(PSO.initial_cost_parameters[\"Mt_Battery_1kW[yen/year]\"]))\n",
    "\n",
    "COST = {\n",
    "    \"COST PV\": np.round(COST_PV, 2),\n",
    "    \"TOTAL COST PV\": np.round(np.sum(COST_PV), 2),\n",
    "    \"LCOE PV\": np.round(np.sum(COST_PV)/(20*PSO.best[\"variables\"][\"pv_power_sum\"]), 2),\n",
    "    \"COST Wind\": np.round(COST_Wind, 2),\n",
    "    \"TOTAL COST Wind\": np.round(np.sum(COST_Wind), 2),\n",
    "    \"LCOE WIND\": np.round(np.sum(COST_Wind)/(20*PSO.best[\"variables\"][\"wind_power_sum\"]), 2),\n",
    "    \"COST DIESEL\": np.round(COST_Diesel, 2),\n",
    "    \"TOTAL COST DIESEL\": np.round(np.sum(COST_Diesel), 2),\n",
    "    \"LCOE DIESEL\": np.round(np.sum(COST_Diesel)/(20*PSO.best[\"variables\"][\"diesel_power_sum\"]), 2),\n",
    "    \"COST BATTERY\": np.round(COST_Battery, 2),\n",
    "    \"TOTAL COST BATTERY\": np.round(np.sum(COST_Battery), 2),\n",
    "    \"LCOE BATTERY\": np.round(np.sum(COST_Battery)/(20*PSO.best[\"variables\"][\"battery_discharging_power_sum\"]), 2),\n",
    "}"
   ]
  },
  {
   "cell_type": "code",
   "execution_count": null,
   "metadata": {
    "scrolled": true
   },
   "outputs": [],
   "source": [
    "# 計算結果テキストファイルの作成\n",
    "f = open('Result/PSO_result_parameters.txt', 'w')  # 書き込みモードで開く\n",
    "f_content = 'LCOE:'+str(np.sum(PSO.best['SCL'])/np.sum(PSO.best['SEL']))+'\\nglobal_best_position:'+str(PSO.best['global_best_position'])+'\\nglobal_best_fitness_value: '+str(PSO.best['global_best_fitness_value'])+\"\\nCOST:\"+str(COST)+\"\\nPSO.best[variables]:\"\\\n",
    "    + str(PSO.best[\"variables\"]) + '\\nPSO.initial_cost_parameters:' + str(\n",
    "        PSO.initial_cost_parameters)+'\\nSCL:'+str(PSO.best['SCL'])+'\\nSEL:'+str(PSO.best['SEL'])\n",
    "f.write(f_content)  # 引数の文字列をファイルに書き込む\n",
    "f.close()  # ファイルを閉じる"
   ]
  },
  {
   "cell_type": "code",
   "execution_count": null,
   "metadata": {
    "scrolled": false
   },
   "outputs": [],
   "source": [
    "#アニメーションの書き出し\n",
    "Make_animation(\"Result/all_particle_data_with_cost.npy\")"
   ]
  },
  {
   "cell_type": "code",
   "execution_count": null,
   "metadata": {},
   "outputs": [],
   "source": [
    "PSO.best['SCL']"
   ]
  },
  {
   "cell_type": "code",
   "execution_count": null,
   "metadata": {},
   "outputs": [],
   "source": [
    "PSO.best['SEL']"
   ]
  },
  {
   "cell_type": "code",
   "execution_count": null,
   "metadata": {
    "scrolled": true
   },
   "outputs": [],
   "source": [
    "dir(PSO)"
   ]
  },
  {
   "cell_type": "code",
   "execution_count": null,
   "metadata": {},
   "outputs": [],
   "source": []
  }
 ],
 "metadata": {
  "kernelspec": {
   "display_name": "Python 3",
   "language": "python",
   "name": "python3"
  },
  "language_info": {
   "codemirror_mode": {
    "name": "ipython",
    "version": 3
   },
   "file_extension": ".py",
   "mimetype": "text/x-python",
   "name": "python",
   "nbconvert_exporter": "python",
   "pygments_lexer": "ipython3",
   "version": "3.7.1"
  },
  "varInspector": {
   "cols": {
    "lenName": 16,
    "lenType": 16,
    "lenVar": 40
   },
   "kernels_config": {
    "python": {
     "delete_cmd_postfix": "",
     "delete_cmd_prefix": "del ",
     "library": "var_list.py",
     "varRefreshCmd": "print(var_dic_list())"
    },
    "r": {
     "delete_cmd_postfix": ") ",
     "delete_cmd_prefix": "rm(",
     "library": "var_list.r",
     "varRefreshCmd": "cat(var_dic_list()) "
    }
   },
   "position": {
    "height": "492px",
    "left": "869px",
    "right": "20px",
    "top": "67px",
    "width": "421px"
   },
   "types_to_exclude": [
    "module",
    "function",
    "builtin_function_or_method",
    "instance",
    "_Feature"
   ],
   "window_display": false
  }
 },
 "nbformat": 4,
 "nbformat_minor": 2
}
