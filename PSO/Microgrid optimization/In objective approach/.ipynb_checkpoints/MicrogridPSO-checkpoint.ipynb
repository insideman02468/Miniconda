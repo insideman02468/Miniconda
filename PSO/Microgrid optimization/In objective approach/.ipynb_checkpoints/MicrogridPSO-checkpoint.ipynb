{
 "cells": [
  {
   "cell_type": "code",
   "execution_count": null,
   "metadata": {},
   "outputs": [],
   "source": [
    "from MicrogridPSO_module import *\n",
    "from MicrogridPSO_module_flowchart import *\n",
    "from MicrogridPSO_module_PSO import *"
   ]
  },
  {
   "cell_type": "code",
   "execution_count": null,
   "metadata": {},
   "outputs": [],
   "source": [
    "# inspect functions\n",
    "#print(inspect.getmembers(MicrogridPSO_initialize, inspect.isfunction))\n",
    "\n",
    "# inspect methods\n",
    "#print(inspect.getmembers(MicrogridPSO_initialize, inspect.ismethod))\n",
    "\n",
    "# inspect object & methods\n",
    "# print(dir(MicrogridPSO_initialize))"
   ]
  },
  {
   "cell_type": "code",
   "execution_count": null,
   "metadata": {},
   "outputs": [],
   "source": [
    "# How to initialize\n",
    "# Class check\n",
    "# CSVを読み込みインスタンスを作成。\n",
    "PSO = MicrogridPSO_initialize(\"Target_input.csv\")\n",
    "\n",
    "# 初期値を設定\n",
    "PSO.set_initial_input_values({\"number_demand\": 1,\n",
    "                              \"pv_capacity_per_unit\": 245,\n",
    "                              \"wind_capacity_per_unit\": 2.3,\n",
    "                              \"SOC_max[%]\": 0.9,\n",
    "                              \"SOC_min[%]\": 0.2,\n",
    "                              \"SOC_start[%]\": 0.5\n",
    "                              })\n",
    "# 初期値を設定\n",
    "PSO.set_initial_cost_parameters({\"It_PV_1kW[yen/year]\": [726383.3333, 0, 0, 0, 0, 0, 0, 0, 0, 0, 0, 0, 0, 0, 0, 0, 0, 0, 0, 0],\n",
    "                                 \"Mt_PV_1kW[yen/year]\": [4329] * 20,\n",
    "                                 \"Ft_PV_1kW[yen/year]\": [0]*20,\n",
    "                                 \"It_Wind_1kW[yen/year]\": [302274.7826, 0, 0, 0, 0, 0, 0, 0, 0, 0, 0, 0, 0, 0, 0, 0, 0, 0, 0, 0],\n",
    "                                 \"Mt_Wind_1kW[yen/year]\": [662.785213] * 20,\n",
    "                                 \"Ft_Wind_1kW[yen/year]\": [0]*20,\n",
    "                                 \"It_Diesel_1kW[yen/year]\": [33611.11, 33611.11, 0, 33611.11, 33611.11, 0, 33611.11, 33611.11, 0, 33611.11,\n",
    "                                                             33611.11, 0, 33611.11, 33611.11, 0, 33611.11, 33611.11, 0, 33611.11, 33611.11],\n",
    "                                 \"Mt_Diesel_1kW[yen/year]\": [8.8] * 20,\n",
    "                                 \"Diesel_Pf\": 129,\n",
    "                                 \"Diesel_Adg\": 0.2461,\n",
    "                                 \"Diesel_Bdg\": 0.081451,\n",
    "                                 \"It_Battery_1kW[yen/year]\": [13540, 0, 0, 0, 13540, 0, 0, 0, 13540, 0, 0, 0, 13540, 0, 0, 0, 13540, 0, 0, 0],\n",
    "                                 \"Mt_Battery_1kW[yen/year]\": [1100] * 20,\n",
    "                                 \"Ft_Battery_1kW[yen/year]\": [0]*20,\n",
    "                                 \"Sell_income_from_trashed[kWh/yen]\": [20]*20,\n",
    "                                 \"r[yen/year]\": [0.0234375]*20,\n",
    "                                 \"operation_year\": list(range(1, 21))\n",
    "                                 })\n",
    "\n",
    "# PSOの中身を確認\n",
    "# print(dir(PSO))\n",
    "# print(vars(PSO))\n",
    "len(PSO.Target_input.index)"
   ]
  },
  {
   "cell_type": "code",
   "execution_count": null,
   "metadata": {
    "scrolled": true
   },
   "outputs": [],
   "source": [
    "%%time\n",
    "\n",
    "iterations_PSO(PSO)\n",
    "\n",
    "#フローチャートをループで回して計算結果を取得\n",
    "#df, total_check, variables, total_cost ,success_loops, failed_loops = loop_flowchart(PSO)"
   ]
  },
  {
   "cell_type": "code",
   "execution_count": 5,
   "metadata": {},
   "outputs": [
    {
     "ename": "AttributeError",
     "evalue": "'MicrogridPSO_initialize' object has no attribute 'best'",
     "output_type": "error",
     "traceback": [
      "\u001b[0;31m---------------------------------------------------------------------------\u001b[0m",
      "\u001b[0;31mAttributeError\u001b[0m                            Traceback (most recent call last)",
      "\u001b[0;32m<ipython-input-5-4956c5ecc986>\u001b[0m in \u001b[0;36m<module>\u001b[0;34m\u001b[0m\n\u001b[1;32m      1\u001b[0m \u001b[0;31m# print(PSO.best['gbest_fitness_value'])\u001b[0m\u001b[0;34m\u001b[0m\u001b[0;34m\u001b[0m\u001b[0;34m\u001b[0m\u001b[0m\n\u001b[0;32m----> 2\u001b[0;31m \u001b[0mdf\u001b[0m\u001b[0;34m=\u001b[0m\u001b[0mPSO\u001b[0m\u001b[0;34m.\u001b[0m\u001b[0mbest\u001b[0m\u001b[0;34m[\u001b[0m\u001b[0;34m'table'\u001b[0m\u001b[0;34m]\u001b[0m\u001b[0;34m\u001b[0m\u001b[0;34m\u001b[0m\u001b[0m\n\u001b[0m\u001b[1;32m      3\u001b[0m \u001b[0mdf\u001b[0m\u001b[0;34m.\u001b[0m\u001b[0mto_csv\u001b[0m\u001b[0;34m(\u001b[0m\u001b[0;34m'PSO_result.csv'\u001b[0m\u001b[0;34m,\u001b[0m\u001b[0mencoding\u001b[0m\u001b[0;34m=\u001b[0m\u001b[0;34m\"SHIFT-JIS\"\u001b[0m\u001b[0;34m)\u001b[0m\u001b[0;34m\u001b[0m\u001b[0;34m\u001b[0m\u001b[0m\n\u001b[1;32m      4\u001b[0m \u001b[0mdf\u001b[0m\u001b[0;34m\u001b[0m\u001b[0;34m\u001b[0m\u001b[0m\n",
      "\u001b[0;31mAttributeError\u001b[0m: 'MicrogridPSO_initialize' object has no attribute 'best'"
     ]
    }
   ],
   "source": [
    "# print(PSO.best['gbest_fitness_value'])\n",
    "df=PSO.best['table']\n",
    "df.to_csv('PSO_result.csv',encoding=\"SHIFT-JIS\")  \n",
    "df"
   ]
  },
  {
   "cell_type": "code",
   "execution_count": null,
   "metadata": {},
   "outputs": [],
   "source": [
    "'''\n",
    "plt.figure(figsize=(18,25))\n",
    "#subplot(3,3,1)\n",
    "plt.subplot(5,1,1)\n",
    "plt.bar(df[\"hour\"],df[\"pv\"],label=\"pv output\")\n",
    "plt.bar(df[\"hour\"],df[\"wind\"],bottom=df[\"pv\"],label=\"wind output\")\n",
    "plt.bar(df[\"hour\"],df[\"diesel power\"],bottom=df[\"pv\"]+df[\"wind\"],label=\"diesel power\")\n",
    "plt.bar(df[\"hour\"],df[\"battery_discharging_power\"],bottom=df[\"pv\"]+df[\"wind\"]+df[\"diesel power\"],label=\"battery_discharge\")\n",
    "plt.plot(df[\"hour\"],df[\"battery_charging_power\"],label=\"battery_charge\" ,lw=2, color=\"red\")\n",
    "plt.plot(df[\"hour\"],df[\"demand\"],label=\"demand\", lw=3, color=\"gray\")\n",
    "plt.xlabel(\"hour[H]\")\n",
    "plt.ylabel(\"output[kWh]\")\n",
    "plt.title(\"output\")\n",
    "#plt.xticks(df[\"hour\"], rotation='vertical')\n",
    "plt.legend(loc=\"upper left\")\n",
    "\n",
    "#subplot(3,3,1)\n",
    "plt.subplot(5,1,2)\n",
    "plt.bar(df[\"hour\"],df[\"trashed power\"],label=\"trashed power\",color=\"black\")\n",
    "plt.xlabel(\"hour[H]\")\n",
    "plt.ylabel(\"trashed output[kWh]\")\n",
    "plt.title(\"trashed output\")\n",
    "plt.legend(loc=\"upper left\")\n",
    "\n",
    "#subplot(3,3,2)\n",
    "plt.subplot(5,1,3)\n",
    "plt.bar(df[\"hour\"],df[\"battery state[%]\"],label=\"battery state[%]\")\n",
    "plt.xlabel(\"hour[H]\")\n",
    "plt.ylabel(\"battery state[%]\")\n",
    "plt.title(\"battery state[%]\")\n",
    "plt.legend(loc=\"upper right\")\n",
    "\n",
    "#subplot(3,3,3)\n",
    "plt.subplot(5,1,4)\n",
    "plt.bar(df[\"hour\"],PSO.np_PV_efficient,label=\"pv output per unit\",color=\"orange\")\n",
    "plt.legend(loc=\"upper left\")\n",
    "plt.xlabel(\"hour[H]\")\n",
    "plt.title(\"pv output per unit\")\n",
    "plt.ylabel(\"pv output per unit[kWh]\")\n",
    "plt.show\n",
    "\n",
    "#subplot(3,3,3)\n",
    "plt.subplot(5,1,5)\n",
    "plt.bar(df[\"hour\"],PSO.np_Wind_efficient,label=\"wind output per unit\",color=\"green\")\n",
    "plt.legend(loc=\"upper left\")\n",
    "plt.xlabel(\"hour[H]\")\n",
    "plt.title(\"wind output per unit\")\n",
    "plt.ylabel(\"wind output per unit[kWh]\")\n",
    "plt.show\n",
    "'''"
   ]
  },
  {
   "cell_type": "code",
   "execution_count": null,
   "metadata": {},
   "outputs": [],
   "source": [
    "best_cost_list=np.array(PSO.best_cost_list)\n",
    "gbest_list=np.array(PSO.gbest_list)\n",
    "iteration_list=np.array(PSO.iteration_list)\n",
    "plot_list = pd.DataFrame({ 'iteration' : np.array(PSO.iteration_list),\n",
    "                           'cost' :np.array(PSO.best_cost_list)})\n",
    "print(max(best_cost_list), min(best_cost_list))\n",
    "#plot_list\n"
   ]
  },
  {
   "cell_type": "code",
   "execution_count": null,
   "metadata": {},
   "outputs": [],
   "source": [
    "plot_list.plot(y=\"cost\")"
   ]
  },
  {
   "cell_type": "code",
   "execution_count": null,
   "metadata": {},
   "outputs": [],
   "source": [
    "\n",
    "PSO.h\n",
    "print(PSO.variables)\n",
    "print(PSO.initial_cost_parameters)\n",
    "print(type((df[\"pv\"].values).tolist()) )\n",
    "sum( (df[\"pv\"]+df[\"wind\"]+df[\"diesel power\"]+df[\"trashed power\"]+df[\"battery_discharging_power\"]).values).tolist()\n"
   ]
  },
  {
   "cell_type": "code",
   "execution_count": null,
   "metadata": {},
   "outputs": [],
   "source": [
    "PSO.best['SCL']"
   ]
  },
  {
   "cell_type": "code",
   "execution_count": null,
   "metadata": {},
   "outputs": [],
   "source": [
    "PSO.best['SEL']"
   ]
  },
  {
   "cell_type": "code",
   "execution_count": null,
   "metadata": {},
   "outputs": [],
   "source": [
    "PSO.variables[\"Disel_Cf_sum\"] "
   ]
  },
  {
   "cell_type": "code",
   "execution_count": null,
   "metadata": {},
   "outputs": [],
   "source": [
    "sum(df['Diesel_Cf'])"
   ]
  },
  {
   "cell_type": "code",
   "execution_count": null,
   "metadata": {},
   "outputs": [],
   "source": [
    "\n"
   ]
  }
 ],
 "metadata": {
  "kernelspec": {
   "display_name": "Python 3",
   "language": "python",
   "name": "python3"
  },
  "language_info": {
   "codemirror_mode": {
    "name": "ipython",
    "version": 3
   },
   "file_extension": ".py",
   "mimetype": "text/x-python",
   "name": "python",
   "nbconvert_exporter": "python",
   "pygments_lexer": "ipython3",
   "version": "3.7.1"
  },
  "varInspector": {
   "cols": {
    "lenName": 16,
    "lenType": 16,
    "lenVar": 40
   },
   "kernels_config": {
    "python": {
     "delete_cmd_postfix": "",
     "delete_cmd_prefix": "del ",
     "library": "var_list.py",
     "varRefreshCmd": "print(var_dic_list())"
    },
    "r": {
     "delete_cmd_postfix": ") ",
     "delete_cmd_prefix": "rm(",
     "library": "var_list.r",
     "varRefreshCmd": "cat(var_dic_list()) "
    }
   },
   "position": {
    "height": "492px",
    "left": "869px",
    "right": "20px",
    "top": "67px",
    "width": "421px"
   },
   "types_to_exclude": [
    "module",
    "function",
    "builtin_function_or_method",
    "instance",
    "_Feature"
   ],
   "window_display": false
  }
 },
 "nbformat": 4,
 "nbformat_minor": 2
}
