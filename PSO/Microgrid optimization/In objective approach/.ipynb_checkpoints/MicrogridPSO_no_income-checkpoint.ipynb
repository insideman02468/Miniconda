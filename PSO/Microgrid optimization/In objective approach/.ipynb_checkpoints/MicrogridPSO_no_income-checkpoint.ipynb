{
 "cells": [
  {
   "cell_type": "code",
   "execution_count": 1,
   "metadata": {},
   "outputs": [],
   "source": [
    "from MicrogridPSO_module import *\n",
    "from MicrogridPSO_module_flowchart import *\n",
    "from MicrogridPSO_module_PSO import *"
   ]
  },
  {
   "cell_type": "code",
   "execution_count": null,
   "metadata": {},
   "outputs": [],
   "source": [
    "# inspect function\n",
    "#print(inspect.getmembers(MicrogridPSO_initialize, inspect.isfunction))\n",
    "\n",
    "# inspect methods\n",
    "#print(inspect.getmembers(MicrogridPSO_initialize, inspect.ismethod))\n",
    "\n",
    "# inspect object & methods\n",
    "# print(dir(MicrogridPSO_initialize))"
   ]
  },
  {
   "cell_type": "code",
   "execution_count": null,
   "metadata": {},
   "outputs": [],
   "source": [
    "# How to initialize\n",
    "# Class check\n",
    "# CSVを読み込みインスタンスを作成。\n",
    "PSO = MicrogridPSO_initialize(\"Target_input.csv\")\n",
    "\n",
    "# 初期値を設定\n",
    "PSO.set_initial_input_values({\"number_demand\": 1,\n",
    "                              \"pv_capacity_per_unit\": 245,\n",
    "                              \"wind_capacity_per_unit\": 2.3,\n",
    "                              \"SOC_max[%]\": 0.8,\n",
    "                              \"SOC_min[%]\": 0.2,\n",
    "                              \"SOC_start[%]\": 0.5\n",
    "                              })\n",
    "\n",
    "# 初期値を設定\n",
    "PSO.set_initial_cost_parameters({\"It_PV_1kW[yen/year]\": [726383.3333, 0, 0, 0, 0, 0, 0, 0, 0, 0, 0, 0, 0, 0, 0, 0, 0, 0, 0, 0],\n",
    "                                 \"Mt_PV_1kW[yen/year]\": [4329] * 20,\n",
    "                                 \"Ft_PV_1kW[yen/year]\": [0]*20,\n",
    "                                 \"It_Wind_1kW[yen/year]\": [302274.7826, 0, 0, 0, 0, 0, 0, 0, 0, 0, 0, 0, 0, 0, 0, 0, 0, 0, 0, 0],\n",
    "                                 \"Mt_Wind_1kW[yen/year]\": [662.785213] * 20,\n",
    "                                 \"Ft_Wind_1kW[yen/year]\": [0]*20,\n",
    "                                 \"It_Diesel_1kW[yen/year]\": [33611.11, 33611.11, 0, 33611.11, 33611.11, 0, 33611.11, 33611.11, 0, 33611.11,\n",
    "                                                             33611.11, 0, 33611.11, 33611.11, 0, 33611.11, 33611.11, 0, 33611.11, 33611.11],\n",
    "                                 \"Mt_Diesel_1kW[yen/year]\": [8.8] * 20,\n",
    "                                 \"Diesel_Pf\": 129,\n",
    "                                 \"Diesel_Adg\": 0.2461,\n",
    "                                 \"Diesel_Bdg\": 0.081451,\n",
    "                                 \"It_Battery_1kW[yen/year]\": [13540, 0, 0, 0, 13540, 0, 0, 0, 13540, 0, 0, 0, 13540, 0, 0, 0, 13540, 0, 0, 0],\n",
    "                                 \"Mt_Battery_1kW[yen/year]\": [1100] * 20,\n",
    "                                 \"Ft_Battery_1kW[yen/year]\": [0]*20,\n",
    "                                 \"Sell_income_from_trashed[kWh/yen]\": [0]*20,\n",
    "                                 \"r[yen/year]\": [0.0234375]*20,\n",
    "                                 \"operation_year\": list(range(1, 21))\n",
    "                                 })\n",
    "\n",
    "# PSOの中身を確認\n",
    "# print(dir(PSO))\n",
    "# print(vars(PSO))\n",
    "# len(PSO.Target_input.index)"
   ]
  },
  {
   "cell_type": "code",
   "execution_count": null,
   "metadata": {
    "scrolled": true
   },
   "outputs": [
    {
     "name": "stdout",
     "output_type": "stream",
     "text": [
      "Inform the number of iterations: 7\n",
      "Inform the number of particles: 4\n",
      "Inform w: 0.6\n",
      "Inform c1: 0.3\n",
      "Inform c2: 0.3\n",
      "{'pv_cap_max': 0, 'wind_cap_max': 0, 'battery_cap_max': 0, 'diesel_max': 0} \n",
      "iterations: 7 n_particles: 4 w: 0.6 c1: 0.3 c2: 0.3 particle: {'particle_position_vector': array([[8.17101047e+03, 3.36372373e+01, 8.14576851e+00, 3.72462148e+01],\n",
      "       [4.64555937e+03, 2.84979635e+01, 4.56283579e+01, 1.26561742e+00],\n",
      "       [9.62865355e+03, 4.29378370e+01, 5.34179415e+00, 3.96544942e+01],\n",
      "       [2.51267504e+03, 3.69288331e+01, 3.66645972e+01, 3.76094808e+01]]), 'pbest_position': array([[8.17101047e+03, 3.36372373e+01, 8.14576851e+00, 3.72462148e+01],\n",
      "       [4.64555937e+03, 2.84979635e+01, 4.56283579e+01, 1.26561742e+00],\n",
      "       [9.62865355e+03, 4.29378370e+01, 5.34179415e+00, 3.96544942e+01],\n",
      "       [2.51267504e+03, 3.69288331e+01, 3.66645972e+01, 3.76094808e+01]]), 'pbest_fitness_value': array([inf, inf, inf, inf]), 'gbest_fitness_value': inf, 'gbest_position': array([[8.17101047e+03, 3.36372373e+01, 8.14576851e+00, 3.72462148e+01],\n",
      "       [4.64555937e+03, 2.84979635e+01, 4.56283579e+01, 1.26561742e+00],\n",
      "       [9.62865355e+03, 4.29378370e+01, 5.34179415e+00, 3.96544942e+01],\n",
      "       [2.51267504e+03, 3.69288331e+01, 3.66645972e+01, 3.76094808e+01]]), 'velocity_vector': [array([0, 0, 0, 0]), array([0, 0, 0, 0]), array([0, 0, 0, 0]), array([0, 0, 0, 0])], 'previous_velocity_vector': [array([0, 0, 0, 0]), array([0, 0, 0, 0]), array([0, 0, 0, 0]), array([0, 0, 0, 0])], 'iteration': 0, 'range_vector': [10000, 50, 50, 50]}\n",
      "-------iteration = 0 -----------\n",
      "[[8.17101047e+03 3.36372373e+01 8.14576851e+00 3.72462148e+01]\n",
      " [4.64555937e+03 2.84979635e+01 4.56283579e+01 1.26561742e+00]\n",
      " [9.62865355e+03 4.29378370e+01 5.34179415e+00 3.96544942e+01]\n",
      " [2.51267504e+03 3.69288331e+01 3.66645972e+01 3.76094808e+01]]\n",
      "-----particle_position[ 0 ]  81.07875408083626 [yen].  [8.17101047e+03 3.36372373e+01 8.14576851e+00 3.72462148e+01]\n",
      "      *previous_velocity_vector[ 0 ] [0 0 0 0] new_velocity [0. 0. 0. 0.]\n",
      "      *particle_position_vector[ 0 ] is updated. particle_position: [8.17101047e+03 3.36372373e+01 8.14576851e+00 3.72462148e+01]\n",
      "      * 4437 [h]-----PSO.check is False.\n",
      "      * 4437h: Error! diesel capacity is over!\n",
      "      *PSO.diesel_max | PSO.p_diesel |PSO.np_demand[PSO.h] | PSO.np_demand[PSO.h]-PSO.pv-PSO.wind |PSO.p_battery-PSO.battery_min\n",
      "      * 1.2656174165993406 6.102191911988489 6.45820819 6.45820819 0.35601627801151103\n",
      "      *particle_position_vector is errored.loop= 1 [4.64555937e+03 2.84979635e+01 4.56283579e+01 1.26561742e+00]\n",
      "      *particle_position_vector is updated by error. [9443.09518829   35.44914738   44.97472883   14.92367837]\n",
      "-----particle_position[ 1 ]  34.67580711819032 [yen].  [9443.09518829   35.44914738   44.97472883   14.92367837]\n",
      "      *previous_velocity_vector[ 1 ] [0 0 0 0] new_velocity [0. 0. 0. 0.]\n",
      "      *particle_position_vector[ 1 ] is updated. particle_position: [9443.09518829   35.44914738   44.97472883   14.92367837]\n",
      "-----particle_position[ 2 ]  74.62592275594073 [yen].  [9.62865355e+03 4.29378370e+01 5.34179415e+00 3.96544942e+01]\n",
      "      *previous_velocity_vector[ 2 ] [0 0 0 0] new_velocity [-19.29979078  -0.77889317   4.1221928   -2.57223422]\n",
      "      *particle_position_vector[ 2 ] is updated. particle_position: [9.60935376e+03 4.21589438e+01 9.46398694e+00 3.70822600e+01]\n",
      "-----particle_position[ 3 ]  55.700530167808495 [yen].  [2512.67504004   36.92883311   36.66459722   37.6094808 ]\n",
      "      *previous_velocity_vector[ 3 ] [0 0 0 0] new_velocity [ 1.51584556e+02 -3.23642000e-02  1.81762084e-01 -4.96191747e-01]\n",
      "      *particle_position_vector[ 3 ] is updated. particle_position: [2664.25959556   36.89646891   36.84635931   37.11328905]\n",
      "-------iteration = 1 -----------\n",
      "[[8.17101047e+03 3.36372373e+01 8.14576851e+00 3.72462148e+01]\n",
      " [9.44309519e+03 3.54491474e+01 4.49747288e+01 1.49236784e+01]\n",
      " [9.60935376e+03 4.21589438e+01 9.46398694e+00 3.70822600e+01]\n",
      " [2.66425960e+03 3.68964689e+01 3.68463593e+01 3.71132891e+01]]\n",
      "-----particle_position[ 0 ]  81.07875408083626 [yen].  [8.17101047e+03 3.36372373e+01 8.14576851e+00 3.72462148e+01]\n",
      "      *previous_velocity_vector[ 0 ] [ 1.51584556e+02 -3.23642000e-02  1.81762084e-01 -4.96191747e-01] new_velocity [444.88207372   0.48470808  10.35595595  -6.50850045]\n",
      "      *particle_position_vector[ 0 ] is updated. particle_position: [8615.8925392    34.12194542   18.50172446   30.73771433]\n",
      "-----particle_position[ 1 ]  34.67580711819032 [yen].  [9443.09518829   35.44914738   44.97472883   14.92367837]\n",
      "      *previous_velocity_vector[ 1 ] [444.88207372   0.48470808  10.35595595  -6.50850045] new_velocity [266.92924423   0.29082485   6.21357357  -3.90510027]\n",
      "      *particle_position_vector[ 1 ] is updated. particle_position: [9710.02443252   35.73997223   51.1883024    11.0185781 ]\n"
     ]
    }
   ],
   "source": [
    "%%time\n",
    "\n",
    "#計算結果を実行\n",
    "iterations_PSO(PSO)"
   ]
  },
  {
   "cell_type": "code",
   "execution_count": null,
   "metadata": {
    "scrolled": true
   },
   "outputs": [],
   "source": [
    "# print(PSO.best['gbest_fitness_value'])\n",
    "df=PSO.best['table']\n",
    "df.to_csv('PSO_result_no_income.csv',encoding=\"SHIFT-JIS\")  \n",
    "df"
   ]
  },
  {
   "cell_type": "code",
   "execution_count": null,
   "metadata": {},
   "outputs": [],
   "source": [
    "best_cost_list = np.array(PSO.best_cost_list)\n",
    "gbest_list = np.array(PSO.gbest_list)\n",
    "iteration_list = np.array(PSO.iteration_list)\n",
    "plot_list = pd.DataFrame({'iteration': np.array(PSO.iteration_list),\n",
    "                          'cost': np.array(PSO.best_cost_list)})\n",
    "print(max(best_cost_list), min(best_cost_list))\n",
    "# plot_list"
   ]
  },
  {
   "cell_type": "code",
   "execution_count": null,
   "metadata": {},
   "outputs": [],
   "source": [
    "plot_list.plot(y=\"cost\")"
   ]
  },
  {
   "cell_type": "code",
   "execution_count": null,
   "metadata": {
    "scrolled": true
   },
   "outputs": [],
   "source": [
    "# 計算結果テキストファイルの作成\n",
    "f = open('PSO_result_parameters.txt', 'w')  # 書き込みモードで開く\n",
    "f_content = 'gbest_position: '+str(PSO.best['gbest_position'])+' gbest_fitness_value: '+str(PSO.best['gbest_fitness_value'])+str(PSO.variables) + \\\n",
    "    str(PSO.initial_cost_parameters)+str(PSO.initial_cost_parameters)\n",
    "f.write(f_content)  # 引数の文字列をファイルに書き込む\n",
    "f.close()  # ファイルを閉じる"
   ]
  },
  {
   "cell_type": "code",
   "execution_count": null,
   "metadata": {},
   "outputs": [],
   "source": [
    "PSO.best['SCL']"
   ]
  },
  {
   "cell_type": "code",
   "execution_count": null,
   "metadata": {},
   "outputs": [],
   "source": [
    "PSO.best['SEL']"
   ]
  },
  {
   "cell_type": "code",
   "execution_count": null,
   "metadata": {},
   "outputs": [],
   "source": [
    "dir(PSO)"
   ]
  }
 ],
 "metadata": {
  "kernelspec": {
   "display_name": "Python 3",
   "language": "python",
   "name": "python3"
  },
  "language_info": {
   "codemirror_mode": {
    "name": "ipython",
    "version": 3
   },
   "file_extension": ".py",
   "mimetype": "text/x-python",
   "name": "python",
   "nbconvert_exporter": "python",
   "pygments_lexer": "ipython3",
   "version": "3.7.1"
  },
  "varInspector": {
   "cols": {
    "lenName": 16,
    "lenType": 16,
    "lenVar": 40
   },
   "kernels_config": {
    "python": {
     "delete_cmd_postfix": "",
     "delete_cmd_prefix": "del ",
     "library": "var_list.py",
     "varRefreshCmd": "print(var_dic_list())"
    },
    "r": {
     "delete_cmd_postfix": ") ",
     "delete_cmd_prefix": "rm(",
     "library": "var_list.r",
     "varRefreshCmd": "cat(var_dic_list()) "
    }
   },
   "position": {
    "height": "492px",
    "left": "869px",
    "right": "20px",
    "top": "67px",
    "width": "421px"
   },
   "types_to_exclude": [
    "module",
    "function",
    "builtin_function_or_method",
    "instance",
    "_Feature"
   ],
   "window_display": false
  }
 },
 "nbformat": 4,
 "nbformat_minor": 2
}
