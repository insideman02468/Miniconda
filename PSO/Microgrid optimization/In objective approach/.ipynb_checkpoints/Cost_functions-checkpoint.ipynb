{
 "cells": [
  {
   "cell_type": "code",
   "execution_count": 1,
   "metadata": {},
   "outputs": [],
   "source": [
    "import subprocess\n",
    "import datetime\n",
    "import math\n",
    "import os\n",
    "import matplotlib.pyplot as plt\n",
    "import numpy as np\n",
    "import pandas as pd\n",
    "import inspect"
   ]
  },
  {
   "cell_type": "code",
   "execution_count": 30,
   "metadata": {},
   "outputs": [
    {
     "data": {
      "text/plain": [
       "2014.8000000000002"
      ]
     },
     "execution_count": 30,
     "metadata": {},
     "output_type": "execute_result"
    }
   ],
   "source": [
    "initial_cost_parameters = {\"It_PV_1kW[yen/year]\": [726383.3333,0,0,0,0,0,0,0,0,0,0,0,0,0,0,0,0,0,0,0],\n",
    "                           \"Mt_PV_1kW[yen/year]\":[4329] * 20,\n",
    "                           \"Ft_PV_1kW[yen/year]\":[0]*20,\n",
    "                           \"It_Wind_1kW[yen/year]\": [302274.7826,0,0,0,0,0,0,0,0,0,0,0,0,0,0,0,0,0,0,0],\n",
    "                           \"Mt_Wind_1kW[yen/year]\":[662.785213] * 20,\n",
    "                           \"Ft_Wind_1kW[yen/year]\":[0]*20,\n",
    "                           \"It_Diesel_1kW[yen/year]\": [726383.3333,0,0,0,0,0,0,0,0,0,0,0,0,0,0,0,0,0,0,0],\n",
    "                           \"Mt_Diesel_1kW[yen/year]\":[4329] * 20,\n",
    "                           \"Ft_Diesel_1kW[yen/kWh/year]\":[2000]*20,\n",
    "                           \"It_Battery_1kW[yen/year]\": [13540,0,0,0,13540,0,0,0,13540,0,0,0,13540,0,0,0,13540,0,0,0],\n",
    "                           \"Mt_Battery_1kW[yen/year]\":[1100] * 20,\n",
    "                           \"Ft_Battery_1kW[yen/year]\":[0]*20,\n",
    "                           \"r[yen/year]\":[0.0234375]*20,\n",
    "                           \"operation_year\":list(range(1,21))\n",
    "                           }\n",
    "\n",
    "cost_parameters={\n",
    "    \"(1+r)^t\":(1+np.array(initial_cost_parameters[\"r[yen/year]\"] ) **initial_cost_parameters[\"operation_year\"]).tolist(),\n",
    "}\n",
    "\n",
    "Et=[12576.981370325326]*20"
   ]
  },
  {
   "cell_type": "code",
   "execution_count": 31,
   "metadata": {},
   "outputs": [
    {
     "name": "stdout",
     "output_type": "stream",
     "text": [
      "dict_keys(['pv_cap_max', 'wind_cap_max', 'battery_cap_max', 'battery_max', 'battery_min', 'diesel_max', 'demand_sum', 'pv_power_sum', 'wind_power_sum', 'battery_charging_power_sum', 'battery_discharging_power_sum', 'diesel_power_sum', 'trashed_power_sum'])\n",
      "<class 'float'>\n",
      "dict_keys(['It_PV_1kW[yen/year]', 'Mt_PV_1kW[yen/year]', 'Ft_PV_1kW[yen/year]', 'It_Wind_1kW[yen/year]', 'Mt_Wind_1kW[yen/year]', 'Ft_Wind_1kW[yen/year]', 'It_Diesel_1kW[yen/year]', 'Mt_Diesel_1kW[yen/year]', 'Ft_Diesel_1kW[yen/kWh/year]', 'It_Battery_1kW[yen/year]', 'Mt_Battery_1kW[yen/year]', 'Ft_Battery_1kW[yen/year]', 'r[yen/year]', 'operation_year'])\n"
     ]
    }
   ],
   "source": [
    "variables = {'pv_cap_max': 81.36994985098434, 'wind_cap_max': 71.07446859887513, 'battery_cap_max': 89.6328267254965, 'battery_max': 80.66954405294685, 'battery_min': 17.926565345099302, 'diesel_max': 94.95165119915434, 'demand_sum': 38.687999999999995,\n",
    "                 'pv_power_sum': 0.6428243995539474, 'wind_power_sum': 83.20371806928155, 'battery_charging_power_sum': 60.84095284768869, 'battery_discharging_power_sum': 26.204170875926295, 'diesel_power_sum': 0, 'trashed_power_sum': 10.521760497073117}\n",
    "\n",
    "print(variables.keys())\n",
    "print(type(variables[\"pv_cap_max\"]))\n",
    "print(initial_cost_parameters.keys())"
   ]
  },
  {
   "cell_type": "code",
   "execution_count": 46,
   "metadata": {},
   "outputs": [
    {
     "data": {
      "text/plain": [
       "693.176161561277"
      ]
     },
     "execution_count": 46,
     "metadata": {},
     "output_type": "execute_result"
    }
   ],
   "source": [
    "SCL = ((variables[\"pv_cap_max\"]\n",
    "     * (np.array(initial_cost_parameters[\"It_PV_1kW[yen/year]\"])+np.array(initial_cost_parameters[\"Mt_PV_1kW[yen/year]\"])))\\\n",
    "    + (variables[\"wind_cap_max\"]\\\n",
    "    * (np.array(initial_cost_parameters[\"It_Wind_1kW[yen/year]\"])+np.array(initial_cost_parameters[\"Mt_Wind_1kW[yen/year]\"]))) \\\n",
    "    + (variables[\"diesel_max\"]\\\n",
    "    * (np.array(initial_cost_parameters[\"It_Diesel_1kW[yen/year]\"])+np.array(initial_cost_parameters[\"Mt_Diesel_1kW[yen/year]\"])\\\n",
    "      + np.array(initial_cost_parameters[\"Ft_Diesel_1kW[yen/kWh/year]\"]))) \\\n",
    "    + (variables[\"battery_cap_max\"]\\\n",
    "    * (np.array(initial_cost_parameters[\"It_Battery_1kW[yen/year]\"])+np.array(initial_cost_parameters[\"Mt_Battery_1kW[yen/year]\"]))) ) \\\n",
    "    /cost_parameters[\"(1+r)^t\"]\n",
    "\n",
    "SEL =np.array(Et)/cost_parameters[\"(1+r)^t\"]\n",
    "    \n",
    "LCOE=np.sum(SCL)/np.sum(SEL)\n",
    "LCOE"
   ]
  },
  {
   "cell_type": "code",
   "execution_count": null,
   "metadata": {},
   "outputs": [],
   "source": [
    "def calc_cost(variables, initial_cost_parameters):\n",
    "    #initial_cost_parameters[\"PV_cost[yen/kWh]\"]\n",
    "    #initial_cost_parameters[\"battery_cost[yen/kWh]\"]\n",
    "    #initial_cost_parameters[\"diesel_cost[yen/kWh]\"]\n",
    "    total_cost = variables[\"pv_power_sum\"] * initial_cost_parameters[\"PV_cost[yen/kWh]\"] \\\n",
    "                +variables[\"wind_power_sum\"] * initial_cost_parameters[\"Wind_cost[yen/kWh]\"] \\\n",
    "                +(variables[\"battery_charging_power_sum\"] + variables[\"battery_discharging_power_sum\"] ) \\\n",
    "                * initial_cost_parameters[\"battery_cost[yen/kWh]\"] \\\n",
    "                +variables[\"diesel_power_sum\"] * initial_cost_parameters[\"diesel_cost[yen/kWh]\"]\n",
    "\n",
    "    return total_cost"
   ]
  },
  {
   "cell_type": "code",
   "execution_count": null,
   "metadata": {},
   "outputs": [],
   "source": [
    "total_cost=calc_cost(variables, initial_cost_parameters)\n",
    "total_cost"
   ]
  },
  {
   "cell_type": "code",
   "execution_count": null,
   "metadata": {},
   "outputs": [],
   "source": []
  }
 ],
 "metadata": {
  "kernelspec": {
   "display_name": "Python 3",
   "language": "python",
   "name": "python3"
  },
  "language_info": {
   "codemirror_mode": {
    "name": "ipython",
    "version": 3
   },
   "file_extension": ".py",
   "mimetype": "text/x-python",
   "name": "python",
   "nbconvert_exporter": "python",
   "pygments_lexer": "ipython3",
   "version": "3.7.1"
  },
  "varInspector": {
   "cols": {
    "lenName": 16,
    "lenType": 16,
    "lenVar": 40
   },
   "kernels_config": {
    "python": {
     "delete_cmd_postfix": "",
     "delete_cmd_prefix": "del ",
     "library": "var_list.py",
     "varRefreshCmd": "print(var_dic_list())"
    },
    "r": {
     "delete_cmd_postfix": ") ",
     "delete_cmd_prefix": "rm(",
     "library": "var_list.r",
     "varRefreshCmd": "cat(var_dic_list()) "
    }
   },
   "types_to_exclude": [
    "module",
    "function",
    "builtin_function_or_method",
    "instance",
    "_Feature"
   ],
   "window_display": false
  }
 },
 "nbformat": 4,
 "nbformat_minor": 2
}
