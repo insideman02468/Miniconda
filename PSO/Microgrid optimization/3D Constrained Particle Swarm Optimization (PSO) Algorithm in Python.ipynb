{
 "cells": [
  {
   "cell_type": "code",
   "execution_count": 1,
   "metadata": {},
   "outputs": [
    {
     "name": "stdout",
     "output_type": "stream",
     "text": [
      "Inform the number of iterations: 10\n",
      "Inform the number of particles: 10\n",
      "iteration = 0\n",
      "function cost = [110.64584907  78.07677873 239.63277223]\n",
      "particle_position[ 0 ]  [ 6.71632555  3.52703546 -7.08926881]\n",
      "particle_position[ 1 ]  [-8.30987265  0.6992928  -1.31194483]\n",
      "particle_position[ 2 ]  [1.71451244 5.4677798  2.61728772]\n",
      "particle_position[ 3 ]  [3.98363375 0.91037843 6.22689961]\n",
      "particle_position[ 4 ]  [-0.65329218 -0.75254993 -2.09086197]\n",
      "particle_position[ 5 ]  [-3.58743079 -5.10422088  3.74197051]\n",
      "particle_position[ 6 ]  [5.82325795 1.21347641 6.49183786]\n",
      "particle_position[ 7 ]  [ 5.33027595 -0.91096209  2.5420959 ]\n",
      "particle_position[ 8 ]  [-1.5130598  -0.05637694  6.81294487]\n",
      "particle_position[ 9 ]  [-6.13961711  1.34123247 -6.57704933]\n"
     ]
    },
    {
     "ename": "ValueError",
     "evalue": "could not broadcast input array from shape (10,3) into shape (3)",
     "output_type": "error",
     "traceback": [
      "\u001b[0;31m---------------------------------------------------------------------------\u001b[0m",
      "\u001b[0;31mValueError\u001b[0m                                Traceback (most recent call last)",
      "\u001b[0;32m<ipython-input-1-34759a89fd2b>\u001b[0m in \u001b[0;36m<module>\u001b[0;34m\u001b[0m\n\u001b[1;32m     67\u001b[0m                         \u001b[0;34m+\u001b[0m \u001b[0;34m(\u001b[0m\u001b[0mc2\u001b[0m\u001b[0;34m*\u001b[0m\u001b[0mnp\u001b[0m\u001b[0;34m.\u001b[0m\u001b[0mrandom\u001b[0m\u001b[0;34m.\u001b[0m\u001b[0mrandn\u001b[0m\u001b[0;34m(\u001b[0m\u001b[0;34m)\u001b[0m\u001b[0;34m)\u001b[0m \u001b[0;34m*\u001b[0m \u001b[0;34m(\u001b[0m\u001b[0mgbest_position\u001b[0m\u001b[0;34m-\u001b[0m\u001b[0mparticle_position_vector\u001b[0m\u001b[0;34m[\u001b[0m\u001b[0mi\u001b[0m\u001b[0;34m]\u001b[0m\u001b[0;34m)\u001b[0m\u001b[0;34m\u001b[0m\u001b[0;34m\u001b[0m\u001b[0m\n\u001b[1;32m     68\u001b[0m         \u001b[0mnew_position\u001b[0m \u001b[0;34m=\u001b[0m \u001b[0mnew_velocity\u001b[0m \u001b[0;34m+\u001b[0m \u001b[0mparticle_position_vector\u001b[0m\u001b[0;34m[\u001b[0m\u001b[0mi\u001b[0m\u001b[0;34m]\u001b[0m\u001b[0;34m\u001b[0m\u001b[0;34m\u001b[0m\u001b[0m\n\u001b[0;32m---> 69\u001b[0;31m         \u001b[0mparticle_position_vector\u001b[0m\u001b[0;34m[\u001b[0m\u001b[0mi\u001b[0m\u001b[0;34m]\u001b[0m \u001b[0;34m=\u001b[0m \u001b[0mnew_position\u001b[0m\u001b[0;34m\u001b[0m\u001b[0;34m\u001b[0m\u001b[0m\n\u001b[0m\u001b[1;32m     70\u001b[0m \u001b[0;34m\u001b[0m\u001b[0m\n\u001b[1;32m     71\u001b[0m         \u001b[0;32mwhile\u001b[0m \u001b[0mconstrained\u001b[0m\u001b[0;34m(\u001b[0m\u001b[0mparticle_position_vector\u001b[0m\u001b[0;34m[\u001b[0m\u001b[0mi\u001b[0m\u001b[0;34m]\u001b[0m\u001b[0;34m)\u001b[0m \u001b[0;34m==\u001b[0m \u001b[0;32mFalse\u001b[0m\u001b[0;34m:\u001b[0m\u001b[0;34m\u001b[0m\u001b[0;34m\u001b[0m\u001b[0m\n",
      "\u001b[0;31mValueError\u001b[0m: could not broadcast input array from shape (10,3) into shape (3)"
     ]
    }
   ],
   "source": [
    "import random\n",
    "import numpy as np \n",
    "\n",
    "#function that models the problem\n",
    "def fitness_function(position):\n",
    "    x=position[0]\n",
    "    y=position[1]\n",
    "    z=position[2]\n",
    "    ans=(x-1)**2+(y-2)**2+3+(z-6)**2\n",
    "    return ans\n",
    "\n",
    "judge=False\n",
    "\n",
    "def constrained(position):\n",
    "    x=position[0]\n",
    "    y=position[1]\n",
    "    if x> 5 and y>7 :\n",
    "        judge=True\n",
    "    else:\n",
    "        judge=False \n",
    "    return judge\n",
    "\n",
    "\n",
    "#Some variables to calculate the velocity\n",
    "W = 0.5\n",
    "c1 = 0.1\n",
    "c2 = 0.1\n",
    "#c3 = 0.07\n",
    "    \n",
    "n_iterations = int(input(\"Inform the number of iterations: \"))\n",
    "n_particles = int(input(\"Inform the number of particles: \"))\n",
    "\n",
    "particle_position_vector = \\\n",
    "np.array([np.array([np.random.randn()*5, np.random.randn()*5, np.random.randn()*5]) \\\n",
    "          for _ in range(n_particles)])\n",
    "pbest_position = \\\n",
    "np.array([np.array([np.random.randn()*5, np.random.randn()*5, np.random.randn()*5]) \\\n",
    "          for _ in range(n_particles)])\n",
    "\n",
    "pbest_fitness_value = np.array([float('inf') for _ in range(n_particles)])\n",
    "gbest_fitness_value = float('inf')\n",
    "gbest_position = pbest_position\n",
    "\n",
    "velocity_vector = ([np.array([0, 0, 0]) for _ in range(n_particles)])\n",
    "iteration = 0\n",
    "constrained_iteration = 0\n",
    "\n",
    "while iteration < n_iterations:\n",
    "    print('iteration','=',str(iteration))\n",
    "    print(\"function cost =\", fitness_function(gbest_position))\n",
    "    for i in range(n_particles):\n",
    "        fitness_cadidate = fitness_function(particle_position_vector[i])\n",
    "        print('particle_position[',str(i),'] ',particle_position_vector[i])\n",
    "        \n",
    "        if  constrained(particle_position_vector[i]) == True:        \n",
    "            if(pbest_fitness_value[i] > fitness_cadidate):\n",
    "                pbest_fitness_value[i] = fitness_cadidate\n",
    "                pbest_position[i] = particle_position_vector[i]\n",
    "\n",
    "            if(gbest_fitness_value > fitness_cadidate):\n",
    "                gbest_fitness_value = fitness_cadidate\n",
    "                gbest_position = particle_position_vector[i]\n",
    "\n",
    "    for i in range(n_particles):\n",
    "        new_velocity = (W*velocity_vector[i]) \\\n",
    "                        + (c1*np.random.randn()) * (pbest_position[i] - particle_position_vector[i]) \\\n",
    "                        + (c2*np.random.randn()) * (gbest_position-particle_position_vector[i])\n",
    "        new_position = new_velocity + particle_position_vector[i]\n",
    "        particle_position_vector[i] = new_position\n",
    "        \n",
    "        while constrained(particle_position_vector[i]) == False:\n",
    "            print('failed:',new_position)\n",
    "            new_velocity = (W*velocity_vector[i]) \\\n",
    "            + (c1*np.random.randn()) * (pbest_position[i] - particle_position_vector[i]) \\\n",
    "            + (c2*np.random.randn()) * (gbest_position-particle_position_vector[i])\n",
    "            new_position = new_velocity + particle_position_vector[i]\n",
    "            particle_position_vector[i] = new_position\n",
    "            constrained_iteration = constrained_iteration + 1\n",
    "         \n",
    "        print(particle_position_vector[i])\n",
    "        \n",
    "    iteration = iteration + 1"
   ]
  },
  {
   "cell_type": "code",
   "execution_count": null,
   "metadata": {},
   "outputs": [],
   "source": [
    "print(\"The best position is \", gbest_position, \"in iteration number \", iteration)\n",
    "print(\"The best cost is \", fitness_function(gbest_position))"
   ]
  },
  {
   "cell_type": "code",
   "execution_count": null,
   "metadata": {},
   "outputs": [],
   "source": []
  }
 ],
 "metadata": {
  "kernelspec": {
   "display_name": "Python 3",
   "language": "python",
   "name": "python3"
  },
  "language_info": {
   "codemirror_mode": {
    "name": "ipython",
    "version": 3
   },
   "file_extension": ".py",
   "mimetype": "text/x-python",
   "name": "python",
   "nbconvert_exporter": "python",
   "pygments_lexer": "ipython3",
   "version": "3.7.1"
  },
  "varInspector": {
   "cols": {
    "lenName": 16,
    "lenType": 16,
    "lenVar": 40
   },
   "kernels_config": {
    "python": {
     "delete_cmd_postfix": "",
     "delete_cmd_prefix": "del ",
     "library": "var_list.py",
     "varRefreshCmd": "print(var_dic_list())"
    },
    "r": {
     "delete_cmd_postfix": ") ",
     "delete_cmd_prefix": "rm(",
     "library": "var_list.r",
     "varRefreshCmd": "cat(var_dic_list()) "
    }
   },
   "types_to_exclude": [
    "module",
    "function",
    "builtin_function_or_method",
    "instance",
    "_Feature"
   ],
   "window_display": false
  }
 },
 "nbformat": 4,
 "nbformat_minor": 2
}
