{
 "cells": [
  {
   "cell_type": "code",
   "execution_count": null,
   "metadata": {},
   "outputs": [],
   "source": [
    "import random\n",
    "import numpy as np \n",
    "\n",
    "#function that models the problem\n",
    "def fitness_function(position):\n",
    "    return position[0]**2 + position[1]**2 + 1\n",
    "\n",
    "#Some variables to calculate the velocity\n",
    "W = 0.5\n",
    "c1 = 0.5\n",
    "c2 = 0.9\n",
    "target = 1\n",
    "\n",
    "n_iterations = int(input(\"Inform the number of iterations: \"))\n",
    "target_error = float(input(\"Inform the target error: \"))\n",
    "n_particles = int(input(\"Inform the number of particles: \"))\n",
    "\n",
    "particle_position_vector = \\\n",
    "np.array([np.array([(-1) ** (bool(random.getrandbits(1))) * random.random()*50, (-1)**(bool(random.getrandbits(1))) * random.random()*50]) \\\n",
    "          for _ in range(n_particles)])\n",
    "pbest_position = particle_position_vector\n",
    "pbest_fitness_value = np.array([float('inf') for _ in range(n_particles)])\n",
    "gbest_fitness_value = float('inf')\n",
    "gbest_position = np.array([float('inf'), float('inf')])\n",
    "\n",
    "velocity_vector = ([np.array([0, 0]) for _ in range(n_particles)])\n",
    "iteration = 0\n",
    "while iteration < n_iterations:\n",
    "    for i in range(n_particles):\n",
    "        fitness_cadidate = fitness_function(particle_position_vector[i])\n",
    "        print(fitness_cadidate, ' ', particle_position_vector[i])\n",
    "        \n",
    "        if(pbest_fitness_value[i] > fitness_cadidate):\n",
    "            pbest_fitness_value[i] = fitness_cadidate\n",
    "            pbest_position[i] = particle_position_vector[i]\n",
    "\n",
    "        if(gbest_fitness_value > fitness_cadidate):\n",
    "            gbest_fitness_value = fitness_cadidate\n",
    "            gbest_position = particle_position_vector[i]\n",
    "\n",
    "    if(abs(gbest_fitness_value - target) < target_error):\n",
    "        break\n",
    "    \n",
    "    for i in range(n_particles):\n",
    "        new_velocity = (W*velocity_vector[i]) + (c1*random.random()) * (pbest_position[i] - particle_position_vector[i]) + (c2*random.random()) * (gbest_position-particle_position_vector[i])\n",
    "        new_position = new_velocity + particle_position_vector[i]\n",
    "        particle_position_vector[i] = new_position\n",
    "\n",
    "    iteration = iteration + 1\n",
    "    \n",
    "print(\"The best position is \", gbest_position, \"in iteration number \", iteration)"
   ]
  },
  {
   "cell_type": "code",
   "execution_count": null,
   "metadata": {},
   "outputs": [],
   "source": []
  }
 ],
 "metadata": {
  "kernelspec": {
   "display_name": "Python 3",
   "language": "python",
   "name": "python3"
  },
  "language_info": {
   "codemirror_mode": {
    "name": "ipython",
    "version": 3
   },
   "file_extension": ".py",
   "mimetype": "text/x-python",
   "name": "python",
   "nbconvert_exporter": "python",
   "pygments_lexer": "ipython3",
   "version": "3.7.1"
  },
  "varInspector": {
   "cols": {
    "lenName": 16,
    "lenType": 16,
    "lenVar": 40
   },
   "kernels_config": {
    "python": {
     "delete_cmd_postfix": "",
     "delete_cmd_prefix": "del ",
     "library": "var_list.py",
     "varRefreshCmd": "print(var_dic_list())"
    },
    "r": {
     "delete_cmd_postfix": ") ",
     "delete_cmd_prefix": "rm(",
     "library": "var_list.r",
     "varRefreshCmd": "cat(var_dic_list()) "
    }
   },
   "types_to_exclude": [
    "module",
    "function",
    "builtin_function_or_method",
    "instance",
    "_Feature"
   ],
   "window_display": false
  }
 },
 "nbformat": 4,
 "nbformat_minor": 2
}
