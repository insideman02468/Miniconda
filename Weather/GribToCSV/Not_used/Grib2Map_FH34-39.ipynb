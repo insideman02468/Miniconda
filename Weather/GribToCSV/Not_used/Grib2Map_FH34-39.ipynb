{
 "cells": [
  {
   "cell_type": "code",
   "execution_count": 1,
   "metadata": {},
   "outputs": [],
   "source": [
    "from mpl_toolkits.basemap import Basemap  # import Basemap matplotlib toolkit\n",
    "import numpy as np\n",
    "import matplotlib.pyplot as plt\n",
    "import pygrib # import pygrib interface to grib_api\n",
    "import pandas as pd\n",
    "import os\n",
    "import sys\n",
    "import math\n",
    "import folium\n",
    "import csv \n",
    "import time\n",
    "\n",
    "start = time.time()\n",
    "\n",
    "%matplotlib inline\n",
    "\n",
    "root = os.getcwd()\n",
    "root_data = root + \"/grib_data\"\n",
    "root_URL = \"http://database.rish.kyoto-u.ac.jp/arch/jmadata/data/gpv/original/\"\n",
    "\n",
    "#timestomp like 201808010000 means that it is at 2019/04/09/08:00(UTC timezone)\n",
    "year = \"2019\"\n",
    "month = \"04\"\n",
    "day = \"22\"\n",
    "roottime=\"000000\"\n",
    "FH=\"34-39\"\n",
    "\n",
    "def getgrib(year,month,day,roottime,FH):\n",
    "    file_name = \"Z__C_RJTD_\"+str(year+month+day+roottime)+\"_MSM_GPV_Rjp_Lsurf_FH\"+str(FH)+\"_grib2.bin\"\n",
    "    file_url = root_URL\\\n",
    "                +str(year + \"/\" + month + \"/\" + day +\"/\")\\\n",
    "                +file_name\n",
    "    root_file= \"grib_data/\"+file_name\n",
    "    if os.path.isfile(root_file) == False:\n",
    "            command = \"wget -P grib_data/ \"+ file_url\n",
    "            os.system(command)\n",
    "\n",
    "    getgrib_output = pygrib.open(root_file)\n",
    "    return getgrib_output\n",
    "\n",
    "def getrootgrib(year,month,day,time,FH):\n",
    "    file_name = \"Z__C_RJTD_\"+str(year+month+day+roottime)+\"_MSM_GPV_Rjp_Lsurf_FH\"+str(FH)+\"_grib2.bin\"   \n",
    "    return \"grib_data/\"+file_name"
   ]
  },
  {
   "cell_type": "code",
   "execution_count": 2,
   "metadata": {},
   "outputs": [
    {
     "name": "stdout",
     "output_type": "stream",
     "text": [
      "True\n"
     ]
    }
   ],
   "source": [
    "print(os.path.isfile( getrootgrib(year,month,day,roottime,FH) ))"
   ]
  },
  {
   "cell_type": "code",
   "execution_count": 3,
   "metadata": {},
   "outputs": [],
   "source": [
    "grbs = getgrib(year,month,day,roottime,FH)\n",
    "latlons = grbs"
   ]
  },
  {
   "cell_type": "code",
   "execution_count": 4,
   "metadata": {},
   "outputs": [
    {
     "name": "stdout",
     "output_type": "stream",
     "text": [
      "True\n"
     ]
    }
   ],
   "source": [
    "print(os.path.isfile( getrootgrib(year,month,day,roottime,FH) ))"
   ]
  },
  {
   "cell_type": "code",
   "execution_count": 5,
   "metadata": {},
   "outputs": [
    {
     "name": "stdout",
     "output_type": "stream",
     "text": [
      "1:Pressure reduced to MSL:Pa (instant):regular_ll:meanSea:level 0:fcst time 34 hrs:from 201904220000\n",
      "2:Surface pressure:Pa (instant):regular_ll:surface:level 0:fcst time 34 hrs:from 201904220000\n",
      "3:10 metre U wind component:m s**-1 (instant):regular_ll:heightAboveGround:level 10 m:fcst time 34 hrs:from 201904220000\n",
      "4:10 metre V wind component:m s**-1 (instant):regular_ll:heightAboveGround:level 10 m:fcst time 34 hrs:from 201904220000\n",
      "5:Temperature:K (instant):regular_ll:heightAboveGround:level 1.5 m:fcst time 34 hrs:from 201904220000\n",
      "6:Relative humidity:% (instant):regular_ll:heightAboveGround:level 1.5 m:fcst time 34 hrs:from 201904220000\n",
      "7:Low cloud cover:% (instant):regular_ll:surface:level 0:fcst time 34 hrs:from 201904220000\n",
      "8:Medium cloud cover:% (instant):regular_ll:surface:level 0:fcst time 34 hrs:from 201904220000\n",
      "9:High cloud cover:% (instant):regular_ll:surface:level 0:fcst time 34 hrs:from 201904220000\n",
      "10:Total cloud cover:% (instant):regular_ll:surface:level 0:fcst time 34 hrs:from 201904220000\n",
      "11:Total precipitation:kg m-2 (accum):regular_ll:surface:level 0:fcst time 33-34 hrs (accum):from 201904220000\n",
      "12:Downward short-wave radiation flux:W m**-2 (avg):regular_ll:surface:level 0:fcst time 33-34 hrs (avg):from 201904220000\n",
      "13:Pressure reduced to MSL:Pa (instant):regular_ll:meanSea:level 0:fcst time 35 hrs:from 201904220000\n",
      "14:Surface pressure:Pa (instant):regular_ll:surface:level 0:fcst time 35 hrs:from 201904220000\n",
      "15:10 metre U wind component:m s**-1 (instant):regular_ll:heightAboveGround:level 10 m:fcst time 35 hrs:from 201904220000\n",
      "16:10 metre V wind component:m s**-1 (instant):regular_ll:heightAboveGround:level 10 m:fcst time 35 hrs:from 201904220000\n",
      "17:Temperature:K (instant):regular_ll:heightAboveGround:level 1.5 m:fcst time 35 hrs:from 201904220000\n",
      "18:Relative humidity:% (instant):regular_ll:heightAboveGround:level 1.5 m:fcst time 35 hrs:from 201904220000\n",
      "19:Low cloud cover:% (instant):regular_ll:surface:level 0:fcst time 35 hrs:from 201904220000\n",
      "20:Medium cloud cover:% (instant):regular_ll:surface:level 0:fcst time 35 hrs:from 201904220000\n",
      "21:High cloud cover:% (instant):regular_ll:surface:level 0:fcst time 35 hrs:from 201904220000\n",
      "22:Total cloud cover:% (instant):regular_ll:surface:level 0:fcst time 35 hrs:from 201904220000\n",
      "23:Total precipitation:kg m-2 (accum):regular_ll:surface:level 0:fcst time 34-35 hrs (accum):from 201904220000\n",
      "24:Downward short-wave radiation flux:W m**-2 (avg):regular_ll:surface:level 0:fcst time 34-35 hrs (avg):from 201904220000\n",
      "25:Pressure reduced to MSL:Pa (instant):regular_ll:meanSea:level 0:fcst time 36 hrs:from 201904220000\n",
      "26:Surface pressure:Pa (instant):regular_ll:surface:level 0:fcst time 36 hrs:from 201904220000\n",
      "27:10 metre U wind component:m s**-1 (instant):regular_ll:heightAboveGround:level 10 m:fcst time 36 hrs:from 201904220000\n",
      "28:10 metre V wind component:m s**-1 (instant):regular_ll:heightAboveGround:level 10 m:fcst time 36 hrs:from 201904220000\n",
      "29:Temperature:K (instant):regular_ll:heightAboveGround:level 1.5 m:fcst time 36 hrs:from 201904220000\n",
      "30:Relative humidity:% (instant):regular_ll:heightAboveGround:level 1.5 m:fcst time 36 hrs:from 201904220000\n",
      "31:Low cloud cover:% (instant):regular_ll:surface:level 0:fcst time 36 hrs:from 201904220000\n",
      "32:Medium cloud cover:% (instant):regular_ll:surface:level 0:fcst time 36 hrs:from 201904220000\n",
      "33:High cloud cover:% (instant):regular_ll:surface:level 0:fcst time 36 hrs:from 201904220000\n",
      "34:Total cloud cover:% (instant):regular_ll:surface:level 0:fcst time 36 hrs:from 201904220000\n",
      "35:Total precipitation:kg m-2 (accum):regular_ll:surface:level 0:fcst time 35-36 hrs (accum):from 201904220000\n",
      "36:Downward short-wave radiation flux:W m**-2 (avg):regular_ll:surface:level 0:fcst time 35-36 hrs (avg):from 201904220000\n",
      "37:Pressure reduced to MSL:Pa (instant):regular_ll:meanSea:level 0:fcst time 37 hrs:from 201904220000\n",
      "38:Surface pressure:Pa (instant):regular_ll:surface:level 0:fcst time 37 hrs:from 201904220000\n",
      "39:10 metre U wind component:m s**-1 (instant):regular_ll:heightAboveGround:level 10 m:fcst time 37 hrs:from 201904220000\n",
      "40:10 metre V wind component:m s**-1 (instant):regular_ll:heightAboveGround:level 10 m:fcst time 37 hrs:from 201904220000\n",
      "41:Temperature:K (instant):regular_ll:heightAboveGround:level 1.5 m:fcst time 37 hrs:from 201904220000\n",
      "42:Relative humidity:% (instant):regular_ll:heightAboveGround:level 1.5 m:fcst time 37 hrs:from 201904220000\n",
      "43:Low cloud cover:% (instant):regular_ll:surface:level 0:fcst time 37 hrs:from 201904220000\n",
      "44:Medium cloud cover:% (instant):regular_ll:surface:level 0:fcst time 37 hrs:from 201904220000\n",
      "45:High cloud cover:% (instant):regular_ll:surface:level 0:fcst time 37 hrs:from 201904220000\n",
      "46:Total cloud cover:% (instant):regular_ll:surface:level 0:fcst time 37 hrs:from 201904220000\n",
      "47:Total precipitation:kg m-2 (accum):regular_ll:surface:level 0:fcst time 36-37 hrs (accum):from 201904220000\n",
      "48:Downward short-wave radiation flux:W m**-2 (avg):regular_ll:surface:level 0:fcst time 36-37 hrs (avg):from 201904220000\n",
      "49:Pressure reduced to MSL:Pa (instant):regular_ll:meanSea:level 0:fcst time 38 hrs:from 201904220000\n",
      "50:Surface pressure:Pa (instant):regular_ll:surface:level 0:fcst time 38 hrs:from 201904220000\n",
      "51:10 metre U wind component:m s**-1 (instant):regular_ll:heightAboveGround:level 10 m:fcst time 38 hrs:from 201904220000\n",
      "52:10 metre V wind component:m s**-1 (instant):regular_ll:heightAboveGround:level 10 m:fcst time 38 hrs:from 201904220000\n",
      "53:Temperature:K (instant):regular_ll:heightAboveGround:level 1.5 m:fcst time 38 hrs:from 201904220000\n",
      "54:Relative humidity:% (instant):regular_ll:heightAboveGround:level 1.5 m:fcst time 38 hrs:from 201904220000\n",
      "55:Low cloud cover:% (instant):regular_ll:surface:level 0:fcst time 38 hrs:from 201904220000\n",
      "56:Medium cloud cover:% (instant):regular_ll:surface:level 0:fcst time 38 hrs:from 201904220000\n",
      "57:High cloud cover:% (instant):regular_ll:surface:level 0:fcst time 38 hrs:from 201904220000\n",
      "58:Total cloud cover:% (instant):regular_ll:surface:level 0:fcst time 38 hrs:from 201904220000\n",
      "59:Total precipitation:kg m-2 (accum):regular_ll:surface:level 0:fcst time 37-38 hrs (accum):from 201904220000\n",
      "60:Downward short-wave radiation flux:W m**-2 (avg):regular_ll:surface:level 0:fcst time 37-38 hrs (avg):from 201904220000\n",
      "61:Pressure reduced to MSL:Pa (instant):regular_ll:meanSea:level 0:fcst time 39 hrs:from 201904220000\n",
      "62:Surface pressure:Pa (instant):regular_ll:surface:level 0:fcst time 39 hrs:from 201904220000\n",
      "63:10 metre U wind component:m s**-1 (instant):regular_ll:heightAboveGround:level 10 m:fcst time 39 hrs:from 201904220000\n",
      "64:10 metre V wind component:m s**-1 (instant):regular_ll:heightAboveGround:level 10 m:fcst time 39 hrs:from 201904220000\n",
      "65:Temperature:K (instant):regular_ll:heightAboveGround:level 1.5 m:fcst time 39 hrs:from 201904220000\n",
      "66:Relative humidity:% (instant):regular_ll:heightAboveGround:level 1.5 m:fcst time 39 hrs:from 201904220000\n",
      "67:Low cloud cover:% (instant):regular_ll:surface:level 0:fcst time 39 hrs:from 201904220000\n",
      "68:Medium cloud cover:% (instant):regular_ll:surface:level 0:fcst time 39 hrs:from 201904220000\n",
      "69:High cloud cover:% (instant):regular_ll:surface:level 0:fcst time 39 hrs:from 201904220000\n",
      "70:Total cloud cover:% (instant):regular_ll:surface:level 0:fcst time 39 hrs:from 201904220000\n",
      "71:Total precipitation:kg m-2 (accum):regular_ll:surface:level 0:fcst time 38-39 hrs (accum):from 201904220000\n",
      "72:Downward short-wave radiation flux:W m**-2 (avg):regular_ll:surface:level 0:fcst time 38-39 hrs (avg):from 201904220000\n"
     ]
    }
   ],
   "source": [
    "#check parameters in gribfile\n",
    "grb_1 = grbs.select(name='Pressure reduced to MSL')[0]\n",
    "\n",
    "# lats,lonsは二次元配列で緯度経度が入っている\n",
    "lats, lons = grb_1.latlons()\n",
    "\n",
    "#一次元に変換\n",
    "# 二次元のままでは描画できない\n",
    "# 2次元の格子点を1次元配列にならす\n",
    "flat_lats= np.ravel(lats)\n",
    "flat_lons= np.ravel(lons)\n",
    "\n",
    "pd_rad= {'lons':flat_lons, 'lats':flat_lats}\n",
    "pd_Uwind= {'lons':flat_lons, 'lats':flat_lats}\n",
    "pd_Vwind= {'lons':flat_lons, 'lats':flat_lats}\n",
    "pd_temp= {'lons':flat_lons, 'lats':flat_lats}\n",
    "\n",
    "i,j,k,l =0,0,0,0\n",
    "\n",
    "for grb in grbs:\n",
    "    print(grb)\n",
    "    \n",
    "    if grb.name == \"Downward short-wave radiation flux\":\n",
    "        radiation = grb.values\n",
    "        flat_radiation = np.ravel(radiation)\n",
    "        pd_name=\"radiation FH\"+str(i+34)+\"-\"+str(i+35)+\"W/m2(avg)\"\n",
    "        pd_rad[pd_name]=flat_radiation\n",
    "        i=i+1\n",
    "\n",
    "    elif grb.name == \"10 metre U wind component\":\n",
    "        Uwind = grb.values\n",
    "        flat_Uwind = np.ravel(Uwind)\n",
    "        pd_name=\"Uwind FH\"+str(j+34)+\"m/s\"\n",
    "        pd_Uwind[pd_name]=flat_Uwind\n",
    "        j=j+1\n",
    "\n",
    "    elif grb.name == \"10 metre V wind component\":\n",
    "        Vwind = grb.values\n",
    "        flat_Vwind = np.ravel(Vwind)\n",
    "        pd_name=\"Vwind FH\"+str(k+34)+\"m/s\"\n",
    "        pd_Vwind[pd_name]=flat_Vwind\n",
    "        k=k+1\n",
    "\n",
    "    elif grb.name == \"Temperature\":\n",
    "        temperature = grb.values\n",
    "        #華氏を摂氏に変換\n",
    "        flat_temperature= np.ravel(temperature)\n",
    "        flat_temperature=flat_temperature-273.115\n",
    "        pd_name=\"temperature FH\"+str(l+34)\n",
    "        pd_temp[pd_name]=flat_temperature\n",
    "        l=l+1"
   ]
  },
  {
   "cell_type": "code",
   "execution_count": 6,
   "metadata": {},
   "outputs": [],
   "source": [
    "#緯度経度の範囲を選択\n",
    "east_lon=130.438\n",
    "west_lon= 130.437\n",
    "north_lat=33.555\n",
    "south_lat=33.550"
   ]
  },
  {
   "cell_type": "code",
   "execution_count": 7,
   "metadata": {},
   "outputs": [],
   "source": [
    "#range adjust\n",
    "def range_ajust(east_lon,west_lon,north_lat,south_lat,df_all):\n",
    "    df=df_all[df_all['lons'] > west_lon]\n",
    "    df=df[df['lons'] < east_lon]\n",
    "\n",
    "    df=df[df['lats'] > south_lat]\n",
    "    df=df[df['lats'] < north_lat]\n",
    "    return df\n",
    "\n"
   ]
  },
  {
   "cell_type": "markdown",
   "metadata": {},
   "source": [
    "## Select parameter temperature, Uwind, Vwind, radiation"
   ]
  },
  {
   "cell_type": "code",
   "execution_count": 8,
   "metadata": {},
   "outputs": [
    {
     "name": "stdout",
     "output_type": "stream",
     "text": [
      "1\n"
     ]
    },
    {
     "data": {
      "text/html": [
       "<div>\n",
       "<style scoped>\n",
       "    .dataframe tbody tr th:only-of-type {\n",
       "        vertical-align: middle;\n",
       "    }\n",
       "\n",
       "    .dataframe tbody tr th {\n",
       "        vertical-align: top;\n",
       "    }\n",
       "\n",
       "    .dataframe thead th {\n",
       "        text-align: right;\n",
       "    }\n",
       "</style>\n",
       "<table border=\"1\" class=\"dataframe\">\n",
       "  <thead>\n",
       "    <tr style=\"text-align: right;\">\n",
       "      <th></th>\n",
       "      <th>lons</th>\n",
       "      <th>lats</th>\n",
       "      <th>Uwind FH34m/s</th>\n",
       "      <th>Uwind FH35m/s</th>\n",
       "      <th>Uwind FH36m/s</th>\n",
       "      <th>Uwind FH37m/s</th>\n",
       "      <th>Uwind FH38m/s</th>\n",
       "      <th>Uwind FH39m/s</th>\n",
       "    </tr>\n",
       "  </thead>\n",
       "  <tbody>\n",
       "    <tr>\n",
       "      <th>135328</th>\n",
       "      <td>130.44</td>\n",
       "      <td>33.55</td>\n",
       "      <td>-0.23</td>\n",
       "      <td>-0.34</td>\n",
       "      <td>-0.09</td>\n",
       "      <td>-1.07</td>\n",
       "      <td>-1.38</td>\n",
       "      <td>-1.73</td>\n",
       "    </tr>\n",
       "  </tbody>\n",
       "</table>\n",
       "</div>"
      ],
      "text/plain": [
       "          lons   lats  Uwind FH34m/s  Uwind FH35m/s  Uwind FH36m/s  \\\n",
       "135328  130.44  33.55          -0.23          -0.34          -0.09   \n",
       "\n",
       "        Uwind FH37m/s  Uwind FH38m/s  Uwind FH39m/s  \n",
       "135328          -1.07          -1.38          -1.73  "
      ]
     },
     "execution_count": 8,
     "metadata": {},
     "output_type": "execute_result"
    }
   ],
   "source": [
    "########################\n",
    "df_para = \"Uwind\"\n",
    "########################\n",
    "\n",
    "if df_para == \"temperature\":\n",
    "    df_input=pd.DataFrame(pd_temp)\n",
    "\n",
    "elif df_para == \"Uwind\":\n",
    "    df_input=pd.DataFrame(pd_Uwind)\n",
    "   \n",
    "elif df_para == \"Vwind\":\n",
    "    df_input=pd.DataFrame(pd_Vwind)\n",
    "    \n",
    "elif df_para == \"radiation\":\n",
    "    df_input=pd.DataFrame(pd_rad)\n",
    "    \n",
    "\n",
    "\n",
    "df = range_ajust(east_lon,west_lon,north_lat,south_lat,df_input)\n",
    "map_lat=df['lats'].values\n",
    "map_lon=df['lons'].values\n",
    "df = np.round(df,2)\n",
    "print(len(df))\n",
    "df[:10]"
   ]
  },
  {
   "cell_type": "code",
   "execution_count": 9,
   "metadata": {},
   "outputs": [],
   "source": [
    "FH34=df.iloc[:,2].values\n",
    "FH35=df.iloc[:,3].values\n",
    "FH36=df.iloc[:,4].values\n",
    "FH37=df.iloc[:,5].values\n",
    "FH38=df.iloc[:,6].values\n",
    "FH39=df.iloc[:,7].values"
   ]
  },
  {
   "cell_type": "code",
   "execution_count": 10,
   "metadata": {},
   "outputs": [
    {
     "data": {
      "text/html": [
       "<div style=\"width:100%;\"><div style=\"position:relative;width:100%;height:0;padding-bottom:60%;\"><iframe src=\"data:text/html;charset=utf-8;base64,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\" style=\"position:absolute;width:100%;height:100%;left:0;top:0;border:none !important;\" allowfullscreen webkitallowfullscreen mozallowfullscreen></iframe></div></div>"
      ],
      "text/plain": [
       "<folium.folium.Map at 0x7fb19b99df98>"
      ]
     },
     "execution_count": 10,
     "metadata": {},
     "output_type": "execute_result"
    }
   ],
   "source": [
    "from folium import plugins\n",
    "\n",
    "#lat-long of focus area and zoom start\n",
    "map = folium.Map([33.518022,130.471583], zoom_start=12)\n",
    "\n",
    "# Mapbox makes some nice map tiles,\n",
    "# Stamen also produce some cool map tiles which typically work at all zoom levels.\n",
    "tile = folium.TileLayer('Stamen Terrain').add_to(map)\n",
    "\n",
    "#adding marker and popup of temperature\n",
    "for i in range(0,len(map_lat)):\n",
    "    \n",
    "    icon_number = plugins.BeautifyIcon(\n",
    "    border_color='#00ABDC',\n",
    "    text_color='#00ABDC',\n",
    "    border_width=2,\n",
    "    number=str(int(FH34[i])),\n",
    "    inner_icon_style='margin-top:0;')\n",
    "    \n",
    "    folium.Marker(location=[float(map_lat[i])  ,float(map_lon[i])],\\\n",
    "                  popup=\"___\"+df_para+\"___\"+\"\\n\"\\\n",
    "                          +\"__lat= \"+str(map_lat[i])+\"__\\n\"\\\n",
    "                          +\"__lon= \"+str(map_lon[i])+\"__\\n\"\\\n",
    "                          +\"__FH34 = \"+str(FH34[i])+\"__\\n\"\\\n",
    "                          +\"__FH35 = \"+str(FH35[i])+\"__\\n\"\\\n",
    "                          +\"__FH36 = \"+str(FH36[i])+\"__\\n\"\\\n",
    "                          +\"__FH37 = \"+str(FH37[i])+\"__\\n\"\\\n",
    "                          +\"__FH38 = \"+str(FH38[i])+\"__\\n\"\\\n",
    "                          +\"__FH39 = \"+str(FH39[i])+\"__\\n\",\\\n",
    "                 icon=icon_number).add_to(map)\n",
    "    \n",
    "#we can change tiles with help of LayerConrol\n",
    "folium.LayerControl().add_to(map)\n",
    "\n",
    "#Adding mouse position\n",
    "formatter = \"function(num) {return L.Util.formatNum(num, 3) + ' º ';};\"\n",
    "\n",
    "folium.plugins.MousePosition(\n",
    "    position='topright',\n",
    "    separator=' | ',\n",
    "    empty_string='NaN',\n",
    "    lng_first=True,\n",
    "    num_digits=20,\n",
    "    prefix='Coordinates:',\n",
    "    lat_formatter=formatter,\n",
    "    lng_formatter=formatter\n",
    ").add_to(map)\n",
    "\n",
    "map_name=\"Output_MAP/\"+\"FH_\"+FH+\"_\"+df_para+\"_Map_\" + year + \"_\" + month + \"_\" + day+ \"_\" + roottime+\".html\"\n",
    "csv_name=\"Output_CSV/\"+\"FH_\"+FH+\"_\"+df_para + year + \"_\" + month + \"_\" + day+ \"_\" + roottime+\".csv\"\n",
    "\n",
    "df.to_csv(csv_name, encoding='utf-8', index=False)\n",
    "map.save(outfile=map_name)\n",
    "\n",
    "map"
   ]
  },
  {
   "cell_type": "code",
   "execution_count": 11,
   "metadata": {},
   "outputs": [
    {
     "name": "stdout",
     "output_type": "stream",
     "text": [
      "elapsed_time:1.1026828289031982\n"
     ]
    }
   ],
   "source": [
    "elapsed_time = time.time() - start\n",
    "\n",
    "print(\"elapsed_time:{0}\".format(elapsed_time))"
   ]
  },
  {
   "cell_type": "code",
   "execution_count": null,
   "metadata": {},
   "outputs": [],
   "source": []
  }
 ],
 "metadata": {
  "kernelspec": {
   "display_name": "Python 3",
   "language": "python",
   "name": "python3"
  },
  "language_info": {
   "codemirror_mode": {
    "name": "ipython",
    "version": 3
   },
   "file_extension": ".py",
   "mimetype": "text/x-python",
   "name": "python",
   "nbconvert_exporter": "python",
   "pygments_lexer": "ipython3",
   "version": "3.7.1"
  }
 },
 "nbformat": 4,
 "nbformat_minor": 2
}
