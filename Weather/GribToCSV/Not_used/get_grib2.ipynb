{
 "cells": [
  {
   "cell_type": "code",
   "execution_count": 1,
   "metadata": {},
   "outputs": [],
   "source": [
    "from mpl_toolkits.basemap import Basemap  # import Basemap matplotlib toolkit\n",
    "import numpy as np\n",
    "import matplotlib.pyplot as plt\n",
    "import pygrib # import pygrib interface to grib_api\n",
    "import pandas as pd\n",
    "import os\n",
    "import sys\n",
    "import math\n",
    "import folium\n",
    "import csv \n",
    "\n",
    "%matplotlib inline\n",
    "\n",
    "root = os.getcwd()\n",
    "root_data = root + \"/grib_data\"\n",
    "root_URL = \"http://database.rish.kyoto-u.ac.jp/arch/jmadata/data/gpv/original/\"\n",
    "year = \"2018\"\n",
    "month = \"01\"\n",
    "day = \"01\"\n",
    "\n",
    "def getgrib(year,month,day):\n",
    "    file_name = \"Z__C_RJTD_\"+str(year+month+day)+\"000000_MSM_GPV_Rjp_Lsurf_FH00-15_grib2.bin\"\n",
    "    file_url = root_URL\\\n",
    "                +str(year + \"/\" + month + \"/\" + day +\"/\" )\\\n",
    "                +file_name\n",
    "    root_file= \"grib_data/\"+file_name\n",
    "    if os.path.isfile(root_file) == False:\n",
    "            command = \"wget -P grib_data/ \"+ file_url\n",
    "            os.system(command)\n",
    "\n",
    "    getgrib_output = pygrib.open(root_file)\n",
    "    return getgrib_output\n",
    "\n",
    "def getrootgrib(year,month,day):\n",
    "    file_name = \"Z__C_RJTD_\"+str(year+month+day)+\"000000_MSM_GPV_Rjp_Lsurf_FH00-15_grib2.bin\"    \n",
    "    return \"grib_data/\"+file_name"
   ]
  },
  {
   "cell_type": "code",
   "execution_count": 2,
   "metadata": {},
   "outputs": [
    {
     "name": "stdout",
     "output_type": "stream",
     "text": [
      "False\n"
     ]
    }
   ],
   "source": [
    "print(os.path.isfile( getrootgrib(year,month,day) ))"
   ]
  },
  {
   "cell_type": "code",
   "execution_count": 3,
   "metadata": {},
   "outputs": [
    {
     "ename": "OSError",
     "evalue": "[Errno could not open %s] grib_data/Z__C_RJTD_20180101000000_MSM_GPV_Rjp_Lsurf_FH00-15_grib2.bin",
     "output_type": "error",
     "traceback": [
      "\u001b[0;31m---------------------------------------------------------------------------\u001b[0m",
      "\u001b[0;31mOSError\u001b[0m                                   Traceback (most recent call last)",
      "\u001b[0;32m<ipython-input-3-c045f64500f8>\u001b[0m in \u001b[0;36m<module>\u001b[0;34m\u001b[0m\n\u001b[0;32m----> 1\u001b[0;31m \u001b[0mgrbs\u001b[0m \u001b[0;34m=\u001b[0m \u001b[0mgetgrib\u001b[0m\u001b[0;34m(\u001b[0m\u001b[0myear\u001b[0m\u001b[0;34m,\u001b[0m\u001b[0mmonth\u001b[0m\u001b[0;34m,\u001b[0m\u001b[0mday\u001b[0m\u001b[0;34m)\u001b[0m\u001b[0;34m\u001b[0m\u001b[0;34m\u001b[0m\u001b[0m\n\u001b[0m",
      "\u001b[0;32m<ipython-input-1-4db379beed97>\u001b[0m in \u001b[0;36mgetgrib\u001b[0;34m(year, month, day)\u001b[0m\n\u001b[1;32m     29\u001b[0m             \u001b[0mos\u001b[0m\u001b[0;34m.\u001b[0m\u001b[0msystem\u001b[0m\u001b[0;34m(\u001b[0m\u001b[0mcommand\u001b[0m\u001b[0;34m)\u001b[0m\u001b[0;34m\u001b[0m\u001b[0;34m\u001b[0m\u001b[0m\n\u001b[1;32m     30\u001b[0m \u001b[0;34m\u001b[0m\u001b[0m\n\u001b[0;32m---> 31\u001b[0;31m     \u001b[0mgetgrib_output\u001b[0m \u001b[0;34m=\u001b[0m \u001b[0mpygrib\u001b[0m\u001b[0;34m.\u001b[0m\u001b[0mopen\u001b[0m\u001b[0;34m(\u001b[0m\u001b[0mroot_file\u001b[0m\u001b[0;34m)\u001b[0m\u001b[0;34m\u001b[0m\u001b[0;34m\u001b[0m\u001b[0m\n\u001b[0m\u001b[1;32m     32\u001b[0m     \u001b[0;32mreturn\u001b[0m \u001b[0mgetgrib_output\u001b[0m\u001b[0;34m\u001b[0m\u001b[0;34m\u001b[0m\u001b[0m\n\u001b[1;32m     33\u001b[0m \u001b[0;34m\u001b[0m\u001b[0m\n",
      "\u001b[0;32mpygrib.pyx\u001b[0m in \u001b[0;36mpygrib.open.__cinit__\u001b[0;34m()\u001b[0m\n",
      "\u001b[0;31mOSError\u001b[0m: [Errno could not open %s] grib_data/Z__C_RJTD_20180101000000_MSM_GPV_Rjp_Lsurf_FH00-15_grib2.bin"
     ]
    }
   ],
   "source": [
    "grbs = getgrib(year,month,day)"
   ]
  },
  {
   "cell_type": "code",
   "execution_count": null,
   "metadata": {},
   "outputs": [],
   "source": [
    "print(os.path.isfile( getrootgrib(year,month,day) ))"
   ]
  },
  {
   "cell_type": "code",
   "execution_count": null,
   "metadata": {
    "scrolled": false
   },
   "outputs": [],
   "source": [
    "#check parameters in gribfile\n",
    "for grb in grbs:\n",
    "    print(grb)"
   ]
  },
  {
   "cell_type": "code",
   "execution_count": null,
   "metadata": {},
   "outputs": [],
   "source": [
    "# lats,lonsは二次元配列で緯度経度が入っている\n",
    "lats, lons = grb.latlons()\n",
    "\n",
    "#一次元に変換\n",
    "# 二次元のままでは描画できない\n",
    "# 2次元の格子点を1次元配列にならす\n",
    "flat_lats= np.ravel(lats)\n",
    "flat_lons= np.ravel(lons)\n",
    "\n",
    "pd_all= {'lons':flat_lons, 'lats':flat_lats}\n",
    "\n",
    "#ID 27 is Temperature:K (instant):regular_ll:heightAboveGround:level 1.5 m:fcst time 2 hrs:from 201801010000\n",
    "# selectメソッドで指定した要素(forecastTime=0)にマッチする要素の配列が返ってくる。\n",
    "# forecastTime=0の要素は複数あるが先頭([0])はTempratureが入っている\n",
    "\n",
    "for i in range(0,6):\n",
    "    grb = grbs.select(forecastTime=i)[5]\n",
    "    # 中に含まれているデータ(temprature)を二次元のndarrayで取り出す\n",
    "    temperature = grb.values\n",
    "    #華氏を摂氏に変換\n",
    "    flat_temperature= (np.ravel(temperature)-32)/1.8\n",
    "    pd_name=\"temperature FH\"+str(i)\n",
    "    pd_all[pd_name]=flat_temperature\n",
    "    \n",
    "df_all= pd.DataFrame(pd_all)\n",
    "print(len(df_all))\n",
    "df_all[:10]"
   ]
  },
  {
   "cell_type": "code",
   "execution_count": null,
   "metadata": {},
   "outputs": [],
   "source": [
    "#緯度経度の範囲を選択\n",
    "east_lon=131.775\n",
    "west_lon=130.0\n",
    "north_lat=34\n",
    "south_lat=33.0"
   ]
  },
  {
   "cell_type": "code",
   "execution_count": null,
   "metadata": {},
   "outputs": [],
   "source": [
    "#range adjust\n",
    "df=df_all[df_all['lons'] > west_lon]\n",
    "df=df[df['lons'] < east_lon]\n",
    "\n",
    "df=df[df['lats'] > south_lat]\n",
    "df=df[df['lats'] < north_lat]\n",
    "print(len(df))\n",
    "df[:10]"
   ]
  },
  {
   "cell_type": "code",
   "execution_count": null,
   "metadata": {},
   "outputs": [],
   "source": [
    "map_lat=df['lats'].values\n",
    "map_lon=df['lons'].values\n",
    "FH0=np.round(df['temperature FH0'].values,2)\n",
    "FH1=np.round(df['temperature FH1'].values,2)\n",
    "FH2=np.round(df['temperature FH2'].values,2)\n",
    "FH3=np.round(df['temperature FH3'].values,2)\n",
    "FH4=np.round(df['temperature FH4'].values,2)\n",
    "FH5=np.round(df['temperature FH5'].values,2)"
   ]
  },
  {
   "cell_type": "code",
   "execution_count": null,
   "metadata": {},
   "outputs": [],
   "source": [
    "from folium import plugins\n",
    "#lat-long of focus area and zoom start\n",
    "map = folium.Map([33.518022,130.471583], zoom_start=12)\n",
    "\n",
    "# Mapbox makes some nice map tiles,\n",
    "# Stamen also produce some cool map tiles which typically work at all zoom levels.\n",
    "tile = folium.TileLayer('Stamen Terrain').add_to(map)\n",
    "\n",
    "#adding marker and popup of temperature\n",
    "for i in range(0,len(map_lat)):\n",
    "    \n",
    "    icon_number = plugins.BeautifyIcon(\n",
    "    border_color='#00ABDC',\n",
    "    text_color='#00ABDC',\n",
    "    border_width=2,\n",
    "    number=str(int(FH0[i])),\n",
    "    inner_icon_style='margin-top:0;')\n",
    "    \n",
    "    folium.Marker(location=[float(map_lat[i])  ,float(map_lon[i])],\\\n",
    "                  popup=\"___temperature___\"+\"\\n\"\\\n",
    "                          +\"__FH0= \"+str(FH0[i])+\"__\\n\"\\\n",
    "                          +\"__FH1 = \"+str(FH1[i])+\"\\__n\"\\\n",
    "                          +\"__FH2 = \"+str(FH2[i])+\"\\__n\"\\\n",
    "                          +\"__FH3 = \"+str(FH3[i])+\"\\__n\"\\\n",
    "                          +\"__FH4 = \"+str(FH4[i])+\"\\__n\"\\\n",
    "                          +\"__FH5 = \"+str(FH5[i])+\"\\__n\",\\\n",
    "                 icon=icon_number).add_to(map)\n",
    "    \n",
    "#we can change tiles with help of LayerConrol\n",
    "folium.LayerControl().add_to(map)\n",
    "\n",
    "map_name=\"FH_Temperature Map: \" + year + \"/\" + month + \"/\" + day\n",
    "map.save(outfile=\"map_name\")\n",
    "map"
   ]
  },
  {
   "cell_type": "code",
   "execution_count": null,
   "metadata": {},
   "outputs": [],
   "source": []
  }
 ],
 "metadata": {
  "kernelspec": {
   "display_name": "Python 3",
   "language": "python",
   "name": "python3"
  },
  "language_info": {
   "codemirror_mode": {
    "name": "ipython",
    "version": 3
   },
   "file_extension": ".py",
   "mimetype": "text/x-python",
   "name": "python",
   "nbconvert_exporter": "python",
   "pygments_lexer": "ipython3",
   "version": "3.7.1"
  }
 },
 "nbformat": 4,
 "nbformat_minor": 2
}
