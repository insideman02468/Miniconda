{
 "cells": [
  {
   "cell_type": "code",
   "execution_count": 1,
   "metadata": {
    "slideshow": {
     "slide_type": "skip"
    }
   },
   "outputs": [
    {
     "name": "stdout",
     "output_type": "stream",
     "text": [
      "Populating the interactive namespace from numpy and matplotlib\n"
     ]
    }
   ],
   "source": [
    "import pandas as pd\n",
    "import numpy as np\n",
    "import datetime\n",
    "import math\n",
    "import os\n",
    "import matplotlib.pyplot as plt\n",
    "from pylab import rcParams\n",
    "\n",
    "plt.style.use('ggplot')\n",
    "%pylab inline --no-import-all"
   ]
  },
  {
   "cell_type": "code",
   "execution_count": 2,
   "metadata": {
    "slideshow": {
     "slide_type": "skip"
    }
   },
   "outputs": [
    {
     "data": {
      "text/plain": [
       "'/home/yuichiro/Miniconda/Weather/GribToCSV/Visualization'"
      ]
     },
     "execution_count": 2,
     "metadata": {},
     "output_type": "execute_result"
    }
   ],
   "source": [
    "pwd()"
   ]
  },
  {
   "cell_type": "code",
   "execution_count": 4,
   "metadata": {
    "slideshow": {
     "slide_type": "skip"
    }
   },
   "outputs": [],
   "source": [
    "year=\"2019\"\n",
    "month=\"04\"\n",
    "day=15\n",
    "time=\"000000\"\n",
    "duration=7\n",
    "def getfile(year,month,day,time):\n",
    "    file_name = \"Weather_data/PV_result_forecast\"+str(year+month+day+time)+\".csv\"    \n",
    "    return file_name"
   ]
  },
  {
   "cell_type": "code",
   "execution_count": 5,
   "metadata": {
    "slideshow": {
     "slide_type": "skip"
    }
   },
   "outputs": [
    {
     "name": "stdout",
     "output_type": "stream",
     "text": [
      "True\n"
     ]
    }
   ],
   "source": [
    "print(os.path.isfile( getfile(year,month,str(day),time) ))\n",
    "#input_data1 = input_data1[['DateTime','wind_10m[m/s]', 'temperature','Tc(the PV cell temperature)[°C]','Ppv(the output of the PV array)[Wh]']].set_index(['DateTime'])"
   ]
  },
  {
   "cell_type": "code",
   "execution_count": null,
   "metadata": {
    "slideshow": {
     "slide_type": "slide"
    }
   },
   "outputs": [],
   "source": [
    "def output_wind10(year,month,day,time,duration):\n",
    "    input_data1 = pd.read_csv( getfile(year,month,str(day),time),encoding=\"SHIFT-JIS\" )\n",
    "    input_data1 = input_data1[['DateTime' ,'wind_10m[m/s]']].set_index(['DateTime'])\n",
    "    name1 = \"wind_10m_\"+str(year+month)+str(day)+str(time)\n",
    "    input_data1 = input_data1.rename(columns={'wind_10m[m/s]':name1})\n",
    "    for i in range(1,duration):\n",
    "        input_data2 = pd.read_csv( getfile(year,month,str(day+i),time),encoding=\"SHIFT-JIS\" )\n",
    "        input_data2 = input_data2[['DateTime', 'wind_10m[m/s]']].set_index(['DateTime'])\n",
    "        name2 = \"wind_10m_\"+str(year+month)+str(day+i)+str(time)\n",
    "        input_data2 = input_data2.rename(columns={'wind_10m[m/s]':name2})\n",
    "        input_data1= pd.concat([input_data1,input_data2],axis=1,sort='False')\n",
    "    return input_data1\n",
    "\n",
    "output_wind10(year,month,day,time,duration)[:5]"
   ]
  },
  {
   "cell_type": "code",
   "execution_count": null,
   "metadata": {
    "slideshow": {
     "slide_type": "slide"
    }
   },
   "outputs": [],
   "source": [
    "pd_wind = output_wind10(year,month,day,time,duration)\n",
    "\n",
    "\n",
    "pd_wind.plot(subplots=True,figsize=(20,20))\n",
    "plt.show()"
   ]
  },
  {
   "cell_type": "code",
   "execution_count": null,
   "metadata": {
    "slideshow": {
     "slide_type": "slide"
    }
   },
   "outputs": [],
   "source": [
    "#PV_result_realtime20190415000000.csv\n",
    "real_wind = pd.read_csv(\"Weather_data/PV_result_realtime20190415000000.csv\" ,encoding=\"SHIFT-JIS\" )\n",
    "real_wind = real_wind.rename(columns={'Wind Speed(10m)[m/s]':'RealTime_wind'})\n",
    "real_wind = real_wind.rename(columns={'Time':'DateTime'})\n",
    "real_wind =real_wind[['DateTime', 'RealTime_wind']].set_index(['DateTime'])\n",
    "real_wind[:3]"
   ]
  },
  {
   "cell_type": "code",
   "execution_count": null,
   "metadata": {
    "slideshow": {
     "slide_type": "skip"
    }
   },
   "outputs": [],
   "source": [
    "pd_wind= pd.concat([real_wind,pd_wind],axis=1,sort='False')"
   ]
  },
  {
   "cell_type": "code",
   "execution_count": null,
   "metadata": {
    "slideshow": {
     "slide_type": "slide"
    }
   },
   "outputs": [],
   "source": [
    "pd_wind.plot(figsize=(20,10),ylim=[0,5])\n",
    "\n",
    "plt.show()"
   ]
  },
  {
   "cell_type": "code",
   "execution_count": null,
   "metadata": {
    "slideshow": {
     "slide_type": "skip"
    }
   },
   "outputs": [],
   "source": [
    "pd_wind=pd_wind.reset_index()\n",
    "pd_wind=pd_wind.rename(columns={'index':'Date'})"
   ]
  },
  {
   "cell_type": "code",
   "execution_count": null,
   "metadata": {
    "slideshow": {
     "slide_type": "slide"
    }
   },
   "outputs": [],
   "source": [
    "pd_wind.columns.values"
   ]
  },
  {
   "cell_type": "code",
   "execution_count": null,
   "metadata": {
    "slideshow": {
     "slide_type": "slide"
    }
   },
   "outputs": [],
   "source": [
    "output2 = pd_wind[[ 'wind_10m_20190415000000', 'wind_10m_20190416000000',\\\n",
    "       'wind_10m_20190417000000', 'wind_10m_20190418000000',\\\n",
    "       'wind_10m_20190419000000', 'wind_10m_20190420000000',\\\n",
    "       'wind_10m_20190421000000']]\n",
    "\n",
    "#pd_temp2=pd_temp\n",
    "pd_wind_original=pd_wind\n",
    "output3=output2\n",
    "\n",
    "pd_wind_original"
   ]
  },
  {
   "cell_type": "code",
   "execution_count": null,
   "metadata": {
    "slideshow": {
     "slide_type": "slide"
    }
   },
   "outputs": [],
   "source": [
    "from matplotlib import cm, ticker\n",
    "import matplotlib.dates as mdates\n",
    "from matplotlib import rcParams\n",
    "rcParams.update({'figure.autolayout': True})\n",
    "\n",
    "rcParams['figure.figsize'] = 40,20\n",
    "plt.rcParams[\"font.size\"] = 40\n",
    "\n",
    "\n",
    "input1 = pd.to_datetime(pd_wind['Date'])\n",
    "output1 = pd_wind['RealTime_wind']\n",
    "\n",
    "fig = plt.figure()\n",
    "fig.set_tight_layout(False)\n",
    "ax1 = fig.add_subplot(1,1,1)\n",
    "ax1.plot(input1, output1, color='Black',linestyle='solid', linewidth = 4, label='Realtime')\n",
    "ax1.set_ylim([0, 10])\n",
    "\n",
    "#output2\n",
    "for column_name, item in output2.iteritems():\n",
    "    ax1.plot(input1, item,linestyle='--', linewidth = 8, label=column_name)\n",
    "\n",
    "ax1.set_title('Wind Speed(10m)[m/s]')\n",
    "ax1.set_xlabel('date')\n",
    "ax1.set_ylabel('Wind Speed(10m)[m/s]')\n",
    "ax1.set_xticklabels(input1,rotation=0, size=\"small\")\n",
    "\n",
    "# 軸目盛の設定\n",
    "ax1.xaxis.set_major_locator(mdates.HourLocator(interval=6))\n",
    "ax1.xaxis.set_major_formatter(mdates.DateFormatter(\"%dth %H:%M\"))\n",
    "\n",
    "# 軸目盛ラベルの回転\n",
    "labels = ax1.get_xticklabels()\n",
    "plt.setp(labels, rotation=90);\n",
    "\n",
    "# 凡例をまとめて出力する\n",
    "fig.legend(loc=\"lower right\",\n",
    "           bbox_to_anchor=(1, 0.5, 0.4, .100), \n",
    "           borderaxespad=0.,\n",
    "           ncol=1,\n",
    "           mode=\"expand\",\n",
    "           title=\"LABEL NAME\"\n",
    "          ) \n",
    "\n",
    "ax1.grid(False) #目盛のごちゃごちゃ変更"
   ]
  },
  {
   "cell_type": "code",
   "execution_count": null,
   "metadata": {
    "slideshow": {
     "slide_type": "skip"
    }
   },
   "outputs": [],
   "source": [
    "from ipywidgets import interact\n",
    "\n",
    "def figplot(select_day,size1,size2,fontsize,grid,y_range):\n",
    "    rcParams['figure.figsize'] = size1,size2\n",
    "    plt.rcParams[\"font.size\"] = fontsize\n",
    "    input1 = pd.to_datetime(pd_wind['Date'])\n",
    "    output1 = pd_wind['RealTime_wind']\n",
    "\n",
    "    fig = plt.figure(figsize=(50,30),dpi=200)\n",
    "    fig = plt.figure()\n",
    "    fig.set_tight_layout(False)\n",
    "    ax1 = fig.add_subplot(1,1,1)\n",
    "    #ax1.patch.set_facecolor('white')\n",
    "    ax1.plot(input1, output1, color='Black',linestyle='solid', linewidth = 6, label='Realtime')\n",
    "    ax1.set_ylim([0, y_range])\n",
    "\n",
    "    #output2\n",
    "    for column_name, item in output2.iteritems():\n",
    "        if column_name==select_day:\n",
    "            ax1.plot(input1, item,linestyle='--', linewidth = 12, label=column_name)\n",
    "\n",
    "    ax1.set_title('Wind Speed(10m)[m/s]')\n",
    "    ax1.set_xlabel('date')\n",
    "    ax1.set_ylabel('Wind Speed(10m)[m/s]')\n",
    "    ax1.set_xticklabels(input1,rotation=0, size=\"small\")\n",
    "\n",
    "    # 軸目盛の設定\n",
    "    ax1.xaxis.set_major_locator(mdates.HourLocator(interval=grid))\n",
    "    ax1.xaxis.set_major_formatter(mdates.DateFormatter(\"%dth %H\"))\n",
    "    \n",
    "    plt.grid(which='major', color='black',linestyle='--')\n",
    "\n",
    "    # 軸目盛ラベルの回転\n",
    "    labels = ax1.get_xticklabels()\n",
    "    plt.setp(labels, rotation=90);\n",
    "\n",
    "    # 凡例をまとめて出力する\n",
    "    fig.legend(loc=\"lower right\",\n",
    "               bbox_to_anchor=(1, 0.5, 0.4, .100), \n",
    "               borderaxespad=0.,\n",
    "               ncol=1,\n",
    "               mode=\"expand\",\n",
    "               title=\"LABEL NAME\"\n",
    "              ) \n",
    "\n",
    "    ax1.grid(True) #目盛のごちゃごちゃ変更"
   ]
  },
  {
   "cell_type": "code",
   "execution_count": null,
   "metadata": {
    "slideshow": {
     "slide_type": "slide"
    }
   },
   "outputs": [],
   "source": [
    "interact(figplot,select_day=[ 'wind_10m_20190415000000', 'wind_10m_20190416000000',\\\n",
    "       'wind_10m_20190417000000', 'wind_10m_20190418000000',\\\n",
    "       'wind_10m_20190419000000', 'wind_10m_20190420000000',\\\n",
    "       'wind_10m_20190421000000'],size1=(0,100, 1),size2=(0,50, 1),fontsize=(0,100,1),grid=(1,24,1),y_range=(1,25,1))"
   ]
  },
  {
   "cell_type": "code",
   "execution_count": null,
   "metadata": {
    "slideshow": {
     "slide_type": "skip"
    }
   },
   "outputs": [],
   "source": [
    "#reference from https://pythondatascience.plavox.info/scikit-learn/%E5%9B%9E%E5%B8%B0%E3%83%A2%E3%83%87%E3%83%AB%E3%81%AE%E8%A9%95%E4%BE%A1\n",
    "from sklearn.metrics import mean_absolute_error,mean_squared_error,r2_score,explained_variance_score\n",
    "\n",
    "def figplot_dropna(select_day,size1,size2,fontsize,grid,y_range):\n",
    "    rcParams['figure.figsize'] = size1,size2\n",
    "    plt.rcParams[\"font.size\"] = fontsize\n",
    "\n",
    "\n",
    "    fig = plt.figure(figsize=(50,30),dpi=200)\n",
    "    fig = plt.figure()\n",
    "    fig.set_tight_layout(False)\n",
    "    ax1 = fig.add_subplot(1,1,1)\n",
    "    \n",
    "    pd_wind2=pd_wind_original\n",
    "    \n",
    "    for column_name, item in output3.iteritems():\n",
    "        if column_name==select_day:\n",
    "            pd_wind3=pd.concat([pd_wind2['Date'],pd_wind2['RealTime_wind'],item],axis=1).dropna()\n",
    "            ax1.plot(pd_wind3['Date'], pd_wind3[column_name],linestyle='--', linewidth = 12, label=column_name)\n",
    "            pred_list=pd_wind3[column_name].tolist()\n",
    "            \n",
    "    #ax1.patch.set_facecolor('white')\n",
    "    ax1.plot(pd_wind3['Date'], pd_wind3['RealTime_wind'], color='Black',linestyle='solid', linewidth = 6, label='Realtime')\n",
    "    ax1.set_ylim([0, y_range])\n",
    "    \n",
    "    ax1.set_title('Wind Speed(10m)[m/s]')\n",
    "    ax1.set_xlabel('date')\n",
    "    ax1.set_ylabel('Wind Speed(10m)[m/s]')\n",
    "    ax1.set_xticklabels(input1,rotation=0, size=\"small\")\n",
    "\n",
    "    # 軸目盛の設定\n",
    "    ax1.xaxis.set_major_locator(ticker.MultipleLocator(grid))\n",
    "    plt.grid(which='major', color='black',linestyle='--')\n",
    "\n",
    "    # 軸目盛ラベルの回転\n",
    "    labels = ax1.get_xticklabels()\n",
    "    plt.setp(labels, rotation=45);\n",
    "\n",
    "    # 凡例をまとめて出力する\n",
    "    fig.legend(loc=\"lower right\",\n",
    "               bbox_to_anchor=(1, 0.5, 0.4, .100), \n",
    "               borderaxespad=0.,\n",
    "               ncol=1,\n",
    "               mode=\"expand\",\n",
    "               title=\"LABEL NAME\"\n",
    "              ) \n",
    "\n",
    "    ax1.grid(True) #目盛のごちゃごちゃ変更\n",
    "    print( 'MAE, Mean Absolute Error :', mean_absolute_error(pd_wind3['RealTime_wind'].tolist(), pred_list ) )\n",
    "    print( 'MSE, Mean Squared Error :', mean_squared_error(pd_wind3['RealTime_wind'].tolist(), pred_list ) )\n",
    "    print( 'RMSE: Root Mean Squared Error :', np.sqrt(mean_squared_error(pd_wind3['RealTime_wind'].tolist(), pred_list )) )\n",
    "    print( 'R2, R-squared, coefficient of determination :', r2_score(pd_wind3['RealTime_wind'].tolist(), pred_list ) )\n",
    "    print( 'explained_variance_score :', explained_variance_score(pd_wind3['RealTime_wind'].tolist(), pred_list ) )\n",
    "    \n",
    "    \n",
    "    explained_variance_score"
   ]
  },
  {
   "cell_type": "code",
   "execution_count": null,
   "metadata": {
    "scrolled": false,
    "slideshow": {
     "slide_type": "slide"
    }
   },
   "outputs": [],
   "source": [
    "interact(figplot_dropna,select_day=[ 'wind_10m_20190415000000', 'wind_10m_20190416000000',\\\n",
    "       'wind_10m_20190417000000', 'wind_10m_20190418000000',\\\n",
    "       'wind_10m_20190419000000', 'wind_10m_20190420000000',\\\n",
    "       'wind_10m_20190421000000'],size1=(0,100, 1),size2=(0,50, 1),fontsize=(0,100,1),grid=(1,24,1),y_range=(1,25,1))"
   ]
  },
  {
   "cell_type": "code",
   "execution_count": null,
   "metadata": {},
   "outputs": [],
   "source": []
  }
 ],
 "metadata": {
  "celltoolbar": "Slideshow",
  "kernelspec": {
   "display_name": "Python 3",
   "language": "python",
   "name": "python3"
  },
  "language_info": {
   "codemirror_mode": {
    "name": "ipython",
    "version": 3
   },
   "file_extension": ".py",
   "mimetype": "text/x-python",
   "name": "python",
   "nbconvert_exporter": "python",
   "pygments_lexer": "ipython3",
   "version": "3.7.1"
  },
  "varInspector": {
   "cols": {
    "lenName": 16,
    "lenType": 16,
    "lenVar": 40
   },
   "kernels_config": {
    "python": {
     "delete_cmd_postfix": "",
     "delete_cmd_prefix": "del ",
     "library": "var_list.py",
     "varRefreshCmd": "print(var_dic_list())"
    },
    "r": {
     "delete_cmd_postfix": ") ",
     "delete_cmd_prefix": "rm(",
     "library": "var_list.r",
     "varRefreshCmd": "cat(var_dic_list()) "
    }
   },
   "types_to_exclude": [
    "module",
    "function",
    "builtin_function_or_method",
    "instance",
    "_Feature"
   ],
   "window_display": false
  }
 },
 "nbformat": 4,
 "nbformat_minor": 2
}
