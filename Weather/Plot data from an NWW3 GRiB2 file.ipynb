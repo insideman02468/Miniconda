{
 "cells": [
  {
   "cell_type": "markdown",
   "metadata": {},
   "source": [
    "## Example 2: Plot data from an NWW3 GRiB2 file\n",
    "### This example requires that you download a GRiB2 file from either our NOMADS data server or the Production FTP Server (see our Data Access page for more information. For this exercise, I used the file multi_1.at_10m.t00z.f000.grib2 retrieved from NOMADS.This example assumes that the GRiB2 file is in the current working directory.Begin by importing the necessary modules and set up the figure"
   ]
  },
  {
   "cell_type": "code",
   "execution_count": 1,
   "metadata": {},
   "outputs": [
    {
     "ename": "ValueError",
     "evalue": "no matches found",
     "output_type": "error",
     "traceback": [
      "\u001b[0;31m---------------------------------------------------------------------------\u001b[0m",
      "\u001b[0;31mValueError\u001b[0m                                Traceback (most recent call last)",
      "\u001b[0;32m<ipython-input-1-0313610f315f>\u001b[0m in \u001b[0;36m<module>\u001b[0;34m\u001b[0m\n\u001b[1;32m     13\u001b[0m \u001b[0;31m#In this example we will extract the same significant wave height field we used in the first example.\u001b[0m\u001b[0;34m\u001b[0m\u001b[0;34m\u001b[0m\u001b[0;34m\u001b[0m\u001b[0m\n\u001b[1;32m     14\u001b[0m \u001b[0;31m#Remember that indexing in Python starts at zero.\u001b[0m\u001b[0;34m\u001b[0m\u001b[0;34m\u001b[0m\u001b[0;34m\u001b[0m\u001b[0m\n\u001b[0;32m---> 15\u001b[0;31m \u001b[0mgrb\u001b[0m \u001b[0;34m=\u001b[0m \u001b[0mgrbs\u001b[0m\u001b[0;34m.\u001b[0m\u001b[0mselect\u001b[0m\u001b[0;34m(\u001b[0m\u001b[0mname\u001b[0m\u001b[0;34m=\u001b[0m\u001b[0;34m'Significant height of wind waves'\u001b[0m\u001b[0;34m)\u001b[0m\u001b[0;34m[\u001b[0m\u001b[0;36m0\u001b[0m\u001b[0;34m]\u001b[0m\u001b[0;34m\u001b[0m\u001b[0;34m\u001b[0m\u001b[0m\n\u001b[0m\u001b[1;32m     16\u001b[0m \u001b[0mdata\u001b[0m\u001b[0;34m=\u001b[0m\u001b[0mgrb\u001b[0m\u001b[0;34m.\u001b[0m\u001b[0mvalues\u001b[0m\u001b[0;34m\u001b[0m\u001b[0;34m\u001b[0m\u001b[0m\n\u001b[1;32m     17\u001b[0m \u001b[0mlat\u001b[0m\u001b[0;34m,\u001b[0m\u001b[0mlon\u001b[0m \u001b[0;34m=\u001b[0m \u001b[0mgrb\u001b[0m\u001b[0;34m.\u001b[0m\u001b[0mlatlons\u001b[0m\u001b[0;34m(\u001b[0m\u001b[0;34m)\u001b[0m\u001b[0;34m\u001b[0m\u001b[0;34m\u001b[0m\u001b[0m\n",
      "\u001b[0;32mpygrib.pyx\u001b[0m in \u001b[0;36mpygrib.open.select\u001b[0;34m()\u001b[0m\n",
      "\u001b[0;31mValueError\u001b[0m: no matches found"
     ]
    },
    {
     "data": {
      "text/plain": [
       "<Figure size 432x288 with 0 Axes>"
      ]
     },
     "metadata": {},
     "output_type": "display_data"
    }
   ],
   "source": [
    "import numpy as np\n",
    "import pygrib\n",
    "import matplotlib.pyplot as plt\n",
    "from mpl_toolkits.basemap import Basemap\n",
    "import os\n",
    "%matplotlib inline\n",
    "\n",
    "plt.figure()\n",
    "\n",
    "os.system(\"wget -O multi_1.at_10m.t00z.f000.grib2 https://nomads.ncep.noaa.gov/pub/data/nccf/com/wave/prod/multi_1.20190325/multi_1.at_10m.t00z.f000.grib2\")\n",
    "grib='multi_1.at_10m.t00z.f000.grib2';\n",
    "grbs=pygrib.open(grib)\n",
    "#In this example we will extract the same significant wave height field we used in the first example. \n",
    "#Remember that indexing in Python starts at zero.\n",
    "grb = grbs.select(name='Significant height of wind waves')[0]\n",
    "data=grb.values\n",
    "lat,lon = grb.latlons()"
   ]
  },
  {
   "cell_type": "code",
   "execution_count": null,
   "metadata": {},
   "outputs": [],
   "source": [
    "\n",
    "#From this point on the code is almost identical to the previous example.\n",
    "#Plot the field using Basemap. Start with setting the map projection using the limits of the lat/lon data itself:\n",
    "m=Basemap(projection='mill',lat_ts=10,llcrnrlon=lon.min(), \\\n",
    "  urcrnrlon=lon.max(),llcrnrlat=lat.min(),urcrnrlat=lat.max(), \\\n",
    "  resolution='c')\n",
    "\n",
    "#Convert the lat/lon values to x/y projections.\n",
    "x, y = m(lon,lat)\n",
    "\n",
    "#Next, plot the field using the fast pcolormesh routine and set the colormap to jet.\n",
    "cs = m.pcolormesh(x,y,data,shading='flat',cmap=plt.cm.jet)\n",
    "\n",
    "#Add a coastline and axis values.\n",
    "m.drawcoastlines()\n",
    "m.fillcontinents()\n",
    "m.drawmapboundary()\n",
    "m.drawparallels(np.arange(-90.,120.,30.),labels=[1,0,0,0])\n",
    "m.drawmeridians(np.arange(-180.,180.,60.),labels=[0,0,0,1])\n",
    "\n",
    "#Add a colorbar and title, and then show the plot.\n",
    "plt.colorbar(cs,orientation='vertical')\n",
    "plt.title('Example 2: NWW3 Significant Wave Height from GRiB')\n",
    "plt.show()\n",
    "#You should see this image in your figure window: "
   ]
  },
  {
   "cell_type": "code",
   "execution_count": null,
   "metadata": {},
   "outputs": [],
   "source": [
    "cs"
   ]
  },
  {
   "cell_type": "code",
   "execution_count": null,
   "metadata": {},
   "outputs": [],
   "source": []
  }
 ],
 "metadata": {
  "kernelspec": {
   "display_name": "Python 3",
   "language": "python",
   "name": "python3"
  },
  "language_info": {
   "codemirror_mode": {
    "name": "ipython",
    "version": 3
   },
   "file_extension": ".py",
   "mimetype": "text/x-python",
   "name": "python",
   "nbconvert_exporter": "python",
   "pygments_lexer": "ipython3",
   "version": "3.7.1"
  }
 },
 "nbformat": 4,
 "nbformat_minor": 2
}
