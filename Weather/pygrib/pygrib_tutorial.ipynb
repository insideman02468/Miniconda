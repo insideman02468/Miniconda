{
 "cells": [
  {
   "cell_type": "code",
   "execution_count": 1,
   "metadata": {},
   "outputs": [
    {
     "data": {
      "text/plain": [
       "2"
      ]
     },
     "execution_count": 1,
     "metadata": {},
     "output_type": "execute_result"
    }
   ],
   "source": [
    "import pygrib\n",
    "grbs = pygrib.open('sampledata/flux.grb')  \n",
    "grbs.seek(2)\n",
    "grbs.tell()"
   ]
  },
  {
   "cell_type": "markdown",
   "metadata": {},
   "source": [
    "### pygrib open instances behave like regular python file objects, with seek, tell, read, readline and close methods, except that offsets are measured in grib messages instead of bytes: "
   ]
  },
  {
   "cell_type": "code",
   "execution_count": 2,
   "metadata": {},
   "outputs": [
    {
     "data": {
      "text/plain": [
       "3:Maximum temperature:K (instant):regular_gg:heightAboveGround:level 2 m:fcst time 108-120 hrs:from 200402291200"
      ]
     },
     "execution_count": 2,
     "metadata": {},
     "output_type": "execute_result"
    }
   ],
   "source": [
    "grb = grbs.read(1)[0] # read returns a list with the next N (N=1 in this case) messages.\n",
    "grb # printing a grib message object displays summary info"
   ]
  },
  {
   "cell_type": "code",
   "execution_count": 3,
   "metadata": {},
   "outputs": [
    {
     "data": {
      "text/plain": [
       "3"
      ]
     },
     "execution_count": 3,
     "metadata": {},
     "output_type": "execute_result"
    }
   ],
   "source": [
    "grbs.tell()"
   ]
  },
  {
   "cell_type": "markdown",
   "metadata": {},
   "source": [
    "### print an inventory of the file: "
   ]
  },
  {
   "cell_type": "code",
   "execution_count": 4,
   "metadata": {},
   "outputs": [
    {
     "name": "stdout",
     "output_type": "stream",
     "text": [
      "1:Precipitation rate:kg m**-2 s**-1 (avg):regular_gg:surface:level 0:fcst time 108-120 hrs (avg):from 200402291200\n",
      "2:Surface pressure:Pa (instant):regular_gg:surface:level 0:fcst time 120 hrs:from 200402291200\n",
      "3:Maximum temperature:K (instant):regular_gg:heightAboveGround:level 2 m:fcst time 108-120 hrs:from 200402291200\n",
      "4:Minimum temperature:K (instant):regular_gg:heightAboveGround:level 2 m:fcst time 108-120 hrs:from 200402291200\n"
     ]
    }
   ],
   "source": [
    "grbs.seek(0)\n",
    "for grb in grbs:\n",
    "    print(grb)"
   ]
  },
  {
   "cell_type": "markdown",
   "metadata": {},
   "source": [
    "### find the first grib message with a matching name: "
   ]
  },
  {
   "cell_type": "code",
   "execution_count": 5,
   "metadata": {},
   "outputs": [
    {
     "data": {
      "text/plain": [
       "3:Maximum temperature:K (instant):regular_gg:heightAboveGround:level 2 m:fcst time 108-120 hrs:from 200402291200"
      ]
     },
     "execution_count": 5,
     "metadata": {},
     "output_type": "execute_result"
    }
   ],
   "source": [
    "grb = grbs.select(name='Maximum temperature')[0]\n",
    "grb"
   ]
  },
  {
   "cell_type": "markdown",
   "metadata": {},
   "source": [
    "### extract the data values using the 'values' key (grb.keys() will return a list of the available keys): "
   ]
  },
  {
   "cell_type": "code",
   "execution_count": 6,
   "metadata": {},
   "outputs": [
    {
     "name": "stdout",
     "output_type": "stream",
     "text": [
      "(94, 192) \n",
      " 223.70000000000002 \n",
      " 319.90000000000003 \n",
      "\n"
     ]
    }
   ],
   "source": [
    "# The data is returned as a numpy array, or if missing values or a bitmap\n",
    "# are present, a numpy masked array.  Reduced lat/lon or gaussian grid\n",
    "# data is automatically expanded to a regular grid. Details of the internal\n",
    "# representation of the grib data (such as the scanning mode) are handled\n",
    "# automatically.\n",
    "maxt = grb.values # same as grb['values']\n",
    "print(maxt.shape,\"\\n\", maxt.min(),\"\\n\" ,maxt.max(),\"\\n\")"
   ]
  },
  {
   "cell_type": "markdown",
   "metadata": {},
   "source": [
    "### get the latitudes and longitudes of the grid: "
   ]
  },
  {
   "cell_type": "code",
   "execution_count": 7,
   "metadata": {},
   "outputs": [
    {
     "name": "stdout",
     "output_type": "stream",
     "text": [
      "(94, 192) \n",
      " -88.54195013729753 \n",
      " 88.54195013729753 \n",
      " (94, 192) \n",
      " 0.0 \n",
      " 358.125 \n",
      "\n"
     ]
    }
   ],
   "source": [
    "lats, lons = grb.latlons()\n",
    "print(lats.shape,\"\\n\", lats.min(),\"\\n\", lats.max(),\"\\n\", lons.shape,\"\\n\",lons.min(),\"\\n\", lons.max(),\"\\n\")"
   ]
  },
  {
   "cell_type": "markdown",
   "metadata": {},
   "source": [
    "### get the second grib message: "
   ]
  },
  {
   "cell_type": "code",
   "execution_count": 8,
   "metadata": {},
   "outputs": [
    {
     "name": "stdout",
     "output_type": "stream",
     "text": [
      "2:Surface pressure:Pa (instant):regular_gg:surface:level 0:fcst time 120 hrs:from 200402291200\n"
     ]
    }
   ],
   "source": [
    "grb = grbs.message(2) # same as grbs.seek(1); grb=grbs.readline()\n",
    "print(grb)\n",
    "#print(dir(grb))"
   ]
  },
  {
   "cell_type": "markdown",
   "metadata": {},
   "source": [
    "### modify the values associated with existing keys (either via attribute or dictionary access): "
   ]
  },
  {
   "cell_type": "code",
   "execution_count": 9,
   "metadata": {},
   "outputs": [],
   "source": [
    "grb['forecastTime'] = 240\n",
    "grb.dataDate = 20100101"
   ]
  },
  {
   "cell_type": "markdown",
   "metadata": {},
   "source": [
    "### get the binary string associated with the coded message: "
   ]
  },
  {
   "cell_type": "code",
   "execution_count": 10,
   "metadata": {},
   "outputs": [],
   "source": [
    "msg = grb.tostring()\n",
    "grbs.close() # close the grib file."
   ]
  },
  {
   "cell_type": "markdown",
   "metadata": {},
   "source": [
    "### write the modified message to a new GRIB file: "
   ]
  },
  {
   "cell_type": "code",
   "execution_count": 11,
   "metadata": {},
   "outputs": [
    {
     "data": {
      "text/plain": [
       "1:Surface pressure:Pa (instant):regular_gg:surface:level 0:fcst time 240 hrs:from 201001011200"
      ]
     },
     "execution_count": 11,
     "metadata": {},
     "output_type": "execute_result"
    }
   ],
   "source": [
    "grbout = open('test.grb','wb')\n",
    "grbout.write(msg)\n",
    "grbout.close()\n",
    "pygrib.open('test.grb').readline() "
   ]
  }
 ],
 "metadata": {
  "kernelspec": {
   "display_name": "Python 3",
   "language": "python",
   "name": "python3"
  },
  "language_info": {
   "codemirror_mode": {
    "name": "ipython",
    "version": 3
   },
   "file_extension": ".py",
   "mimetype": "text/x-python",
   "name": "python",
   "nbconvert_exporter": "python",
   "pygments_lexer": "ipython3",
   "version": "3.7.1"
  }
 },
 "nbformat": 4,
 "nbformat_minor": 2
}
